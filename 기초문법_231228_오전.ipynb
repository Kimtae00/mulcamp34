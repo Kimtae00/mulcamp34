{
  "nbformat": 4,
  "nbformat_minor": 0,
  "metadata": {
    "colab": {
      "provenance": [],
      "authorship_tag": "ABX9TyM0JqidGgaOwlDWTUK/x2Pe",
      "include_colab_link": true
    },
    "kernelspec": {
      "name": "python3",
      "display_name": "Python 3"
    },
    "language_info": {
      "name": "python"
    }
  },
  "cells": [
    {
      "cell_type": "markdown",
      "metadata": {
        "id": "view-in-github",
        "colab_type": "text"
      },
      "source": [
        "<a href=\"https://colab.research.google.com/github/Kimtae00/mulcamp34/blob/lecture/%EA%B8%B0%EC%B4%88%EB%AC%B8%EB%B2%95_231228_%EC%98%A4%EC%A0%84.ipynb\" target=\"_parent\"><img src=\"https://colab.research.google.com/assets/colab-badge.svg\" alt=\"Open In Colab\"/></a>"
      ]
    },
    {
      "cell_type": "code",
      "execution_count": null,
      "metadata": {
        "id": "XS3c6c7MtrHc"
      },
      "outputs": [],
      "source": []
    },
    {
      "cell_type": "markdown",
      "source": [
        "# 12월 28일 (목) 오전\n"
      ],
      "metadata": {
        "id": "W9Ip_w90uJRZ"
      }
    },
    {
      "cell_type": "markdown",
      "source": [
        "## 문자열 함수"
      ],
      "metadata": {
        "id": "PvOmWLTyxJOn"
      }
    },
    {
      "cell_type": "markdown",
      "source": [
        "1. split() 메서드\n",
        "  + 특정 문자를 기준으로 문자열을 나눈 뒤, ***리스트*** 형태로 반환하는 함수\n",
        "  + 길이가 긴 문자열에 콤마와 같은 특정한 패턴이 있을 경우 유용하게 사용 가능"
      ],
      "metadata": {
        "id": "hKfa-ZJMzUqo"
      }
    },
    {
      "cell_type": "code",
      "source": [
        "coffee_menu_str = '에스프레소,아메리카노,카페라테,카푸치노'\n",
        "coffee_menu_str.split(',')"
      ],
      "metadata": {
        "colab": {
          "base_uri": "https://localhost:8080/"
        },
        "id": "Ik_ta9MLxN_V",
        "outputId": "b98bf172-4099-4426-aad0-53df490944d9"
      },
      "execution_count": 6,
      "outputs": [
        {
          "output_type": "execute_result",
          "data": {
            "text/plain": [
              "['에스프레소', '아메리카노', '카페라테', '카푸치노']"
            ]
          },
          "metadata": {},
          "execution_count": 6
        }
      ]
    },
    {
      "cell_type": "code",
      "source": [
        "# 문자열을 '공백'을 기준으로 분리\n",
        "'에스프레소 아메리카노 카페라테 카푸치노'.split(' ')"
      ],
      "metadata": {
        "colab": {
          "base_uri": "https://localhost:8080/"
        },
        "id": "IL9nQSWgzz61",
        "outputId": "2c0b1cf8-57db-4146-8a1f-e9c40f766d1b"
      },
      "execution_count": 5,
      "outputs": [
        {
          "output_type": "execute_result",
          "data": {
            "text/plain": [
              "['에스프레소', '아메리카노', '카페라테', '카푸치노']"
            ]
          },
          "metadata": {},
          "execution_count": 5
        }
      ]
    },
    {
      "cell_type": "code",
      "source": [
        "# Ex) .를 기준으로 분리\n",
        "menu = '김밥.볶음밥.라볶이.돈까스'.split('.')\n",
        "print(menu)\n",
        "\n",
        "# list 형태로 반환이 되기 때문에 인덱싱으로 접근이 가능함\n",
        "# 김밥을 출력\n",
        "menu[0]"
      ],
      "metadata": {
        "colab": {
          "base_uri": "https://localhost:8080/",
          "height": 54
        },
        "id": "p5I7_AXV0F18",
        "outputId": "c64dae1a-6ccf-4271-b43b-43553d176bf4"
      },
      "execution_count": 11,
      "outputs": [
        {
          "output_type": "stream",
          "name": "stdout",
          "text": [
            "['김밥', '볶음밥', '라볶이', '돈까스']\n"
          ]
        },
        {
          "output_type": "execute_result",
          "data": {
            "text/plain": [
              "'김밥'"
            ],
            "application/vnd.google.colaboratory.intrinsic+json": {
              "type": "string"
            }
          },
          "metadata": {},
          "execution_count": 11
        }
      ]
    },
    {
      "cell_type": "code",
      "source": [
        "phone_number = '+82-01-2345-6789'\n",
        "\n",
        "# +82만 추출하기\n",
        "phone_number = phone_number.split('-')\n",
        "print(phone_number[0])\n",
        "\n",
        "my_phone_num = '+82-010-1234-5678'\n",
        "# maxsplit, 매개변수 (arguments, parameters)\n",
        "print(my_phone_num.split('-', maxsplit=2))"
      ],
      "metadata": {
        "colab": {
          "base_uri": "https://localhost:8080/"
        },
        "id": "WXXqjfM90sAF",
        "outputId": "1386ea51-b299-4bbb-de17-9e818c398726"
      },
      "execution_count": 42,
      "outputs": [
        {
          "output_type": "stream",
          "name": "stdout",
          "text": [
            "+82\n",
            "['+82', '010', '1234-5678']\n"
          ]
        }
      ]
    },
    {
      "cell_type": "markdown",
      "source": [
        "2. strip() : 필요없는 문자열 삭제\n",
        "  - 앞뒤 공백 혹은 개행문자와 같이 불필요한 부분을 지우고 싶을 때 사용\n",
        "  - 반환 type은 문자열임.\n",
        "    - <class 'str'>\n",
        "  "
      ],
      "metadata": {
        "id": "jrxpKknf23Ut"
      }
    },
    {
      "cell_type": "code",
      "source": [
        "tempText = ' Python '\n",
        "tempText = tempText.strip()\n",
        "tempText"
      ],
      "metadata": {
        "colab": {
          "base_uri": "https://localhost:8080/"
        },
        "id": "LWYrEXwf3nS_",
        "outputId": "277d076f-691a-4e9e-c06e-fc084ff83cd3"
      },
      "execution_count": 19,
      "outputs": [
        {
          "output_type": "stream",
          "name": "stdout",
          "text": [
            "<class 'str'>\n"
          ]
        }
      ]
    },
    {
      "cell_type": "code",
      "source": [
        "data = 'aaaPythonaaa'\n",
        "# 불필요한 문자인 'a'만 제거하여 원하는 문자열을 구하기\n",
        "data = data.strip('a')\n",
        "data"
      ],
      "metadata": {
        "colab": {
          "base_uri": "https://localhost:8080/",
          "height": 36
        },
        "id": "oH8JHrJX4BbY",
        "outputId": "6c56c3d1-0938-4bc5-8f41-901334cfa996"
      },
      "execution_count": 28,
      "outputs": [
        {
          "output_type": "execute_result",
          "data": {
            "text/plain": [
              "'Python'"
            ],
            "application/vnd.google.colaboratory.intrinsic+json": {
              "type": "string"
            }
          },
          "metadata": {},
          "execution_count": 28
        }
      ]
    },
    {
      "cell_type": "code",
      "source": [
        "tempData = 'aaaaabbbPythonbbbaaaaab'\n",
        "# 한번에 'a'와 'b'가 들어간 문자열도 가공가능\n",
        "data = tempData.strip('ab')\n",
        "data"
      ],
      "metadata": {
        "colab": {
          "base_uri": "https://localhost:8080/",
          "height": 36
        },
        "id": "bJSK6iYS4hVC",
        "outputId": "5a11c523-f658-44d1-b1b0-8eded2d62054"
      },
      "execution_count": 29,
      "outputs": [
        {
          "output_type": "execute_result",
          "data": {
            "text/plain": [
              "'Python'"
            ],
            "application/vnd.google.colaboratory.intrinsic+json": {
              "type": "string"
            }
          },
          "metadata": {},
          "execution_count": 29
        }
      ]
    },
    {
      "cell_type": "code",
      "source": [
        "tempText = '\\n Python \\n\\n'\n",
        "# 공백과 개행문자 함께 제거하기 위해 앞에 공백을 추가\n",
        "tempText = tempText.strip(' \\n')\n",
        "tempText"
      ],
      "metadata": {
        "colab": {
          "base_uri": "https://localhost:8080/",
          "height": 36
        },
        "id": "9XVzPwob8_cO",
        "outputId": "74b8b648-4cf6-4d03-9326-4aa38d2e1101"
      },
      "execution_count": 33,
      "outputs": [
        {
          "output_type": "execute_result",
          "data": {
            "text/plain": [
              "'Python'"
            ],
            "application/vnd.google.colaboratory.intrinsic+json": {
              "type": "string"
            }
          },
          "metadata": {},
          "execution_count": 33
        }
      ]
    },
    {
      "cell_type": "code",
      "source": [
        "# lstrip(). 해당 텍스트의 왼쪽만 처리\n",
        "# rstrip(). 해당 텍스트의 오른쪽만 처리\n",
        "\n",
        "temp = ' ~ Python ~ '\n",
        "temp = temp.lstrip(' ~')\n",
        "temp"
      ],
      "metadata": {
        "colab": {
          "base_uri": "https://localhost:8080/",
          "height": 36
        },
        "id": "4CA6uevB9q1C",
        "outputId": "b4621504-d290-46c2-92a8-bac383ccff79"
      },
      "execution_count": 35,
      "outputs": [
        {
          "output_type": "execute_result",
          "data": {
            "text/plain": [
              "'Python ~ '"
            ],
            "application/vnd.google.colaboratory.intrinsic+json": {
              "type": "string"
            }
          },
          "metadata": {},
          "execution_count": 35
        }
      ]
    },
    {
      "cell_type": "markdown",
      "source": [
        "3. join() : 문자열을 연결하는 메서드\n",
        "  - 더하기 연산자(+)로 두 문자열을 연결 가능\n"
      ],
      "metadata": {
        "id": "T7dnX-je-Awa"
      }
    },
    {
      "cell_type": "code",
      "source": [
        "name1 = '철수'\n",
        "name2 = '영미'\n",
        "\n",
        "hello = '님, 주소와 전화 번호를 입력해 주세요'\n",
        "\n",
        "# 1. '+' 연산자를 이용하여 문자열 연결하기\n",
        "print(name1 + hello)"
      ],
      "metadata": {
        "colab": {
          "base_uri": "https://localhost:8080/"
        },
        "id": "hg0IjpEL9_kX",
        "outputId": "ec3cbfc3-6c4e-43ff-a2d5-ffaf79f757b1"
      },
      "execution_count": 53,
      "outputs": [
        {
          "output_type": "stream",
          "name": "stdout",
          "text": [
            "철수님, 주소와 전화 번호를 입력해 주세요\n"
          ]
        }
      ]
    },
    {
      "cell_type": "code",
      "source": [
        "addresslist = ['서울시', '서초구', '반포대로', '201(반포동)']\n",
        "\n",
        "# 리스트의 각 원소들을 모두 연결해서 하나의 텍스트로 만들기\n",
        "\n",
        "# 공백을 기준으로 문자열을 연결하고 싶은 경우\n",
        "a = \" \"\n",
        "print(a.join(addresslist))\n",
        "\n",
        "# '-'를 기준으로 문자열을 연결하고 싶은 경우\n",
        "a = \"-\"\n",
        "print(a.join(addresslist))"
      ],
      "metadata": {
        "colab": {
          "base_uri": "https://localhost:8080/"
        },
        "id": "UESmwkRY-2P1",
        "outputId": "29321d0e-f0e1-4bbf-89f8-97e91b8404cc"
      },
      "execution_count": 41,
      "outputs": [
        {
          "output_type": "stream",
          "name": "stdout",
          "text": [
            "서울시 서초구 반포대로 201(반포동)\n",
            "서울시-서초구-반포대로-201(반포동)\n"
          ]
        }
      ]
    },
    {
      "cell_type": "markdown",
      "source": [
        "4. find() : 문자열을 찾는 메서드\n",
        "  - 문자열의 \"**시작하는**\" 위치 값(인덱스)을 반환\n",
        "  - 존재하지 않는 문자인 경우 '-1'을 반환"
      ],
      "metadata": {
        "id": "MQtHOyaL_-7E"
      }
    },
    {
      "cell_type": "code",
      "source": [
        "str_f = 'Python code.'\n",
        "print('찾는 문자열의 위치:', str_f.find('Python'))\n",
        "print('찾는 문자열의 위치:', str_f.find('Java'))"
      ],
      "metadata": {
        "colab": {
          "base_uri": "https://localhost:8080/"
        },
        "id": "yXgw9opcAD1n",
        "outputId": "9b20338f-eeb2-468e-a8fc-ded4482c9edf"
      },
      "execution_count": 46,
      "outputs": [
        {
          "output_type": "stream",
          "name": "stdout",
          "text": [
            "찾는 문자열의 위치: 0\n",
            "찾는 문자열의 위치: -1\n"
          ]
        }
      ]
    },
    {
      "cell_type": "markdown",
      "source": [
        "5. count() : 찾고자 하는 문자열의 횟수 반환\n",
        "  - 만약, 찾을 문자열이 없으면 0으로 반환\n",
        "    + count가 안되기 때문."
      ],
      "metadata": {
        "id": "q0F9oOG7DhBr"
      }
    },
    {
      "cell_type": "code",
      "source": [
        "str_c = 'Python is powerful, Python is easy to learn. Python is open'\n",
        "print('Python의 갯수는?', str_c.count('Python'))\n",
        "print('Java의 갯수는?', str_c.count('Java'))"
      ],
      "metadata": {
        "colab": {
          "base_uri": "https://localhost:8080/"
        },
        "id": "dTXSXifUDpki",
        "outputId": "ed1a969e-36be-4870-9b95-4297bba3132c"
      },
      "execution_count": 48,
      "outputs": [
        {
          "output_type": "stream",
          "name": "stdout",
          "text": [
            "Python의 갯수는? 3\n",
            "Java의 갯수는? 0\n"
          ]
        }
      ]
    },
    {
      "cell_type": "markdown",
      "source": [
        "6. startswith, endswith : 각 문자열이 지정된 문자로 시작하는지 또는 끝나는지 체크(검사) 할 때 사용"
      ],
      "metadata": {
        "id": "xvKGDxqAD7Ug"
      }
    },
    {
      "cell_type": "code",
      "source": [
        "str_c = 'Python is powerful, Python is easy to learn. Python is open'\n",
        "print('Python으로 시작?', str_c.startswith('Python'))\n",
        "print('is로 시작?', str_c.startswith('is'))\n",
        "print('Python으로 끝?', str_c.endswith('Python'))\n",
        "print('open으로 끝?', str_c.endswith('open'))"
      ],
      "metadata": {
        "colab": {
          "base_uri": "https://localhost:8080/"
        },
        "id": "1G9HbMFiEF4V",
        "outputId": "fb2a580d-2ea4-40fe-e082-ed7798a26b83"
      },
      "execution_count": 50,
      "outputs": [
        {
          "output_type": "stream",
          "name": "stdout",
          "text": [
            "Python으로 시작? True\n",
            "is로 시작? False\n",
            "Python으로 끝? False\n",
            "open으로 끝? True\n"
          ]
        }
      ]
    },
    {
      "cell_type": "markdown",
      "source": [
        "7. replace() : 문자열 바꾸기\n",
        "  - 지정한 문자열을 찾아서 바꾸는 메서드"
      ],
      "metadata": {
        "id": "zMC5fDipE9SJ"
      }
    },
    {
      "cell_type": "code",
      "source": [
        "str_a = 'Python is fast. Python is friendly. Python is open.'\n",
        "\n",
        "# Python -> Ipython 변경하기\n",
        "str_a.replace('Python', 'IPython')"
      ],
      "metadata": {
        "colab": {
          "base_uri": "https://localhost:8080/",
          "height": 36
        },
        "id": "DVb7oyCYFBdw",
        "outputId": "8c2d6f08-bdee-4199-f0f6-8ae7f729b8f2"
      },
      "execution_count": 57,
      "outputs": [
        {
          "output_type": "execute_result",
          "data": {
            "text/plain": [
              "'IPython is fast. IPython is friendly. IPython is open.'"
            ],
            "application/vnd.google.colaboratory.intrinsic+json": {
              "type": "string"
            }
          },
          "metadata": {},
          "execution_count": 57
        }
      ]
    },
    {
      "cell_type": "code",
      "source": [
        "str_b = '[Python][is][fast]'\n",
        "str_b = str_b.replace('[', '')\n",
        "str_b = str_b.replace(']', ' ')\n",
        "\n",
        "str_b = str_b.rstrip(' ')\n",
        "str_b"
      ],
      "metadata": {
        "colab": {
          "base_uri": "https://localhost:8080/",
          "height": 36
        },
        "id": "48zzwREYFmam",
        "outputId": "70d461d2-d60d-4ea2-98bd-83759da6697d"
      },
      "execution_count": 70,
      "outputs": [
        {
          "output_type": "execute_result",
          "data": {
            "text/plain": [
              "'Python is fast'"
            ],
            "application/vnd.google.colaboratory.intrinsic+json": {
              "type": "string"
            }
          },
          "metadata": {},
          "execution_count": 70
        }
      ]
    },
    {
      "cell_type": "markdown",
      "source": [
        "## 리스트 함수"
      ],
      "metadata": {
        "id": "uFdBqSm-xPFU"
      }
    },
    {
      "cell_type": "markdown",
      "source": [
        "1. append()\n",
        "  - list에서 원소 하나를 맨 마지막에 추가"
      ],
      "metadata": {
        "id": "iE_F96XJLgXj"
      }
    },
    {
      "cell_type": "code",
      "source": [
        "myFriends = ['James', 'Robert', 'Lisa', 'Mary']\n",
        "myFriends.append('Tom')\n",
        "print(myFriends)"
      ],
      "metadata": {
        "colab": {
          "base_uri": "https://localhost:8080/"
        },
        "id": "IWcW6yRjxS_j",
        "outputId": "b3d784e4-62ee-40c4-af3b-2b8da1da3bea"
      },
      "execution_count": 73,
      "outputs": [
        {
          "output_type": "stream",
          "name": "stdout",
          "text": [
            "['James', 'Robert', 'Lisa', 'Mary', 'Tom']\n"
          ]
        }
      ]
    },
    {
      "cell_type": "markdown",
      "source": [
        "2. extend()\n",
        "  - 리스트에서 항목 여러 개를 맨 마지막에 추가"
      ],
      "metadata": {
        "id": "XwerRSRdOFHP"
      }
    },
    {
      "cell_type": "code",
      "source": [
        "myFriends = ['James', 'Robert', 'Lisa', 'Mary']\n",
        "myFriends.append('Tom')\n",
        "\n",
        "newFriends = ['A', 'B', 'C']\n",
        "# myFriends.append(newFriends)\n",
        "myFriends.extend(newFriends)\n",
        "myFriends"
      ],
      "metadata": {
        "colab": {
          "base_uri": "https://localhost:8080/"
        },
        "id": "8QRMUDIEOFle",
        "outputId": "8920b26e-6312-45a7-805b-1bf507079b37"
      },
      "execution_count": 75,
      "outputs": [
        {
          "output_type": "execute_result",
          "data": {
            "text/plain": [
              "['James', 'Robert', 'Lisa', 'Mary', 'Tom', 'A', 'B', 'C']"
            ]
          },
          "metadata": {},
          "execution_count": 75
        }
      ]
    },
    {
      "cell_type": "markdown",
      "source": [
        "3. insert()\n",
        "  - 항목의 위치를 나타내는 인덱스 i에 data를 삽입"
      ],
      "metadata": {
        "id": "4OUAC1TGOGPp"
      }
    },
    {
      "cell_type": "code",
      "source": [
        "myFriends = ['James', 'Robert', 'Lisa', 'Mary']\n",
        "myFriends.insert(1, 'Vamos')\n",
        "print(myFriends)"
      ],
      "metadata": {
        "colab": {
          "base_uri": "https://localhost:8080/"
        },
        "id": "JAB67fZpOGrB",
        "outputId": "ee514670-0f4e-4862-b139-4d676c1fd9fd"
      },
      "execution_count": 78,
      "outputs": [
        {
          "output_type": "stream",
          "name": "stdout",
          "text": [
            "['James', 'Vamos', 'Robert', 'Lisa', 'Mary']\n"
          ]
        }
      ]
    }
  ]
}