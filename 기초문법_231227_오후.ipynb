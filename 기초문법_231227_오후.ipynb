{
  "nbformat": 4,
  "nbformat_minor": 0,
  "metadata": {
    "colab": {
      "provenance": [],
      "toc_visible": true,
      "authorship_tag": "ABX9TyMrgsg9DuGRGaMkqu29lfj4",
      "include_colab_link": true
    },
    "kernelspec": {
      "name": "python3",
      "display_name": "Python 3"
    },
    "language_info": {
      "name": "python"
    }
  },
  "cells": [
    {
      "cell_type": "markdown",
      "metadata": {
        "id": "view-in-github",
        "colab_type": "text"
      },
      "source": [
        "<a href=\"https://colab.research.google.com/github/Kimtae00/mulcamp34/blob/lecture/%EA%B8%B0%EC%B4%88%EB%AC%B8%EB%B2%95_231227_%EC%98%A4%ED%9B%84.ipynb\" target=\"_parent\"><img src=\"https://colab.research.google.com/assets/colab-badge.svg\" alt=\"Open In Colab\"/></a>"
      ]
    },
    {
      "cell_type": "markdown",
      "source": [],
      "metadata": {
        "id": "VFztxySUe6ns"
      }
    },
    {
      "cell_type": "markdown",
      "source": [
        "# Chapter 4.변수와 자료형\n"
      ],
      "metadata": {
        "id": "722sfpcIe8sO"
      }
    },
    {
      "cell_type": "markdown",
      "source": [
        "## 변수 (p. 42)\n",
        "### 변수란?\n",
        "#### \"변하는 수\""
      ],
      "metadata": {
        "id": "7Xto3k-cfEW4"
      }
    },
    {
      "cell_type": "code",
      "source": [
        "test = 1 # test라는 변수에 1을 저장\n",
        "print(test)"
      ],
      "metadata": {
        "colab": {
          "base_uri": "https://localhost:8080/"
        },
        "id": "wkfovG_QfI6A",
        "outputId": "4fb5570a-17a2-46f5-bc74-179a4f65d156"
      },
      "execution_count": 5,
      "outputs": [
        {
          "output_type": "stream",
          "name": "stdout",
          "text": [
            "1\n"
          ]
        }
      ]
    },
    {
      "cell_type": "code",
      "source": [
        "test = 2 # 1이 저장되어 있는 test 변수의 값을 '2'로 변경\n",
        "print(test)"
      ],
      "metadata": {
        "colab": {
          "base_uri": "https://localhost:8080/"
        },
        "id": "86oq-9c-fTng",
        "outputId": "38f36749-0a0f-4706-f60f-c0799fa8f72a"
      },
      "execution_count": 6,
      "outputs": [
        {
          "output_type": "stream",
          "name": "stdout",
          "text": [
            "2\n"
          ]
        }
      ]
    },
    {
      "cell_type": "markdown",
      "source": [
        "## 변수명 짓기 규칙\n",
        "- Snake, Camel"
      ],
      "metadata": {
        "id": "leb9XEbXhJoI"
      }
    },
    {
      "cell_type": "code",
      "source": [
        "# Snake\n",
        "num_a = 100\n",
        "num_b = 110\n",
        "\n",
        "# Camel\n",
        "myStudent = \"even\"\n",
        "mySchool = \"KAU\"\n",
        "\n",
        "# 주의해야하는 사항\n",
        "# 숫자로 시작하면 안됨\n",
        "# 3star = \"이장군\""
      ],
      "metadata": {
        "id": "udw--Li5hWS3"
      },
      "execution_count": 8,
      "outputs": []
    },
    {
      "cell_type": "code",
      "source": [],
      "metadata": {
        "id": "ekMqEsWrhgwS"
      },
      "execution_count": null,
      "outputs": []
    },
    {
      "cell_type": "markdown",
      "source": [
        "## 예약어는 변수명으로 이용할 수 없음\n",
        "- (p. 45)\n",
        "- print, none, not, etc"
      ],
      "metadata": {
        "id": "4ICbH6-AlXtB"
      }
    },
    {
      "cell_type": "markdown",
      "source": [
        "## 변수 <-> 상수\n",
        "- 한번 지정 후, 변하지 않는 고정 값"
      ],
      "metadata": {
        "id": "rrPvXxBLlnAb"
      }
    },
    {
      "cell_type": "code",
      "source": [
        "# 상수\n",
        "pi = 3.14"
      ],
      "metadata": {
        "id": "fZV7YkRxl022"
      },
      "execution_count": null,
      "outputs": []
    },
    {
      "cell_type": "code",
      "source": [
        "# 실제 변수를 만들어보기\n",
        "num1 = int(input(\"숫자를 입력해주세요! \"))\n",
        "num2 = int(input(\"숫자를 입력해주세요! \"))\n",
        "\n",
        "print(num1, num2)"
      ],
      "metadata": {
        "colab": {
          "base_uri": "https://localhost:8080/"
        },
        "id": "wPgUaQU7l4U-",
        "outputId": "cc93879d-d10a-48d2-ec03-b03596462098"
      },
      "execution_count": 15,
      "outputs": [
        {
          "output_type": "stream",
          "name": "stdout",
          "text": [
            "숫자를 입력해주세요! 20\n",
            "숫자를 입력해주세요! 100\n",
            "20 100\n"
          ]
        }
      ]
    },
    {
      "cell_type": "code",
      "source": [
        "print(num1+num2)"
      ],
      "metadata": {
        "colab": {
          "base_uri": "https://localhost:8080/"
        },
        "id": "k4siGON6mCND",
        "outputId": "e87ecb0e-95ec-4864-bc84-5871aae35c23"
      },
      "execution_count": 13,
      "outputs": [
        {
          "output_type": "stream",
          "name": "stdout",
          "text": [
            "110\n"
          ]
        }
      ]
    },
    {
      "cell_type": "code",
      "source": [
        "type(num1)"
      ],
      "metadata": {
        "colab": {
          "base_uri": "https://localhost:8080/"
        },
        "id": "Nt7macHrsOKD",
        "outputId": "aee13720-d4f1-4446-86cf-c3da14c5bf0f"
      },
      "execution_count": 14,
      "outputs": [
        {
          "output_type": "execute_result",
          "data": {
            "text/plain": [
              "int"
            ]
          },
          "metadata": {},
          "execution_count": 14
        }
      ]
    },
    {
      "cell_type": "markdown",
      "source": [
        "## 문자열\n",
        "- \"\"(큰 따옴표) 또는 ''(작은 따옴표) 지정\n",
        "+ 작은 따옴표 선호"
      ],
      "metadata": {
        "id": "TJx0sbpZxYsN"
      }
    },
    {
      "cell_type": "code",
      "source": [
        "string3 = 'This is a \"double\" quotation'\n",
        "print(string3)"
      ],
      "metadata": {
        "colab": {
          "base_uri": "https://localhost:8080/"
        },
        "id": "FAHEWNAHxlS9",
        "outputId": "53d86cc0-c96d-4cd4-9941-fb9d9bb4d3b0"
      },
      "execution_count": 17,
      "outputs": [
        {
          "output_type": "stream",
          "name": "stdout",
          "text": [
            "This is a \"double\" quotation\n"
          ]
        }
      ]
    },
    {
      "cell_type": "code",
      "source": [],
      "metadata": {
        "id": "f_et94WPyNa_"
      },
      "execution_count": null,
      "outputs": []
    },
    {
      "cell_type": "markdown",
      "source": [
        "## 리스트 (List)\n",
        "- 가장 중요한 자료형\n",
        "- 다른 프로그래밍 언어에서는 배열(Array)\n",
        "- 예시\n",
        "  + 1반의 과목별 수학 점수\n",
        "- 다중의 데이터를 묶는다"
      ],
      "metadata": {
        "id": "8niRik8w4JH7"
      }
    },
    {
      "cell_type": "code",
      "source": [
        "# 1번 학생의 국어, 영어, 수학, 과학\n",
        "student1 = [90, 95, 85, 80]\n",
        "student1"
      ],
      "metadata": {
        "colab": {
          "base_uri": "https://localhost:8080/"
        },
        "id": "0rrS6BCf4Nat",
        "outputId": "b7a2e2a7-a4b0-4dc4-e867-f0d518e0e4e5"
      },
      "execution_count": 18,
      "outputs": [
        {
          "output_type": "execute_result",
          "data": {
            "text/plain": [
              "[90, 95, 85, 80]"
            ]
          },
          "metadata": {},
          "execution_count": 18
        }
      ]
    },
    {
      "cell_type": "code",
      "source": [
        "print(type(student1))"
      ],
      "metadata": {
        "colab": {
          "base_uri": "https://localhost:8080/"
        },
        "id": "UncWe8nH5lHi",
        "outputId": "ce288d4c-dd00-4962-a1d3-65230e85d561"
      },
      "execution_count": 19,
      "outputs": [
        {
          "output_type": "stream",
          "name": "stdout",
          "text": [
            "<class 'list'>\n"
          ]
        }
      ]
    },
    {
      "cell_type": "markdown",
      "source": [
        "## 인덱싱\n",
        "- 리스트에서 특정 데이터에 접근\n",
        "- 0부터 시작함.\n",
        "- Ex) student = [90, 85, 88, 82]\n",
        "      student[0] = 90"
      ],
      "metadata": {
        "id": "pnoFH7q2539p"
      }
    },
    {
      "cell_type": "code",
      "source": [
        "student1"
      ],
      "metadata": {
        "colab": {
          "base_uri": "https://localhost:8080/"
        },
        "id": "DVOEt1rm59ha",
        "outputId": "fdb6987c-1258-42c4-bbb2-44ff2a3f9320"
      },
      "execution_count": 20,
      "outputs": [
        {
          "output_type": "execute_result",
          "data": {
            "text/plain": [
              "[90, 95, 85, 80]"
            ]
          },
          "metadata": {},
          "execution_count": 20
        }
      ]
    },
    {
      "cell_type": "code",
      "source": [
        "student1[0:4:2]"
      ],
      "metadata": {
        "colab": {
          "base_uri": "https://localhost:8080/"
        },
        "id": "0rtJunTD5-OS",
        "outputId": "d9cdd3e6-1d66-49d2-c9a2-278d19d702a2"
      },
      "execution_count": 25,
      "outputs": [
        {
          "output_type": "execute_result",
          "data": {
            "text/plain": [
              "[90, 85]"
            ]
          },
          "metadata": {},
          "execution_count": 25
        }
      ]
    },
    {
      "cell_type": "code",
      "source": [
        "greeting = 'Hello, Python'\n",
        "# hello만 추출\n",
        "greeting[0:5]"
      ],
      "metadata": {
        "colab": {
          "base_uri": "https://localhost:8080/",
          "height": 36
        },
        "id": "dMFRe7mZ6BIX",
        "outputId": "a6d8000c-4b4f-42a8-be6d-778c9353761a"
      },
      "execution_count": 79,
      "outputs": [
        {
          "output_type": "execute_result",
          "data": {
            "text/plain": [
              "'Hello'"
            ],
            "application/vnd.google.colaboratory.intrinsic+json": {
              "type": "string"
            }
          },
          "metadata": {},
          "execution_count": 79
        }
      ]
    },
    {
      "cell_type": "markdown",
      "source": [
        "### 리스트 수정, 삭제"
      ],
      "metadata": {
        "id": "qr7EWGnm8k7g"
      }
    },
    {
      "cell_type": "code",
      "source": [
        "# 새로운 데이터 할당, 0번째 인덱스\n",
        "student1[0] = 100\n",
        "# 변경 후 값 출력\n",
        "student1"
      ],
      "metadata": {
        "colab": {
          "base_uri": "https://localhost:8080/"
        },
        "id": "2q6RGIPl8oJ4",
        "outputId": "e2bea10e-3766-4297-da20-c1288520ec74"
      },
      "execution_count": 27,
      "outputs": [
        {
          "output_type": "execute_result",
          "data": {
            "text/plain": [
              "[100, 95, 85, 80]"
            ]
          },
          "metadata": {},
          "execution_count": 27
        }
      ]
    },
    {
      "cell_type": "code",
      "source": [
        "myFriends = ['sam', 'john', 'siera', 'molta']\n",
        "myFriends"
      ],
      "metadata": {
        "colab": {
          "base_uri": "https://localhost:8080/"
        },
        "id": "hDhF0pxj8zyy",
        "outputId": "94bcfe3b-ca20-4dca-ec58-dcf2ae566418"
      },
      "execution_count": 52,
      "outputs": [
        {
          "output_type": "execute_result",
          "data": {
            "text/plain": [
              "['sam', 'john', 'siera', 'molta']"
            ]
          },
          "metadata": {},
          "execution_count": 52
        }
      ]
    },
    {
      "cell_type": "code",
      "source": [
        "# List에 특정 원소를 추가하기\n",
        "myFriends.append('teddy')\n",
        "myFriends"
      ],
      "metadata": {
        "colab": {
          "base_uri": "https://localhost:8080/"
        },
        "id": "rVDby9PH9HFY",
        "outputId": "6a26832b-1087-4620-8762-8c1926d8163e"
      },
      "execution_count": 53,
      "outputs": [
        {
          "output_type": "execute_result",
          "data": {
            "text/plain": [
              "['sam', 'john', 'siera', 'molta', 'teddy']"
            ]
          },
          "metadata": {},
          "execution_count": 53
        }
      ]
    },
    {
      "cell_type": "code",
      "source": [
        "# List에서 특정 원소를 삭제하기\n",
        "myFriends.remove('siera')\n",
        "myFriends"
      ],
      "metadata": {
        "colab": {
          "base_uri": "https://localhost:8080/"
        },
        "id": "cLkNsIEv9KG7",
        "outputId": "a489b34b-b6cf-4e40-8d1c-a61991735bcc"
      },
      "execution_count": 54,
      "outputs": [
        {
          "output_type": "execute_result",
          "data": {
            "text/plain": [
              "['sam', 'john', 'molta', 'teddy']"
            ]
          },
          "metadata": {},
          "execution_count": 54
        }
      ]
    },
    {
      "cell_type": "code",
      "source": [
        "# append 메소드를 사용하지 않고 List의 덧셈으로 표현 가능함.\n",
        "temp = ['Kim']\n",
        "myFriends = myFriends + temp\n",
        "myFriends"
      ],
      "metadata": {
        "colab": {
          "base_uri": "https://localhost:8080/"
        },
        "id": "D7drpHC49zAB",
        "outputId": "87ae83ed-f896-4dc6-b77a-84787de9c812"
      },
      "execution_count": 55,
      "outputs": [
        {
          "output_type": "execute_result",
          "data": {
            "text/plain": [
              "['sam', 'john', 'molta', 'teddy', 'Kim']"
            ]
          },
          "metadata": {},
          "execution_count": 55
        }
      ]
    },
    {
      "cell_type": "code",
      "source": [
        "myNumbers = [1]\n",
        "myNumbers = myNumbers * 3\n",
        "myNumbers"
      ],
      "metadata": {
        "colab": {
          "base_uri": "https://localhost:8080/"
        },
        "id": "pjSbSw1y-fH8",
        "outputId": "7265bfbd-c8d6-45cb-cf89-03c2019651f7"
      },
      "execution_count": 57,
      "outputs": [
        {
          "output_type": "execute_result",
          "data": {
            "text/plain": [
              "[1, 1, 1]"
            ]
          },
          "metadata": {},
          "execution_count": 57
        }
      ]
    },
    {
      "cell_type": "code",
      "source": [],
      "metadata": {
        "id": "D6SLzxkh-q-e"
      },
      "execution_count": null,
      "outputs": []
    },
    {
      "cell_type": "markdown",
      "source": [
        "## List는 타입이 달라도 문제가 되지 않는다."
      ],
      "metadata": {
        "id": "IxVUV5IC_Q3r"
      }
    },
    {
      "cell_type": "code",
      "source": [
        "mixed = [0, 2, 3.14, 'python', True, myFriends]\n",
        "mixed"
      ],
      "metadata": {
        "colab": {
          "base_uri": "https://localhost:8080/"
        },
        "id": "s_p5WPNl_VbJ",
        "outputId": "ee2e8471-f5c1-493a-c4d5-2032083fa3dd"
      },
      "execution_count": 58,
      "outputs": [
        {
          "output_type": "execute_result",
          "data": {
            "text/plain": [
              "[0, 2, 3.14, 'python', True, ['sam', 'john', 'molta', 'teddy', 'Kim']]"
            ]
          },
          "metadata": {},
          "execution_count": 58
        }
      ]
    },
    {
      "cell_type": "code",
      "source": [
        "print(mixed[-1][1][0])"
      ],
      "metadata": {
        "colab": {
          "base_uri": "https://localhost:8080/"
        },
        "id": "pPquOU95_hIO",
        "outputId": "2229e3d1-35b7-4b5d-90a4-c851c8f0ba6f"
      },
      "execution_count": 62,
      "outputs": [
        {
          "output_type": "stream",
          "name": "stdout",
          "text": [
            "j\n"
          ]
        }
      ]
    },
    {
      "cell_type": "markdown",
      "source": [
        "## 슬라이싱\n",
        "- 문자열, 리스트 그 외 파이썬 거의 대부분 자료형 원리 동일 적용"
      ],
      "metadata": {
        "id": "-q-hC5aiGDT0"
      }
    },
    {
      "cell_type": "code",
      "source": [
        "# 예시 데이터\n",
        "list_data = [0, 1, 2, 3, 4, 5, 6, 7, 8, 9]\n",
        "print(list_data)"
      ],
      "metadata": {
        "colab": {
          "base_uri": "https://localhost:8080/"
        },
        "id": "A_tGuAJPGKhH",
        "outputId": "ed3be2b7-4c65-49a1-a26c-afbfd10ed653"
      },
      "execution_count": 76,
      "outputs": [
        {
          "output_type": "stream",
          "name": "stdout",
          "text": [
            "[0, 1, 2, 3, 4, 5, 6, 7, 8, 9]\n"
          ]
        }
      ]
    },
    {
      "cell_type": "code",
      "source": [
        "# 0, 1, 2, 3, 4, 5 데이터만 가져오기\n",
        "print(list_data[0:6])"
      ],
      "metadata": {
        "colab": {
          "base_uri": "https://localhost:8080/"
        },
        "id": "rplZ3OsQGRrb",
        "outputId": "8eebcfe0-3373-4f04-908b-657e2527b691"
      },
      "execution_count": 77,
      "outputs": [
        {
          "output_type": "stream",
          "name": "stdout",
          "text": [
            "[0, 1, 2, 3, 4, 5]\n"
          ]
        }
      ]
    },
    {
      "cell_type": "code",
      "source": [
        "# 짝수 데이터 가져오기\n",
        "print(list_data[::2])"
      ],
      "metadata": {
        "colab": {
          "base_uri": "https://localhost:8080/"
        },
        "id": "6AG5DOeqGUlB",
        "outputId": "ffb3f46a-f1e4-4bb0-a7e5-4c7cb52ed0d4"
      },
      "execution_count": 85,
      "outputs": [
        {
          "output_type": "stream",
          "name": "stdout",
          "text": [
            "[0, 2, 4, 6, 8]\n"
          ]
        }
      ]
    },
    {
      "cell_type": "code",
      "source": [
        "greeting = 'Hello, Python'\n",
        "# hello만 추출\n",
        "print(greeting[0:5])"
      ],
      "metadata": {
        "colab": {
          "base_uri": "https://localhost:8080/"
        },
        "id": "AmNtu9q3GaNd",
        "outputId": "eb2ae8fe-20dd-45bb-f028-0c2c08c604e3"
      },
      "execution_count": 86,
      "outputs": [
        {
          "output_type": "stream",
          "name": "stdout",
          "text": [
            "Hello\n"
          ]
        }
      ]
    },
    {
      "cell_type": "code",
      "source": [
        "# 4부터 끝까지 가져오기\n",
        "print(list_data[4:])"
      ],
      "metadata": {
        "colab": {
          "base_uri": "https://localhost:8080/"
        },
        "id": "ObFKToDaIDYL",
        "outputId": "8600b51b-bbe0-4da7-97ee-f14f497cb08f"
      },
      "execution_count": 83,
      "outputs": [
        {
          "output_type": "stream",
          "name": "stdout",
          "text": [
            "[4, 5, 6, 7, 8, 9]\n"
          ]
        }
      ]
    },
    {
      "cell_type": "code",
      "source": [
        "# 슬라이싱을 이용하여 모든 데이터 가져오기\n",
        "print(list_data[:])"
      ],
      "metadata": {
        "colab": {
          "base_uri": "https://localhost:8080/"
        },
        "id": "awVXcel4IPH7",
        "outputId": "333a197e-4039-4bb0-d342-d40725064a9c"
      },
      "execution_count": 84,
      "outputs": [
        {
          "output_type": "stream",
          "name": "stdout",
          "text": [
            "[0, 1, 2, 3, 4, 5, 6, 7, 8, 9]\n"
          ]
        }
      ]
    },
    {
      "cell_type": "code",
      "source": [
        "# step을 이용하여 홀수만 출력\n",
        "print(list_data[1::2])"
      ],
      "metadata": {
        "colab": {
          "base_uri": "https://localhost:8080/"
        },
        "id": "G_E6jTJeIbqf",
        "outputId": "6c96281e-0cd3-469a-f5fd-174d24458bfc"
      },
      "execution_count": 89,
      "outputs": [
        {
          "output_type": "stream",
          "name": "stdout",
          "text": [
            "[1, 3, 5, 7, 9]\n"
          ]
        }
      ]
    },
    {
      "cell_type": "markdown",
      "source": [
        "## 튜플(Tuple)\n",
        "- 면접 질문 가능성이 높음.\n",
        "  + list vs tuple\n",
        "- list와 유사하지만, 차이가 있음"
      ],
      "metadata": {
        "id": "oS7CTH5vKSEb"
      }
    },
    {
      "cell_type": "code",
      "source": [
        "tuple1 = (1, 2, 3, 4)\n",
        "print(tuple1)\n",
        "# <class 'tuple'>\n",
        "print(type(tuple1))"
      ],
      "metadata": {
        "colab": {
          "base_uri": "https://localhost:8080/"
        },
        "id": "LFGBCn_hL7Ga",
        "outputId": "af494e69-74b6-4590-d50e-d86f86776492"
      },
      "execution_count": 92,
      "outputs": [
        {
          "output_type": "stream",
          "name": "stdout",
          "text": [
            "(1, 2, 3, 4)\n",
            "<class 'tuple'>\n"
          ]
        }
      ]
    },
    {
      "cell_type": "markdown",
      "source": [
        "### 유사점\n",
        "- 인덱싱과 슬라이싱이 리스트, 문자열과 동일\n"
      ],
      "metadata": {
        "id": "GWQLToWTMVcY"
      }
    },
    {
      "cell_type": "code",
      "source": [
        "tuple_data = (0, 1, 2, 3, 4, 5, 6, 7, 8, 9)\n",
        "print(tuple_data[::2])\n",
        "print(tuple_data[0:-1])\n",
        "print(tuple_data[0:-1:2])\n",
        "print(tuple_data[1::2])"
      ],
      "metadata": {
        "colab": {
          "base_uri": "https://localhost:8080/"
        },
        "id": "6S7WB03AML5T",
        "outputId": "821cdf01-c515-46f3-c245-23ebdd3fec3f"
      },
      "execution_count": 98,
      "outputs": [
        {
          "output_type": "stream",
          "name": "stdout",
          "text": [
            "(0, 2, 4, 6, 8)\n",
            "(0, 1, 2, 3, 4, 5, 6, 7, 8)\n",
            "(0, 2, 4, 6, 8)\n",
            "(1, 3, 5, 7, 9)\n"
          ]
        }
      ]
    },
    {
      "cell_type": "markdown",
      "source": [
        "### 차이점\n",
        "- tuple은 원소의 값을 수정, 삭제가 불가능함.\n",
        "  + del temp[2]: 2번째 인덱스 위치의 값을 삭제한다.\n",
        "  + tuple의 경우 append, remove 등 지원 x"
      ],
      "metadata": {
        "id": "ufH6_1-LNLMd"
      }
    },
    {
      "cell_type": "code",
      "source": [
        "l_data = [0, 1, 2, 3]\n",
        "t_data = (0, 1, 2, 3)\n",
        "\n",
        "l_data\n",
        "t_data"
      ],
      "metadata": {
        "colab": {
          "base_uri": "https://localhost:8080/"
        },
        "id": "XkW5JDOVMoJ3",
        "outputId": "1231dc43-ed67-41e1-cf3c-16493f458ce5"
      },
      "execution_count": 101,
      "outputs": [
        {
          "output_type": "execute_result",
          "data": {
            "text/plain": [
              "(0, 1, 2, 3)"
            ]
          },
          "metadata": {},
          "execution_count": 101
        }
      ]
    },
    {
      "cell_type": "code",
      "source": [
        "# l_data.append(4) list에 원소 4를 추가\n",
        "l_data"
      ],
      "metadata": {
        "colab": {
          "base_uri": "https://localhost:8080/"
        },
        "id": "0u_-E1tFNbbi",
        "outputId": "2cbdcfcf-79f8-45a3-f6e9-ce9fe9f57dea"
      },
      "execution_count": 114,
      "outputs": [
        {
          "output_type": "execute_result",
          "data": {
            "text/plain": [
              "[0, 1, 2, 3, 4]"
            ]
          },
          "metadata": {},
          "execution_count": 114
        }
      ]
    }
  ]
}