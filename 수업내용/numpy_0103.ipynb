{
 "cells": [
  {
   "cell_type": "markdown",
   "id": "f0a44a73-1a04-4989-bb63-eefc8ff6f0b2",
   "metadata": {},
   "source": [
    "## ModuleNotFoundError\n",
    "- 설치되어 있지 않은 라이브러리를 불러올 때 발생하는 에러\n",
    "  + 해결방법\n",
    "    - 실행한 가상환경에 맡게 불러오고자 하는 라이브러리를 설치한 후 가상환경을 재실행하여 import 한다."
   ]
  },
  {
   "cell_type": "code",
   "execution_count": 1,
   "id": "2b89b9e8",
   "metadata": {},
   "outputs": [
    {
     "ename": "ModuleNotFoundError",
     "evalue": "No module named 'streamlit'",
     "output_type": "error",
     "traceback": [
      "\u001b[0;31m---------------------------------------------------------------------------\u001b[0m",
      "\u001b[0;31mModuleNotFoundError\u001b[0m                       Traceback (most recent call last)",
      "Cell \u001b[0;32mIn[1], line 1\u001b[0m\n\u001b[0;32m----> 1\u001b[0m \u001b[38;5;28;01mimport\u001b[39;00m \u001b[38;5;21;01mstreamlit\u001b[39;00m \u001b[38;5;28;01mas\u001b[39;00m \u001b[38;5;21;01mst\u001b[39;00m\n\u001b[1;32m      3\u001b[0m \u001b[38;5;28mprint\u001b[39m(st\u001b[38;5;241m.\u001b[39m__version__)\n",
      "\u001b[0;31mModuleNotFoundError\u001b[0m: No module named 'streamlit'"
     ]
    }
   ],
   "source": [
    "import streamlit as st\n",
    "\n",
    "print(st.__version__)\n"
   ]
  },
  {
   "cell_type": "code",
   "execution_count": 2,
   "id": "b402593e-04a1-4987-ace4-5429d691bd26",
   "metadata": {},
   "outputs": [
    {
     "name": "stdout",
     "output_type": "stream",
     "text": [
      "1.26.2\n"
     ]
    }
   ],
   "source": [
    "import numpy as np\n",
    "\n",
    "print(np.__version__)"
   ]
  },
  {
   "cell_type": "code",
   "execution_count": 4,
   "id": "120d05e9-a3d1-464b-85c0-3d8f6c7eec6d",
   "metadata": {},
   "outputs": [
    {
     "data": {
      "text/plain": [
       "[1, 2, 3, 4, 3, 4, 5, 6]"
      ]
     },
     "execution_count": 4,
     "metadata": {},
     "output_type": "execute_result"
    }
   ],
   "source": [
    "# 리스트의 덧셈\n",
    "num1 = [1, 2, 3, 4]\n",
    "num2 = [3, 4, 5, 6]\n",
    "\n",
    "num1 + num2"
   ]
  },
  {
   "cell_type": "code",
   "execution_count": 5,
   "id": "98697cd0-674b-4aea-8701-7e18886fb45c",
   "metadata": {},
   "outputs": [
    {
     "data": {
      "text/plain": [
       "array([ 4,  6,  8, 10])"
      ]
     },
     "execution_count": 5,
     "metadata": {},
     "output_type": "execute_result"
    }
   ],
   "source": [
    "# numpy array를 이용하여 덧셈하기\n",
    "arr1 = np.array(num1)\n",
    "arr2 = np.array(num2)\n",
    "\n",
    "arr1 + arr2"
   ]
  },
  {
   "cell_type": "code",
   "execution_count": 9,
   "id": "8bdafb42-d9f8-412e-a644-1f6113dc1a5e",
   "metadata": {},
   "outputs": [
    {
     "data": {
      "text/plain": [
       "dtype('float64')"
      ]
     },
     "execution_count": 9,
     "metadata": {},
     "output_type": "execute_result"
    }
   ],
   "source": [
    "# 정수와 실수가 혼합된 배열 생성\n",
    "data1 = [1, 2.0, 4, 5, 6.3]\n",
    "mixedArr1 = np.array(data1)\n",
    "\n",
    "# numpy는 기본적으로 float을 지원하므로\n",
    "# 정수도 실수형태로 출력되게 된다\n",
    "mixedArr1.dtype"
   ]
  },
  {
   "cell_type": "code",
   "execution_count": 13,
   "id": "965af2e1-1ed1-494f-86db-f64f98ecec29",
   "metadata": {},
   "outputs": [
    {
     "name": "stdout",
     "output_type": "stream",
     "text": [
      "int64\n"
     ]
    },
    {
     "data": {
      "text/plain": [
       "array([1, 3, 4, 5, 6])"
      ]
     },
     "execution_count": 13,
     "metadata": {},
     "output_type": "execute_result"
    }
   ],
   "source": [
    "# 정수로 데이터를 만들기\n",
    "intData1 = [1, 3, 4, 5, 6]\n",
    "intArr1 = np.array(intData1, dtype = int)\n",
    "\n",
    "# 출력결과 정수형태로 데이터가 생성된 것을 확인할 수 있다\n",
    "# 주의사항으로 실수 데이터가 포함되어있는 경우 dtype을 정수로 하게 되면\n",
    "# 소수점 아래 데이터가 손실되므로 사용에 유의해야 한다/\n",
    "print(intArr1.dtype)\n",
    "intArr1"
   ]
  },
  {
   "cell_type": "markdown",
   "id": "2ceb661b-08f2-42e7-b79d-51304e003248",
   "metadata": {},
   "source": [
    "## Numpy 배열 생성\n",
    "- 1차원, 2차원 등의 다차원 배열 생성 가능"
   ]
  },
  {
   "cell_type": "code",
   "execution_count": 14,
   "id": "3364793c-b9e2-49cf-b28b-229d2db7f3bc",
   "metadata": {},
   "outputs": [
    {
     "data": {
      "text/plain": [
       "array([0, 2, 4, 6, 8])"
      ]
     },
     "execution_count": 14,
     "metadata": {},
     "output_type": "execute_result"
    }
   ],
   "source": [
    "np.arange(0, 10, 2)"
   ]
  },
  {
   "cell_type": "code",
   "execution_count": 16,
   "id": "d8eaef3a-9366-4e35-9889-429aa0fdbe85",
   "metadata": {},
   "outputs": [
    {
     "data": {
      "text/plain": [
       "array([1, 2, 3, 4, 5, 6, 7, 8, 9])"
      ]
     },
     "execution_count": 16,
     "metadata": {},
     "output_type": "execute_result"
    }
   ],
   "source": [
    "np.arange(1, 10)"
   ]
  },
  {
   "cell_type": "code",
   "execution_count": 18,
   "id": "2105ee7e-60c9-40a4-a03b-3cc56b5a0811",
   "metadata": {},
   "outputs": [
    {
     "data": {
      "text/plain": [
       "array([0, 1, 2, 3, 4, 5, 6, 7, 8, 9])"
      ]
     },
     "execution_count": 18,
     "metadata": {},
     "output_type": "execute_result"
    }
   ],
   "source": [
    "np.arange(10) # 1치원 배열"
   ]
  },
  {
   "cell_type": "code",
   "execution_count": 20,
   "id": "7da25bf1-6eed-425b-b184-83ea219192b6",
   "metadata": {},
   "outputs": [
    {
     "data": {
      "text/plain": [
       "array([[ 0,  1,  2],\n",
       "       [ 3,  4,  5],\n",
       "       [ 6,  7,  8],\n",
       "       [ 9, 10, 11]])"
      ]
     },
     "execution_count": 20,
     "metadata": {},
     "output_type": "execute_result"
    }
   ],
   "source": [
    "# 1차원 배열을 2차원으로 변경\n",
    "np.arange(12).reshape(4, 3)"
   ]
  },
  {
   "cell_type": "code",
   "execution_count": 21,
   "id": "224e7acc-331b-40e3-b67b-c24a37b951b6",
   "metadata": {},
   "outputs": [],
   "source": [
    "# np.arange(12).reshape(4, 5)\n",
    "# 에러 발생 원소의 개수와 shape이 일치하지 않기 때문"
   ]
  },
  {
   "cell_type": "code",
   "execution_count": 22,
   "id": "5b3b0c52-4a6d-4fef-b773-8cf3d533a57e",
   "metadata": {},
   "outputs": [
    {
     "data": {
      "text/plain": [
       "array([[[ 0,  1,  2]],\n",
       "\n",
       "       [[ 3,  4,  5]],\n",
       "\n",
       "       [[ 6,  7,  8]],\n",
       "\n",
       "       [[ 9, 10, 11]]])"
      ]
     },
     "execution_count": 22,
     "metadata": {},
     "output_type": "execute_result"
    }
   ],
   "source": [
    "np.arange(12).reshape(4, 1, 3)"
   ]
  },
  {
   "cell_type": "code",
   "execution_count": 27,
   "id": "9e930040-2bd1-469e-801d-2b9c19bd4f01",
   "metadata": {},
   "outputs": [
    {
     "data": {
      "text/plain": [
       "(2, 2, 3)"
      ]
     },
     "execution_count": 27,
     "metadata": {},
     "output_type": "execute_result"
    }
   ],
   "source": [
    "arr3 = np.arange(12).reshape(2, 2, 3)\n",
    "# arr3의 차원 출력\n",
    "arr3.shape"
   ]
  },
  {
   "cell_type": "code",
   "execution_count": 30,
   "id": "fa66649a-fd6c-4c62-b5d7-440baf50f76b",
   "metadata": {},
   "outputs": [
    {
     "data": {
      "text/plain": [
       "(4, 3)"
      ]
     },
     "execution_count": 30,
     "metadata": {},
     "output_type": "execute_result"
    }
   ],
   "source": [
    "arr2 = np.arange(12).reshape(4, 3)\n",
    "\n",
    "# 2차원 데이터의 차원 출력\n",
    "arr2.shape"
   ]
  },
  {
   "cell_type": "markdown",
   "id": "1d6ff344-26a5-4f15-9d01-8c70f499c79d",
   "metadata": {},
   "source": [
    "### 위에서 사용한 shape 함수의 경우 pandas에서도 동일하게 사용한다\n",
    "- 출력형태는 \"튜플\"형태로 나오는 것을 확인할 수 있다"
   ]
  },
  {
   "cell_type": "code",
   "execution_count": 33,
   "id": "b3c4bd56-a072-477e-951e-0f2bac63905d",
   "metadata": {},
   "outputs": [
    {
     "data": {
      "text/plain": [
       "(4,)"
      ]
     },
     "execution_count": 33,
     "metadata": {},
     "output_type": "execute_result"
    }
   ],
   "source": [
    "arr1 = np.array([1, 2, 3, 4])\n",
    "\n",
    "# 1차원 데이터의 차원 출력\n",
    "arr1.shape"
   ]
  },
  {
   "cell_type": "code",
   "execution_count": 35,
   "id": "0f58c80b-5926-4189-a13a-1f519ff60eab",
   "metadata": {},
   "outputs": [
    {
     "data": {
      "text/plain": [
       "array([ 0. ,  2.5,  5. ,  7.5, 10. ])"
      ]
     },
     "execution_count": 35,
     "metadata": {},
     "output_type": "execute_result"
    }
   ],
   "source": [
    "# 범위의 시작과 끝 정하고 배열 생성\n",
    "# 0부터 10까지 원소의 개수를 5개로 하여 동일한 간격으로 떨어져 있는\n",
    "# 배열 생성\n",
    "np.linspace(0, 10, 5)"
   ]
  },
  {
   "cell_type": "code",
   "execution_count": 37,
   "id": "adce170c-59de-4ba4-ba9b-1917e50ebe42",
   "metadata": {},
   "outputs": [
    {
     "data": {
      "text/plain": [
       "array([0.        , 0.16534698, 0.33069396, 0.49604095, 0.66138793,\n",
       "       0.82673491, 0.99208189, 1.15742887, 1.32277585, 1.48812284,\n",
       "       1.65346982, 1.8188168 , 1.98416378, 2.14951076, 2.31485774,\n",
       "       2.48020473, 2.64555171, 2.81089869, 2.97624567, 3.14159265])"
      ]
     },
     "execution_count": 37,
     "metadata": {},
     "output_type": "execute_result"
    }
   ],
   "source": [
    "# numpy에서 지원하는 pi(원주율)을 이용하여 끝을 지정\n",
    "# 20개의 원소가 동일한 간격으로 만들어짐 (pi 까지)\n",
    "np.linspace(0, np.pi, 20)"
   ]
  },
  {
   "cell_type": "code",
   "execution_count": 38,
   "id": "f2554d98-c60a-4de9-9308-f2af1f0e2e91",
   "metadata": {},
   "outputs": [
    {
     "data": {
      "text/plain": [
       "array([0., 0., 0., 0., 0., 0., 0., 0., 0., 0.])"
      ]
     },
     "execution_count": 38,
     "metadata": {},
     "output_type": "execute_result"
    }
   ],
   "source": [
    "# np.zeros()\n",
    "# 원소를 모두 0으로 채운 배열을 생성한다\n",
    "np.zeros(10)"
   ]
  },
  {
   "cell_type": "code",
   "execution_count": 40,
   "id": "30632e0d-f1ac-40ed-99f7-eb14571c1dc0",
   "metadata": {},
   "outputs": [
    {
     "data": {
      "text/plain": [
       "array([1, 1, 1, 1, 1])"
      ]
     },
     "execution_count": 40,
     "metadata": {},
     "output_type": "execute_result"
    }
   ],
   "source": [
    "# np.ones()\n",
    "# 원소를 모두 1로 채운 배열을 생성한다\n",
    "np.ones(5, dtype = int)"
   ]
  },
  {
   "cell_type": "code",
   "execution_count": 41,
   "id": "418c8ed3-1b5b-4962-a9c5-a77a00164c5a",
   "metadata": {},
   "outputs": [
    {
     "data": {
      "text/plain": [
       "array([[1., 0., 0.],\n",
       "       [0., 1., 0.],\n",
       "       [0., 0., 1.]])"
      ]
     },
     "execution_count": 41,
     "metadata": {},
     "output_type": "execute_result"
    }
   ],
   "source": [
    "# 단위행렬\n",
    "# n x n인 정사각형 행렬에서 주 대각선이 모두 1이고 \n",
    "# 나머지는 0인 행렬\n",
    "arr_I = np.eye(3)\n",
    "arr_I"
   ]
  },
  {
   "cell_type": "code",
   "execution_count": 42,
   "id": "010f15da-4e40-4044-8dea-15ffe62d8e8c",
   "metadata": {},
   "outputs": [
    {
     "data": {
      "text/plain": [
       "(3, 3)"
      ]
     },
     "execution_count": 42,
     "metadata": {},
     "output_type": "execute_result"
    }
   ],
   "source": [
    "arr_I.shape"
   ]
  },
  {
   "cell_type": "code",
   "execution_count": 44,
   "id": "7eaeef53-a1c2-4280-bf07-9fa0711c6568",
   "metadata": {},
   "outputs": [
    {
     "data": {
      "text/plain": [
       "array(['1.5', '0.62'], dtype='<U4')"
      ]
     },
     "execution_count": 44,
     "metadata": {},
     "output_type": "execute_result"
    }
   ],
   "source": [
    "np.array(['1.5', '0.62'])"
   ]
  },
  {
   "cell_type": "code",
   "execution_count": 48,
   "id": "c855689c-1201-409d-bb80-d4e0e1a062e6",
   "metadata": {},
   "outputs": [
    {
     "data": {
      "text/plain": [
       "array([1.5 , 0.62])"
      ]
     },
     "execution_count": 48,
     "metadata": {},
     "output_type": "execute_result"
    }
   ],
   "source": [
    "# astype() # pandas에서 사용 가능\n",
    "\n",
    "# 문자열 데이터('<U44') 생성\n",
    "arr = np.array(['1.5', '0.62'])\n",
    "\n",
    "# 문자열 데이터 float으로 변환\n",
    "num_arr = arr.astype(float)\n",
    "\n",
    "# 변환한 데이터의 타입 출력\n",
    "num_arr.dtype\n",
    "\n",
    "np.array(['1.5', '0.62'], dtype = float)"
   ]
  },
  {
   "cell_type": "markdown",
   "id": "6f460b7a-2493-48f9-9817-3584ea41ee69",
   "metadata": {},
   "source": [
    "### 실수와 정수가 혼합되어 있는 데이터의 정수 변환\n",
    "- astype(int) or dtype = int로 가능\n",
    "- 주의해야 할 점\n",
    "  + 소수점 이하가 유실되므로 사용시 유의해야 한다"
   ]
  },
  {
   "cell_type": "code",
   "execution_count": 50,
   "id": "4126c5f2-de39-42ee-9238-031a7bcc0e74",
   "metadata": {},
   "outputs": [
    {
     "data": {
      "text/plain": [
       "array([10, 21,  0,  4,  5])"
      ]
     },
     "execution_count": 50,
     "metadata": {},
     "output_type": "execute_result"
    }
   ],
   "source": [
    "num_f1 = np.array([10, 21, 0.549, 4.75, 5.98])\n",
    "num_f1 = num_f1.astype(int)\n",
    "num_f1"
   ]
  },
  {
   "cell_type": "markdown",
   "id": "12173d0e-da28-4762-8e60-aefcc21b87e4",
   "metadata": {},
   "source": [
    "### 난수 배열의 생성\n",
    "- 난수 : 무작위로 숫자를 추출\n",
    "  + 사용법\n",
    "    + a~b 사이의 무작위 정수 x개 :\n",
    "        Ex)np.random.randint(2, 10, 3)\n",
    "    + 0~1 사이의 무작위 실수 n x m :\n",
    "      Ex) np.random.rand(2, 3)"
   ]
  },
  {
   "cell_type": "code",
   "execution_count": 55,
   "id": "84b8684b-4007-4c10-b52a-95498670f4fa",
   "metadata": {
    "scrolled": true
   },
   "outputs": [
    {
     "data": {
      "text/plain": [
       "array([[0.16105969, 0.55426541, 0.78523115],\n",
       "       [0.45985848, 0.06812574, 0.89260059]])"
      ]
     },
     "execution_count": 55,
     "metadata": {},
     "output_type": "execute_result"
    }
   ],
   "source": [
    "# 0~1 사이의 실수 난수 2 x 3 발생\n",
    "np.random.rand(2, 3)"
   ]
  },
  {
   "cell_type": "code",
   "execution_count": 10,
   "id": "b3ddf137-b28d-44bc-97b8-1a3eadeeb444",
   "metadata": {},
   "outputs": [
    {
     "data": {
      "text/plain": [
       "array([7, 9, 9])"
      ]
     },
     "execution_count": 10,
     "metadata": {},
     "output_type": "execute_result"
    }
   ],
   "source": [
    "# int type 2 ~ 10 사이의 난수 3개 발생\n",
    "np.random.randint(2, 10, 3)"
   ]
  },
  {
   "cell_type": "markdown",
   "id": "3dcb6389-41a5-49d8-9b5a-d6401c177a66",
   "metadata": {},
   "source": [
    "## numpy 라이브러리 random 클래스를 이용하여 로또 번호 생성기 만들기"
   ]
  },
  {
   "cell_type": "markdown",
   "id": "3fee9f64-21a9-4131-8530-9e987b7d2b84",
   "metadata": {},
   "source": [
    "### 첫번째 방법\n",
    "- np.random.choice() 메서드 사용\n",
    "  + 메소드 설명\n",
    "    range를 주어 1부터 30까지 1개씩 중복이 없도록 생성한다. replace=False 옵션에서 가능\n",
    "      + Ex) lotto_numbers = np.random.choice(range(1, 30), user_input, replace=False)\n",
    "\n",
    "### 두번째 방법\n",
    "- while 문을 통해 유저가 입력한 개수만큼 반복하여 빈 리스트에 추가\n",
    "  + not in 조건으로 중복 체크 후 리스트에 추가\n",
    "  + 이후 user_input의 값을 줄여서 조건 체크"
   ]
  },
  {
   "cell_type": "code",
   "execution_count": 13,
   "id": "91a4de82-9b93-4cb1-a193-f513e04f8365",
   "metadata": {},
   "outputs": [
    {
     "name": "stdin",
     "output_type": "stream",
     "text": [
      "원하는 로또 번호 개수를 입력해주세요:  6\n"
     ]
    },
    {
     "name": "stdout",
     "output_type": "stream",
     "text": [
      "======== Creating Lotto Numbers ========\n",
      "생성된 로또 번호는 : [11 26 17  4 13 14] 입니다 !\n"
     ]
    }
   ],
   "source": [
    "# 1 ~ 30 까지의 로또 번호 생성\n",
    "# 1. np.random.choice() 메서드 사용\n",
    "user_input = int(input('원하는 로또 번호 개수를 입력해주세요: '))\n",
    "\n",
    "lotto_numbers = np.random.choice(range(1, 30), user_input, replace=False)\n",
    "print('======== Creating Lotto Numbers ========')\n",
    "print(f'생성된 로또 번호는 : {lotto_numbers} 입니다 !')"
   ]
  },
  {
   "cell_type": "code",
   "execution_count": 14,
   "id": "5f25a51a-323b-4640-855d-aa3304e7da23",
   "metadata": {},
   "outputs": [
    {
     "name": "stdin",
     "output_type": "stream",
     "text": [
      "원하는 로또 번호 개수를 입력해주세요:  6\n"
     ]
    },
    {
     "name": "stdout",
     "output_type": "stream",
     "text": [
      "======== Creating Lotto Numbers ========\n",
      "생성된 로또 번호는 : [10, 8, 20, 1, 2, 25] 입니다 !\n"
     ]
    }
   ],
   "source": [
    "user_input = int(input('원하는 로또 번호 개수를 입력해주세요: '))\n",
    "lotto_numbers = []\n",
    "\n",
    "while user_input > 0:\n",
    "    # NumPy 배열에서 첫 번째 요소 추출\n",
    "    lotto_num = np.random.randint(1, 30, 1)[0]  \n",
    "    if lotto_num not in lotto_numbers:\n",
    "        lotto_numbers.append(lotto_num)\n",
    "        user_input -= 1\n",
    "\n",
    "print('======== Creating Lotto Numbers ========')\n",
    "print(f'생성된 로또 번호는 : {lotto_numbers} 입니다 !')\n"
   ]
  },
  {
   "cell_type": "markdown",
   "id": "f2981142-7c03-4be9-9033-5ad318c11d29",
   "metadata": {},
   "source": [
    "## 배열의 연산\n",
    " - p.225"
   ]
  },
  {
   "cell_type": "code",
   "execution_count": 15,
   "id": "19881099-f8c5-43db-a6c4-47ba677110ea",
   "metadata": {},
   "outputs": [
    {
     "name": "stdout",
     "output_type": "stream",
     "text": [
      "[11 22 33 44]\n",
      "[ 9 18 27 36]\n",
      "[ 10  40  90 160]\n",
      "[10. 10. 10. 10.]\n"
     ]
    }
   ],
   "source": [
    "arr1 = np.array([10, 20, 30, 40])\n",
    "arr2 = np.array([1, 2, 3, 4])\n",
    "\n",
    "# 덧셈\n",
    "print(arr1 + arr2)\n",
    "\n",
    "# 뺄셈\n",
    "print(arr1 - arr2)\n",
    "\n",
    "# 곱셈\n",
    "print(arr1 * arr2)\n",
    "\n",
    "# 나눗셈\n",
    "print(arr1 / arr2)"
   ]
  },
  {
   "cell_type": "markdown",
   "id": "7fa5f89b-5ff3-413a-97df-9690d268ae9a",
   "metadata": {},
   "source": [
    "### 배열의 비교 연산\n",
    "- 추후 pandas 데이터 가공할 때 행 추출시 사용"
   ]
  },
  {
   "cell_type": "code",
   "execution_count": 17,
   "id": "35fcf93f-f00e-41b1-8cf3-cbe033b717cd",
   "metadata": {},
   "outputs": [
    {
     "data": {
      "text/plain": [
       "array([False, False,  True,  True])"
      ]
     },
     "execution_count": 17,
     "metadata": {},
     "output_type": "execute_result"
    }
   ],
   "source": [
    "arr1 > 20"
   ]
  },
  {
   "cell_type": "markdown",
   "id": "f3bdbdea-14f1-44d6-8bd7-2c501daf23a7",
   "metadata": {},
   "source": [
    "## 통계 연산\n",
    "- Numpy : 합, 평균, 표준 편차, 분산 등의 기술통계량(descriptive Statistics) 메서드를 제공해줌\n",
    "  + 기술통계량(descriptive Statistics) : 현재 데이터 상태를 표현(= 묘사, Describe)한다\n",
    "- 통계 : 평균이 전부다 ! (Mean is Everything)"
   ]
  },
  {
   "cell_type": "code",
   "execution_count": 18,
   "id": "0ed4dd79-2b2f-4960-bd79-21a1d6cc930c",
   "metadata": {},
   "outputs": [
    {
     "data": {
      "text/plain": [
       "array([0, 1, 2, 3, 4])"
      ]
     },
     "execution_count": 18,
     "metadata": {},
     "output_type": "execute_result"
    }
   ],
   "source": [
    "arr3 = np.arange(5)\n",
    "arr3"
   ]
  },
  {
   "cell_type": "code",
   "execution_count": 21,
   "id": "7fed937b-7d7c-401a-833e-9ff3923d875a",
   "metadata": {},
   "outputs": [
    {
     "data": {
      "text/plain": [
       "10"
      ]
     },
     "execution_count": 21,
     "metadata": {},
     "output_type": "execute_result"
    }
   ],
   "source": [
    "# 합\n",
    "arr3.sum()"
   ]
  },
  {
   "cell_type": "code",
   "execution_count": 22,
   "id": "4662e65d-5808-48b1-994b-87cd3b0380e6",
   "metadata": {},
   "outputs": [
    {
     "data": {
      "text/plain": [
       "2.0"
      ]
     },
     "execution_count": 22,
     "metadata": {},
     "output_type": "execute_result"
    }
   ],
   "source": [
    "# 평균\n",
    "arr3.mean()"
   ]
  },
  {
   "cell_type": "code",
   "execution_count": 23,
   "id": "05eb0093-8db0-450e-b319-3c838910ce49",
   "metadata": {},
   "outputs": [
    {
     "data": {
      "text/plain": [
       "1.4142135623730951"
      ]
     },
     "execution_count": 23,
     "metadata": {},
     "output_type": "execute_result"
    }
   ],
   "source": [
    "# 표준편차\n",
    "arr3.std()"
   ]
  },
  {
   "cell_type": "code",
   "execution_count": 24,
   "id": "3b0ba57a-89bc-409e-935a-96eeb08b2f15",
   "metadata": {},
   "outputs": [
    {
     "data": {
      "text/plain": [
       "2.0"
      ]
     },
     "execution_count": 24,
     "metadata": {},
     "output_type": "execute_result"
    }
   ],
   "source": [
    "# 분산\n",
    "arr3.var()"
   ]
  },
  {
   "cell_type": "markdown",
   "id": "0f0cb381-3109-42c9-a402-be1c3159c5d1",
   "metadata": {},
   "source": [
    "## 누적합과 누적곱\n",
    "- cumsum() : 누적합\n",
    "- cumprod() : 누적곱"
   ]
  },
  {
   "cell_type": "code",
   "execution_count": 25,
   "id": "5cc33006-dfaa-424c-8657-2da3cb576c68",
   "metadata": {},
   "outputs": [
    {
     "data": {
      "text/plain": [
       "array([1, 2, 3, 4])"
      ]
     },
     "execution_count": 25,
     "metadata": {},
     "output_type": "execute_result"
    }
   ],
   "source": [
    "arr4 = np.arange(1,5)\n",
    "arr4"
   ]
  },
  {
   "cell_type": "code",
   "execution_count": 28,
   "id": "a34f0700-bbd1-4679-bfb9-292413df13c1",
   "metadata": {},
   "outputs": [
    {
     "data": {
      "text/plain": [
       "array([ 1,  3,  6, 10])"
      ]
     },
     "execution_count": 28,
     "metadata": {},
     "output_type": "execute_result"
    }
   ],
   "source": [
    "# 누적합\n",
    "arr4.cumsum()"
   ]
  },
  {
   "cell_type": "code",
   "execution_count": 29,
   "id": "40cbaf6a-ad6c-4097-94e0-370a7348cf63",
   "metadata": {},
   "outputs": [
    {
     "data": {
      "text/plain": [
       "array([ 1,  2,  6, 24])"
      ]
     },
     "execution_count": 29,
     "metadata": {},
     "output_type": "execute_result"
    }
   ],
   "source": [
    "# 누적곱\n",
    "arr4.cumprod()"
   ]
  },
  {
   "cell_type": "markdown",
   "id": "885bc493-bfba-499d-918d-c0132a0c9d4e",
   "metadata": {},
   "source": [
    "## 행렬연산\n",
    "- 선형 대수(Linear Algebra)를 위한 2차원 배열 연산도 지원\n",
    "  + 행렬곱 : A.dot(B) or np.dot(A, B)\n",
    "  + 전치행렬 : A.transpose() or np.transpos(A)\n",
    "  + 역행렬 : np.linalg.inv(A)\n",
    "  + 행렬식 : np.linalg.det(A)"
   ]
  },
  {
   "cell_type": "code",
   "execution_count": 31,
   "id": "d4e1a13e-7092-452c-b4aa-6180614e80a8",
   "metadata": {},
   "outputs": [
    {
     "data": {
      "text/plain": [
       "array([[0, 1],\n",
       "       [2, 3]])"
      ]
     },
     "execution_count": 31,
     "metadata": {},
     "output_type": "execute_result"
    }
   ],
   "source": [
    "A = np.array([0, 1, 2, 3]).reshape(2, 2)\n",
    "A"
   ]
  },
  {
   "cell_type": "code",
   "execution_count": 32,
   "id": "85b28438-0b69-4503-b9ca-fdf19cfb98d3",
   "metadata": {},
   "outputs": [
    {
     "data": {
      "text/plain": [
       "array([[3, 2],\n",
       "       [0, 1]])"
      ]
     },
     "execution_count": 32,
     "metadata": {},
     "output_type": "execute_result"
    }
   ],
   "source": [
    "B = np.array([3, 2, 0, 1]).reshape(2, 2)\n",
    "B"
   ]
  },
  {
   "cell_type": "code",
   "execution_count": 39,
   "id": "f7f2ca14-faeb-4a1e-8eac-3bb4434ab3f2",
   "metadata": {},
   "outputs": [
    {
     "data": {
      "text/plain": [
       "array([[0, 1],\n",
       "       [6, 7]])"
      ]
     },
     "execution_count": 39,
     "metadata": {},
     "output_type": "execute_result"
    }
   ],
   "source": [
    "# (1) 행렬곱 계산\n",
    "A.dot(B)"
   ]
  },
  {
   "cell_type": "code",
   "execution_count": 40,
   "id": "b28ce508-3db5-4bbe-92c0-f10c38cefb96",
   "metadata": {},
   "outputs": [
    {
     "data": {
      "text/plain": [
       "array([[0, 1],\n",
       "       [6, 7]])"
      ]
     },
     "execution_count": 40,
     "metadata": {},
     "output_type": "execute_result"
    }
   ],
   "source": [
    "# (2) 행렬곱 계산 \n",
    "np.dot(A, B)"
   ]
  },
  {
   "cell_type": "code",
   "execution_count": 36,
   "id": "7f8afa3f-3aec-41c6-b32c-8ef8b3dadcf0",
   "metadata": {},
   "outputs": [
    {
     "data": {
      "text/plain": [
       "array([[0, 2],\n",
       "       [1, 3]])"
      ]
     },
     "execution_count": 36,
     "metadata": {},
     "output_type": "execute_result"
    }
   ],
   "source": [
    "# 전치행렬\n",
    "A.transpose()"
   ]
  },
  {
   "cell_type": "code",
   "execution_count": 37,
   "id": "cc8b51ad-cd4f-4004-95e2-e5d3d8403e21",
   "metadata": {},
   "outputs": [
    {
     "data": {
      "text/plain": [
       "array([[-1.5,  0.5],\n",
       "       [ 1. ,  0. ]])"
      ]
     },
     "execution_count": 37,
     "metadata": {},
     "output_type": "execute_result"
    }
   ],
   "source": [
    "# 역행렬\n",
    "np.linalg.inv(A)"
   ]
  },
  {
   "cell_type": "code",
   "execution_count": 38,
   "id": "ec43dbce-9fe9-48d0-bb0d-ddd89ec9af74",
   "metadata": {},
   "outputs": [
    {
     "data": {
      "text/plain": [
       "-2.0"
      ]
     },
     "execution_count": 38,
     "metadata": {},
     "output_type": "execute_result"
    }
   ],
   "source": [
    "# 행렬식\n",
    "np.linalg.det(A)"
   ]
  },
  {
   "cell_type": "markdown",
   "id": "49869198-e810-4683-9d36-08b5a033180e",
   "metadata": {},
   "source": [
    "## 배열의 인덱싱과 슬라이싱\n",
    "- string, list, tuple과 동일한 방법으로 접근"
   ]
  },
  {
   "cell_type": "code",
   "execution_count": 42,
   "id": "c22f5f5c-8752-4856-af2f-b6d57ba3af87",
   "metadata": {},
   "outputs": [
    {
     "data": {
      "text/plain": [
       "array([ 0, 10, 20, 30, 40, 50])"
      ]
     },
     "execution_count": 42,
     "metadata": {},
     "output_type": "execute_result"
    }
   ],
   "source": [
    "a1 = np.array([0, 10, 20, 30, 40, 50])\n",
    "a1"
   ]
  },
  {
   "cell_type": "code",
   "execution_count": 43,
   "id": "09dff41b-735f-4105-aa89-db4decb70bc2",
   "metadata": {},
   "outputs": [
    {
     "data": {
      "text/plain": [
       "0"
      ]
     },
     "execution_count": 43,
     "metadata": {},
     "output_type": "execute_result"
    }
   ],
   "source": [
    "a1[0]"
   ]
  },
  {
   "cell_type": "code",
   "execution_count": 44,
   "id": "6ff9cfc1-d17d-4ef2-b995-0d8dc7872588",
   "metadata": {},
   "outputs": [
    {
     "data": {
      "text/plain": [
       "40"
      ]
     },
     "execution_count": 44,
     "metadata": {},
     "output_type": "execute_result"
    }
   ],
   "source": [
    "a1[4]"
   ]
  },
  {
   "cell_type": "code",
   "execution_count": 45,
   "id": "a10505cf-a7d9-4007-8471-4f00cc7d5359",
   "metadata": {},
   "outputs": [
    {
     "data": {
      "text/plain": [
       "array([ 0, 10, 20, 30, 40, 70])"
      ]
     },
     "execution_count": 45,
     "metadata": {},
     "output_type": "execute_result"
    }
   ],
   "source": [
    "a1[5] = 70\n",
    "a1"
   ]
  },
  {
   "cell_type": "code",
   "execution_count": 51,
   "id": "24c414c2-107a-4530-a01c-7b1ea545c944",
   "metadata": {},
   "outputs": [
    {
     "data": {
      "text/plain": [
       "array([10, 30, 40])"
      ]
     },
     "execution_count": 51,
     "metadata": {},
     "output_type": "execute_result"
    }
   ],
   "source": [
    "# 1차원 배열 : 여러 개의 원소를 선택\n",
    "# 배열명[[위치1, 위치2, ..., 위치n]]\n",
    "\n",
    "# 리스트를 인덱스를 통해 접근\n",
    "a1[[1, 3, 4]]"
   ]
  },
  {
   "cell_type": "code",
   "execution_count": 52,
   "id": "3523430c-72e9-4d1c-98b1-edcfacd1eaed",
   "metadata": {},
   "outputs": [],
   "source": [
    "# 2차원 배열 : 특정 위치의 원소 선택\n",
    "# 배열명[행_위치, 열_위치]"
   ]
  },
  {
   "cell_type": "code",
   "execution_count": 61,
   "id": "65466237-29a9-48a8-86b7-6352675872f4",
   "metadata": {},
   "outputs": [
    {
     "data": {
      "text/plain": [
       "array([[10, 20, 30],\n",
       "       [40, 50, 60],\n",
       "       [70, 80, 90]])"
      ]
     },
     "execution_count": 61,
     "metadata": {},
     "output_type": "execute_result"
    }
   ],
   "source": [
    "# 10부터 100까지 10씩 더한 원소로 구성된 3 x 3 배열 생성\n",
    "a2 = np.arange(10, 100, 10).reshape(3, 3)\n",
    "a2"
   ]
  },
  {
   "cell_type": "code",
   "execution_count": 55,
   "id": "b8864ae5-1ad5-4b6a-b5de-bf46f2c9d91c",
   "metadata": {},
   "outputs": [
    {
     "data": {
      "text/plain": [
       "array([[10, 20, 30],\n",
       "       [40, 50, 60],\n",
       "       [70, 80, 95]])"
      ]
     },
     "execution_count": 55,
     "metadata": {},
     "output_type": "execute_result"
    }
   ],
   "source": [
    "# (2, 2) 원소의 값을 95로 변경\n",
    "a2[2, 2] = 95\n",
    "a2"
   ]
  },
  {
   "cell_type": "code",
   "execution_count": 57,
   "id": "e2b402e3-4b7a-45e0-abcb-053ec2dc2166",
   "metadata": {},
   "outputs": [
    {
     "data": {
      "text/plain": [
       "array([40, 50, 60])"
      ]
     },
     "execution_count": 57,
     "metadata": {},
     "output_type": "execute_result"
    }
   ],
   "source": [
    "# 1번 인덱스(두번째 행)의 행 출력\n",
    "a2[1]"
   ]
  },
  {
   "cell_type": "code",
   "execution_count": 62,
   "id": "455afd9b-d6af-4654-a85a-5fd5e597b376",
   "metadata": {},
   "outputs": [
    {
     "data": {
      "text/plain": [
       "array([[10, 20, 30],\n",
       "       [45, 55, 65],\n",
       "       [70, 80, 90]])"
      ]
     },
     "execution_count": 62,
     "metadata": {},
     "output_type": "execute_result"
    }
   ],
   "source": [
    "# 1번 인덱스(두번째 행)의 원소 값 변경\n",
    "a2[1] = np.array([45, 55, 65])\n",
    "a2"
   ]
  },
  {
   "cell_type": "markdown",
   "id": "beaf20e9-e422-4c3e-b086-c4e427166dd3",
   "metadata": {},
   "source": [
    "### 2차원 배열의 여러 원소 선택\n",
    "- 배열명[[행_위치1, 행_위치2, ..., 행_위치n], [열_위치1, 열_위치2, ..., 열_위치n]]"
   ]
  },
  {
   "cell_type": "code",
   "execution_count": 65,
   "id": "b4b708e2-9082-4663-9d14-c9bcfefd5767",
   "metadata": {},
   "outputs": [
    {
     "data": {
      "text/plain": [
       "array([[10, 20, 30],\n",
       "       [45, 55, 65],\n",
       "       [70, 80, 90]])"
      ]
     },
     "execution_count": 65,
     "metadata": {},
     "output_type": "execute_result"
    }
   ],
   "source": [
    "a2"
   ]
  },
  {
   "cell_type": "code",
   "execution_count": 67,
   "id": "57edde14-b1cd-4668-889c-a832a3cb1315",
   "metadata": {},
   "outputs": [
    {
     "data": {
      "text/plain": [
       "array([10, 80])"
      ]
     },
     "execution_count": 67,
     "metadata": {},
     "output_type": "execute_result"
    }
   ],
   "source": [
    "# (0, 0) (2, 1) 원소 출력\n",
    "a2[[0, 2], [0, 1]]"
   ]
  },
  {
   "cell_type": "markdown",
   "id": "064d09a3-db34-4593-a6db-a66d01f1623f",
   "metadata": {},
   "source": [
    "### 2차원 배열의 조건을 지정해 배열 선택\n",
    "- 배열명[조건]"
   ]
  },
  {
   "cell_type": "code",
   "execution_count": 68,
   "id": "769fe279-b050-4dbd-88bd-f3ec5aafe5e7",
   "metadata": {},
   "outputs": [
    {
     "data": {
      "text/plain": [
       "array([4, 5, 6])"
      ]
     },
     "execution_count": 68,
     "metadata": {},
     "output_type": "execute_result"
    }
   ],
   "source": [
    "a = np.array([1, 2, 3, 4, 5, 6])\n",
    "\n",
    "# 배열 a의 원소 중 3보다 큰 원소 선택\n",
    "a[a > 3]"
   ]
  },
  {
   "cell_type": "code",
   "execution_count": 108,
   "id": "061a7419-dc65-4570-a174-ecfe70d538fa",
   "metadata": {},
   "outputs": [
    {
     "data": {
      "text/plain": [
       "array([2, 4, 6])"
      ]
     },
     "execution_count": 108,
     "metadata": {},
     "output_type": "execute_result"
    }
   ],
   "source": [
    "# 베열 a의 원소 중 짝수 출력\n",
    "a[a % 2 == 0]"
   ]
  },
  {
   "cell_type": "code",
   "execution_count": 109,
   "id": "f9287b7e-00b7-4906-a5bc-96929339d10d",
   "metadata": {},
   "outputs": [
    {
     "data": {
      "text/plain": [
       "array([1, 3, 5])"
      ]
     },
     "execution_count": 109,
     "metadata": {},
     "output_type": "execute_result"
    }
   ],
   "source": [
    "# 배열 a의 원소 중 홀수 출력\n",
    "a[a % 2 != 0]"
   ]
  },
  {
   "cell_type": "markdown",
   "id": "d3c54d4d-6d1a-4fa2-b2b4-0af576f5f2b8",
   "metadata": {},
   "source": [
    "## 배열의 슬라이싱\n",
    "- 배열[시작_위치:끝_위치]\n",
    "- 반환되는 원소의 범위 : '시작_위치 ~ 끝_위치 - 1'"
   ]
  },
  {
   "cell_type": "code",
   "execution_count": 79,
   "id": "ee5101d8-9809-49a7-b5aa-4e55e1394148",
   "metadata": {},
   "outputs": [
    {
     "data": {
      "text/plain": [
       "array([10, 20, 30])"
      ]
     },
     "execution_count": 79,
     "metadata": {},
     "output_type": "execute_result"
    }
   ],
   "source": [
    "b1 = np.array([0, 10, 20, 30, 40, 50])\n",
    "\n",
    "# 1번 인덱스부터 3번 인덱스까지의 값 출력\n",
    "b1[1:4]"
   ]
  },
  {
   "cell_type": "code",
   "execution_count": 80,
   "id": "7d59e3b6-c0e6-4547-bd86-a712b494d7e9",
   "metadata": {},
   "outputs": [
    {
     "data": {
      "text/plain": [
       "array([ 0, 10, 20])"
      ]
     },
     "execution_count": 80,
     "metadata": {},
     "output_type": "execute_result"
    }
   ],
   "source": [
    "# 0번 인덱스(처음)부터 2번 인덱스까지의 값 출력\n",
    "b1[:3]"
   ]
  },
  {
   "cell_type": "code",
   "execution_count": 81,
   "id": "1de77b6c-cd66-40ec-9ab8-45f5a08ad2a3",
   "metadata": {},
   "outputs": [
    {
     "data": {
      "text/plain": [
       "array([20, 30, 40, 50])"
      ]
     },
     "execution_count": 81,
     "metadata": {},
     "output_type": "execute_result"
    }
   ],
   "source": [
    "# 2번 인덱스부터 마지막 인덱스(끝)까지의 값 출력\n",
    "b1[2:]"
   ]
  },
  {
   "cell_type": "code",
   "execution_count": 84,
   "id": "e1e8cb6c-5fb1-49b5-accc-6d556f56bca6",
   "metadata": {},
   "outputs": [
    {
     "data": {
      "text/plain": [
       "array([ 0, 20, 40])"
      ]
     },
     "execution_count": 84,
     "metadata": {},
     "output_type": "execute_result"
    }
   ],
   "source": [
    "# step을 지정하여 원소 값 출력\n",
    "# 처음부터 끝까지 2 step씩 건너뛰며 출력\n",
    "b1[::2]"
   ]
  },
  {
   "cell_type": "markdown",
   "id": "d36344d3-1774-4809-addb-4097f4dbdea4",
   "metadata": {},
   "source": [
    "### 슬라이싱을 이용해 배열의 원소 값 변경하기"
   ]
  },
  {
   "cell_type": "code",
   "execution_count": 87,
   "id": "d744f4e6-31b4-4896-bc9d-641e101d1390",
   "metadata": {},
   "outputs": [
    {
     "data": {
      "text/plain": [
       "array([ 0, 10, 25, 35, 45, 50])"
      ]
     },
     "execution_count": 87,
     "metadata": {},
     "output_type": "execute_result"
    }
   ],
   "source": [
    "# 2번 인덱스부터 4번 인덱스까지의 값을 변경\n",
    "b1[2:5] = np.array([25, 35, 45])\n",
    "b1"
   ]
  },
  {
   "cell_type": "code",
   "execution_count": 90,
   "id": "f507b3a3-52dc-4c44-812f-8e456f932823",
   "metadata": {},
   "outputs": [
    {
     "data": {
      "text/plain": [
       "array([ 0, 10, 25, 60, 60, 60])"
      ]
     },
     "execution_count": 90,
     "metadata": {},
     "output_type": "execute_result"
    }
   ],
   "source": [
    "# 특정 부분을 하나의 값으로 변경하기\n",
    "# 3번 인덱스부터 5번 인덱스(마지막)까지의 값을 60으로 변경\n",
    "b1[3:6] = 60\n",
    "b1"
   ]
  },
  {
   "cell_type": "markdown",
   "id": "5a9d0e3f-28ea-4d15-9cf2-6139aa546698",
   "metadata": {},
   "source": [
    "### 2차원 배열(행렬) 슬라이싱\n",
    "- 사용법\n",
    "  + 배열[행_시작_위치:행_끝_위치], [열_시작_위치:열_끝_위치]\n",
    "  + 반환되는 원소의 행 범위 : '행_시작_위치 ~ 행_끝_위치-1'\n",
    "  + 반환되는 원소의 열 범위 : '열_시작_위치 ~ 열_끝_위치-1'\n",
    " \n",
    "- 특정 행을 선택한 후 열을 슬라이싱 하기\n",
    "  + 배열[행_위치][열_시작_위치:열_끝_위치]"
   ]
  },
  {
   "cell_type": "code",
   "execution_count": 100,
   "id": "644a72e4-7a22-414c-a0ab-06cfc501b1b8",
   "metadata": {},
   "outputs": [
    {
     "data": {
      "text/plain": [
       "array([[10, 20, 30],\n",
       "       [40, 50, 60],\n",
       "       [70, 80, 90]])"
      ]
     },
     "execution_count": 100,
     "metadata": {},
     "output_type": "execute_result"
    }
   ],
   "source": [
    "b2 = np.arange(10, 100, 10).reshape(3, 3)\n",
    "b2"
   ]
  },
  {
   "cell_type": "code",
   "execution_count": 101,
   "id": "823e2fd2-d545-4d02-b968-c1e85998d9e9",
   "metadata": {},
   "outputs": [
    {
     "data": {
      "text/plain": [
       "array([[50, 60],\n",
       "       [80, 90]])"
      ]
     },
     "execution_count": 101,
     "metadata": {},
     "output_type": "execute_result"
    }
   ],
   "source": [
    "b2[1:3, 1:3]"
   ]
  },
  {
   "cell_type": "code",
   "execution_count": 102,
   "id": "5c655950-0d17-47e1-bbee-4fb5ae0eb8e6",
   "metadata": {},
   "outputs": [
    {
     "data": {
      "text/plain": [
       "array([[20, 30],\n",
       "       [50, 60],\n",
       "       [80, 90]])"
      ]
     },
     "execution_count": 102,
     "metadata": {},
     "output_type": "execute_result"
    }
   ],
   "source": [
    "# 행 범위 : 0(처음) ~ 2(마지막)\n",
    "# 열 범위 : 1 ~ 2(마지막)\n",
    "b2[:3, 1:]"
   ]
  },
  {
   "cell_type": "code",
   "execution_count": 103,
   "id": "fadbc2d2-e5f3-4bec-a74d-001d7eecff4d",
   "metadata": {},
   "outputs": [
    {
     "data": {
      "text/plain": [
       "array([40, 50])"
      ]
     },
     "execution_count": 103,
     "metadata": {},
     "output_type": "execute_result"
    }
   ],
   "source": [
    "# 헹 = 1로 고정\n",
    "# 열 범위 : 0(처음) ~ 1\n",
    "# 즉, (1, 0), (1, 1) 출력\n",
    "b2[1][0:2]"
   ]
  },
  {
   "cell_type": "code",
   "execution_count": 104,
   "id": "9ba42b2a-f1f0-455d-bec8-fb2f5461b5d4",
   "metadata": {},
   "outputs": [
    {
     "data": {
      "text/plain": [
       "array([[10, 25, 35],\n",
       "       [40, 55, 65],\n",
       "       [70, 80, 90]])"
      ]
     },
     "execution_count": 104,
     "metadata": {},
     "output_type": "execute_result"
    }
   ],
   "source": [
    "# 행 범위 : 0(처음) ~ 1\n",
    "# 열 범위 : 1 ~ 2(마지막)\n",
    "# 즉, (0, 1), (0, 2), (1, 1), (1, 2) 값 변경\n",
    "b2[0:2, 1:3] = np.array([[25, 35], [55, 65]])\n",
    "b2"
   ]
  },
  {
   "cell_type": "markdown",
   "id": "a9bbf014-2c39-4707-9cb2-5e718fec85ae",
   "metadata": {},
   "source": [
    "## Numpy 조건문\n",
    "- np.where : 단일 조건문\n",
    "- np.select : 다중 조건문"
   ]
  },
  {
   "cell_type": "code",
   "execution_count": 3,
   "id": "358e5e3a-9785-4534-887c-f50f8b148fb0",
   "metadata": {},
   "outputs": [
    {
     "data": {
      "text/plain": [
       "array([0, 1, 2, 3, 4, 5, 6, 7, 8, 9])"
      ]
     },
     "execution_count": 3,
     "metadata": {},
     "output_type": "execute_result"
    }
   ],
   "source": [
    "arr = np.arange(10)\n",
    "arr"
   ]
  },
  {
   "cell_type": "code",
   "execution_count": 6,
   "id": "7b92d242-d3ba-480d-a8e7-af9392188d10",
   "metadata": {},
   "outputs": [
    {
     "data": {
      "text/plain": [
       "array([ 0,  1,  2,  3,  4, 50, 60, 70, 80, 90])"
      ]
     },
     "execution_count": 6,
     "metadata": {},
     "output_type": "execute_result"
    }
   ],
   "source": [
    "# 0, 1, 2, 3, 4, 50, 60, 70, 80, 90\n",
    "# 조건이 하나인 경우 where로 처리\n",
    "np.where(arr < 5, arr, arr*10)"
   ]
  },
  {
   "cell_type": "code",
   "execution_count": 13,
   "id": "5c15d2be-e748-4f1d-9233-de578af02212",
   "metadata": {},
   "outputs": [
    {
     "data": {
      "text/plain": [
       "array([100, 101,   2,   3,   4,   5,  12,  14,  16,  18])"
      ]
     },
     "execution_count": 13,
     "metadata": {},
     "output_type": "execute_result"
    }
   ],
   "source": [
    "# 100, 101, 2, 3, 4, 5, 12, 14, 16, 18\n",
    "# 2 미만 일 때는 100을 더함\n",
    "# 5 초과인경우 2를 곱함\n",
    "\n",
    "# 조건식과 대응되는 결과를 리스트로 만들기\n",
    "# 조건식에 대응되는 리스트\n",
    "cond_list = [arr > 5, arr < 2]\n",
    "\n",
    "# 조건식에 해당하는 원소의 결과값에 대한 리스트\n",
    "choice_list = [arr * 2, arr + 100]\n",
    "\n",
    "# default인 경우(= 조건에 해당하지 않는 경우)\n",
    "np.select(cond_list, choice_list, default=arr)"
   ]
  },
  {
   "cell_type": "code",
   "execution_count": 4,
   "id": "b1545930-55dc-46e5-a67e-83c3f5cc86d8",
   "metadata": {},
   "outputs": [
    {
     "data": {
      "text/plain": [
       "array([-4, -4, -4, -4])"
      ]
     },
     "execution_count": 4,
     "metadata": {},
     "output_type": "execute_result"
    }
   ],
   "source": [
    "# numpy fill() 메소드\n",
    "# Ex) a.fill(?): a라는 객체(ndarray)의 값들을 모두 ?의 값으로 채움\n",
    "a = np.array([1, 2, 3, 4])\n",
    "a.fill(-4.8)\n",
    "a"
   ]
  },
  {
   "cell_type": "code",
   "execution_count": 7,
   "id": "4b1cfa84-a054-4149-a411-afaa65ab8f7e",
   "metadata": {},
   "outputs": [
    {
     "data": {
      "text/plain": [
       "dtype('float64')"
      ]
     },
     "execution_count": 7,
     "metadata": {},
     "output_type": "execute_result"
    }
   ],
   "source": [
    "# 위 예시에서 .8이 생략된 이유는 배열 a의 dtype이  int(정수형)이기 때문\n",
    "b = np.array([1.0, 2.0, 3.0, 4.0])\n",
    "b.dtype"
   ]
  },
  {
   "cell_type": "code",
   "execution_count": 12,
   "id": "cf45bdf3-a84d-4674-897e-e9c4527b79ca",
   "metadata": {},
   "outputs": [
    {
     "data": {
      "text/plain": [
       "array([-4.8, -4.8, -4.8, -4.8])"
      ]
     },
     "execution_count": 12,
     "metadata": {},
     "output_type": "execute_result"
    }
   ],
   "source": [
    "b.fill(-4.8)\n",
    "b"
   ]
  },
  {
   "cell_type": "code",
   "execution_count": 14,
   "id": "6b069029-3cd6-4b92-bdba-7d7ea7ceee6d",
   "metadata": {},
   "outputs": [
    {
     "data": {
      "text/plain": [
       "array([[[ 0,  1,  2],\n",
       "        [ 3,  4,  5]],\n",
       "\n",
       "       [[ 6,  7,  8],\n",
       "        [ 9, 10, 11]]])"
      ]
     },
     "execution_count": 14,
     "metadata": {},
     "output_type": "execute_result"
    }
   ],
   "source": [
    "c = np.arange(12).reshape(2, 2, 3)\n",
    "c"
   ]
  },
  {
   "cell_type": "code",
   "execution_count": 16,
   "id": "a3e25a07-0346-48db-b77a-f879771ca330",
   "metadata": {},
   "outputs": [
    {
     "data": {
      "text/plain": [
       "12"
      ]
     },
     "execution_count": 16,
     "metadata": {},
     "output_type": "execute_result"
    }
   ],
   "source": [
    "# numpy size\n",
    "# 몇 개의 원소(메모리 주소)가 할당되었는 지 알 수 있음\n",
    "c.size"
   ]
  },
  {
   "cell_type": "code",
   "execution_count": 15,
   "id": "87487cc6-6923-4089-84ba-824d9aa8262d",
   "metadata": {},
   "outputs": [
    {
     "data": {
      "text/plain": [
       "3"
      ]
     },
     "execution_count": 15,
     "metadata": {},
     "output_type": "execute_result"
    }
   ],
   "source": [
    "# numpy ndim\n",
    "# 몇 차원 array인지 알 수 있음\n",
    "c.ndim # 3차원"
   ]
  }
 ],
 "metadata": {
  "kernelspec": {
   "display_name": "Python 3 (ipykernel)",
   "language": "python",
   "name": "python3"
  },
  "language_info": {
   "codemirror_mode": {
    "name": "ipython",
    "version": 3
   },
   "file_extension": ".py",
   "mimetype": "text/x-python",
   "name": "python",
   "nbconvert_exporter": "python",
   "pygments_lexer": "ipython3",
   "version": "3.10.13"
  }
 },
 "nbformat": 4,
 "nbformat_minor": 5
}
