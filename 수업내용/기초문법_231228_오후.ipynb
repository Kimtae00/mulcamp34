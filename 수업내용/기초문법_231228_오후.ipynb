{
  "nbformat": 4,
  "nbformat_minor": 0,
  "metadata": {
    "colab": {
      "provenance": [],
      "toc_visible": true,
      "authorship_tag": "ABX9TyOOjCXn8PsEhXqwYPmBNYLj",
      "include_colab_link": true
    },
    "kernelspec": {
      "name": "python3",
      "display_name": "Python 3"
    },
    "language_info": {
      "name": "python"
    }
  },
  "cells": [
    {
      "cell_type": "markdown",
      "metadata": {
        "id": "view-in-github",
        "colab_type": "text"
      },
      "source": [
        "<a href=\"https://colab.research.google.com/github/Kimtae00/mulcamp34/blob/lecture/%EA%B8%B0%EC%B4%88%EB%AC%B8%EB%B2%95_231228_%EC%98%A4%ED%9B%84.ipynb\" target=\"_parent\"><img src=\"https://colab.research.google.com/assets/colab-badge.svg\" alt=\"Open In Colab\"/></a>"
      ]
    },
    {
      "cell_type": "markdown",
      "source": [
        "# 클래스"
      ],
      "metadata": {
        "id": "LZS_0WT8YVpA"
      }
    },
    {
      "cell_type": "markdown",
      "source": [
        "## 함수\n",
        "  - 라이브러리(다른 사람이 짜놓은 코드)를 불러와서 사용을 많이 하였음.\n",
        "  - 직접 함수를 작성해보자\n",
        "    - 언제?\n",
        "      + 반복적인 일(코드 작업)이 발생하는 경우 작업의 용이성을 위해"
      ],
      "metadata": {
        "id": "12_K5vSZnkkL"
      }
    },
    {
      "cell_type": "code",
      "execution_count": 70,
      "metadata": {
        "colab": {
          "base_uri": "https://localhost:8080/"
        },
        "id": "6DJjD0ojlYWM",
        "outputId": "0301b841-6527-494a-edb3-365f7d2fe89e"
      },
      "outputs": [
        {
          "output_type": "execute_result",
          "data": {
            "text/plain": [
              "7"
            ]
          },
          "metadata": {},
          "execution_count": 70
        }
      ],
      "source": [
        "# 함수의 구조\n",
        "# 매개변수, 인자(개수는 정해지지 x)\n",
        "# def 함수명(인자):\n",
        "  # 코드 블록\n",
        "  # return 반환값\n",
        "\n",
        "def mySum(a, b):\n",
        "  c = a + b\n",
        "  return c\n",
        "\n",
        "mySum(3, 4)"
      ]
    },
    {
      "cell_type": "code",
      "source": [
        "# Ex) 뺄셈 함수\n",
        "def mySubtract(a, b):\n",
        "  result = a - b\n",
        "  # 0보다 작은 경우 고려\n",
        "  return abs(result)\n",
        "\n",
        "mySubtract(3, 4)"
      ],
      "metadata": {
        "colab": {
          "base_uri": "https://localhost:8080/"
        },
        "id": "oowjFgALp16l",
        "outputId": "07ecdf55-2c13-4c8f-e91b-c22311626057"
      },
      "execution_count": 71,
      "outputs": [
        {
          "output_type": "execute_result",
          "data": {
            "text/plain": [
              "1"
            ]
          },
          "metadata": {},
          "execution_count": 71
        }
      ]
    },
    {
      "cell_type": "code",
      "source": [
        "x = 3\n",
        "y = 1\n",
        "\n",
        "result = mySubtract(x, y)\n",
        "print(result)"
      ],
      "metadata": {
        "colab": {
          "base_uri": "https://localhost:8080/"
        },
        "id": "hAdbZsx7qPiZ",
        "outputId": "103a1e40-c2c3-4c11-9868-5486a7bf7b73"
      },
      "execution_count": 72,
      "outputs": [
        {
          "output_type": "stream",
          "name": "stdout",
          "text": [
            "2\n"
          ]
        }
      ]
    },
    {
      "cell_type": "code",
      "source": [
        "# 파라미터: a, b\n",
        "def mySubtract(a, b=0):\n",
        "  c = a - b\n",
        "  return c\n",
        "\n",
        "# 두 개의 인자 중 하나만 설정되어 있지 않았으므로, 정상 실행가능.\n",
        "print(mySubtract(3))\n",
        "\n",
        "M = 10\n",
        "N = 100\n",
        "\n",
        "# 함수의 형태를 재정의 한 것임.\n",
        "'''\n",
        "함수 오버로딩 (Function Overloading)\n",
        "같은 이름의 함수를 여러 개 정의하되, 인자의 수나 타입이 다른 경우\n",
        "mySubtract 함수는 두 번째 인자 b에 기본값 0을 제공\n",
        "=> 하나의 인자만 받거나 두 개의 인자 모두 받을 수 있는 형태로 동작.\n",
        "'''\n",
        "\n",
        "# 매개변수: M, N\n",
        "print(mySubtract(M, N))"
      ],
      "metadata": {
        "colab": {
          "base_uri": "https://localhost:8080/"
        },
        "id": "mBw9Q6ictFZ6",
        "outputId": "15317fd2-9d9c-4a66-de2d-f762e56fabcf"
      },
      "execution_count": 73,
      "outputs": [
        {
          "output_type": "stream",
          "name": "stdout",
          "text": [
            "3\n",
            "-90\n"
          ]
        }
      ]
    },
    {
      "cell_type": "code",
      "source": [
        "# 파라미터 + return 값이 없는 함수\n",
        "def my_func():\n",
        "  print('My first function')\n",
        "  print('This is a function!')\n",
        "\n",
        "result = my_func()\n",
        "\n",
        "# 반환 값이 없는 함수이므로 return 값이 None임.\n",
        "# 함수 내부 로직은 정상적으로 수행됨.\n",
        "# print(result) # None"
      ],
      "metadata": {
        "colab": {
          "base_uri": "https://localhost:8080/"
        },
        "id": "OjNVXgTMvPvg",
        "outputId": "89921df6-84ba-4a6a-b099-b766e85362da"
      },
      "execution_count": 74,
      "outputs": [
        {
          "output_type": "stream",
          "name": "stdout",
          "text": [
            "My first function\n",
            "This is a function!\n"
          ]
        }
      ]
    },
    {
      "cell_type": "markdown",
      "source": [
        "### 변수의 유효 범위\n",
        "  - 지역 변수(Local Variable) & 전역 변수(Global Variable)\n",
        "  - 전역 변수(Global Variable)\n",
        "    + 프로그램의 어디에서나 접근할 수 있는 변수\n",
        "  - 지역 변수(Local Variable)\n",
        "    + 특정 함수 또는 블록 내에서만 접근할 수 있는 변수\n"
      ],
      "metadata": {
        "id": "SIAfcdeY2AFV"
      }
    },
    {
      "cell_type": "code",
      "source": [
        "a = 5 # 전역 변수\n",
        "\n",
        "def func():\n",
        "  a = 1 # 지역 변수\n",
        "  print(f'func 지역 변수 a = {a}')\n",
        "\n",
        "func()\n",
        "print(f'a = {a}')"
      ],
      "metadata": {
        "colab": {
          "base_uri": "https://localhost:8080/"
        },
        "id": "XdOINUSC07in",
        "outputId": "9ec3ef88-ad80-48a3-fe0b-0b9cba8ac11a"
      },
      "execution_count": 75,
      "outputs": [
        {
          "output_type": "stream",
          "name": "stdout",
          "text": [
            "func 지역 변수 a = 1\n",
            "a = 5\n"
          ]
        }
      ]
    },
    {
      "cell_type": "code",
      "source": [
        "a = 5 # 전역 변수\n",
        "\n",
        "def func1():\n",
        "  a = 1 # 지역 변수\n",
        "  print(f'func1 지역 변수 a = {a}')\n",
        "\n",
        "def func2():\n",
        "  a = 4 # 지역 변수\n",
        "  print(f'func2 지역 변수 a = {a}')\n",
        "\n",
        "\n",
        "def func3():\n",
        "  print(f'func3 전역 변수 a = {a}')\n",
        "\n",
        "def func4():\n",
        "  global a # 함수 내부에서 전역 변수 값을 변경하기 위함\n",
        "  a = 500 # 함수 코드 블럭 밖의 a 값에도 영향을 줌\n",
        "  print(f'func4 전역 변수 a = {a}')\n",
        "\n",
        "func1()\n",
        "func2()\n",
        "func3()\n",
        "func4()\n",
        "print(f'전역 변수 a = {a}')\n",
        "func3()\n",
        "func2()\n",
        "func1()"
      ],
      "metadata": {
        "colab": {
          "base_uri": "https://localhost:8080/"
        },
        "id": "M1n8ytm80H1U",
        "outputId": "d831b564-d27d-4448-d250-ac3c83105029"
      },
      "execution_count": 76,
      "outputs": [
        {
          "output_type": "stream",
          "name": "stdout",
          "text": [
            "func1 지역 변수 a = 1\n",
            "func2 지역 변수 a = 4\n",
            "func3 전역 변수 a = 5\n",
            "func4 전역 변수 a = 500\n",
            "전역 변수 a = 500\n",
            "func3 전역 변수 a = 500\n",
            "func2 지역 변수 a = 4\n",
            "func1 지역 변수 a = 1\n"
          ]
        }
      ]
    },
    {
      "cell_type": "markdown",
      "source": [
        "### 람다 함수(lambda function)\n",
        "  - def 예약어로 정의하는 함수는 주로 복잡한 로직을 만들 때 사용\n",
        "  - 단순한 로직의 함수를 만들 때는 lambda를 주로 사용\n",
        "    + 함수를 하나의 라인으로 처리\n",
        "    + lambda 인자(=매개변수) : 인자를 활용한 코드(원하는 인자 코드 입력)"
      ],
      "metadata": {
        "id": "LQb4zGi-6wFx"
      }
    },
    {
      "cell_type": "code",
      "source": [
        "(lambda x : x ** 2)(3)"
      ],
      "metadata": {
        "colab": {
          "base_uri": "https://localhost:8080/"
        },
        "id": "gEp7iCI64Pdg",
        "outputId": "de227849-0805-40b8-adfa-92642cca22a3"
      },
      "execution_count": 77,
      "outputs": [
        {
          "output_type": "execute_result",
          "data": {
            "text/plain": [
              "9"
            ]
          },
          "metadata": {},
          "execution_count": 77
        }
      ]
    },
    {
      "cell_type": "code",
      "source": [
        "# 위 lambda 함수와 동일한 결과\n",
        "def square(x):\n",
        "  result = x ** 2\n",
        "  return result\n",
        "\n",
        "square(3)"
      ],
      "metadata": {
        "colab": {
          "base_uri": "https://localhost:8080/"
        },
        "id": "041J2XKx7Oj4",
        "outputId": "b403d0ad-bb49-431d-eb3a-cee37a348400"
      },
      "execution_count": 78,
      "outputs": [
        {
          "output_type": "execute_result",
          "data": {
            "text/plain": [
              "9"
            ]
          },
          "metadata": {},
          "execution_count": 78
        }
      ]
    },
    {
      "cell_type": "code",
      "source": [
        "# 람다 함수 저장\n",
        "mySquare = lambda x : x ** 2\n",
        "mySquare(5)"
      ],
      "metadata": {
        "colab": {
          "base_uri": "https://localhost:8080/"
        },
        "id": "mvQL9Phu7Xkm",
        "outputId": "4789bdf7-c512-4788-a47d-6525865d8730"
      },
      "execution_count": 79,
      "outputs": [
        {
          "output_type": "execute_result",
          "data": {
            "text/plain": [
              "25"
            ]
          },
          "metadata": {},
          "execution_count": 79
        }
      ]
    },
    {
      "cell_type": "code",
      "source": [
        "# 사칙 연산을 수행하는 람다 함수 정의\n",
        "addition = lambda x, y : x + y\n",
        "subtract = lambda x, y : x - y\n",
        "multiply = lambda x, y : x * y\n",
        "division = lambda x, y : int(x / y)\n",
        "remainder = lambda x, y : x % y\n",
        "\n",
        "print(f'{5} + {3} = {addition(5, 3)}')\n",
        "print(f'{5} - {3} = {subtract(5, 3)}')\n",
        "print(f'{5} * {3} = {multiply(5, 3)}')\n",
        "print(f'{5} / {3} = {division(5, 3)}')\n",
        "print(f'{5} % {3} = {remainder(5, 3)}')"
      ],
      "metadata": {
        "colab": {
          "base_uri": "https://localhost:8080/"
        },
        "id": "rHL6ZJAY7pwJ",
        "outputId": "1c785f23-7f2e-4e63-d691-3f0e022a5f6a"
      },
      "execution_count": 80,
      "outputs": [
        {
          "output_type": "stream",
          "name": "stdout",
          "text": [
            "5 + 3 = 8\n",
            "5 - 3 = 2\n",
            "5 * 3 = 15\n",
            "5 / 3 = 1\n",
            "5 % 3 = 2\n"
          ]
        }
      ]
    },
    {
      "cell_type": "markdown",
      "source": [
        "## 클래스 선언과 객체 생성\n",
        "  - 함수의 확장\n",
        "  ### 클래스(Class)\n",
        "    - 사물의 \"설계도\"\n",
        "      + Ex) 차량의 설계도\n",
        "    - 속성(Attribute)과 메서드(Method)를 가지고 있음\n",
        "      + Ex) 속성(성질, 상태) : 핸들, 문, 브랜드, 모델명 etc ..\n",
        "      + Ex) 메서드(기능, 동작) : 전진, 후진, 정지 etc ..\n",
        "\n",
        "  ### 객체(Object)\n",
        "    - \"설계도\"(클래스)로 부터 만들어낸 사물\n",
        "    - 객체는 속성과 메서드를 가질 수 있음\n"
      ],
      "metadata": {
        "id": "vvxcAXrfBCvU"
      }
    },
    {
      "cell_type": "code",
      "source": [
        "class Car:\n",
        "    def __init__(self, brand, model, year):\n",
        "        self.brand = brand\n",
        "        self.model = model\n",
        "        self.year = year\n",
        "        self.is_moving = False\n",
        "\n",
        "    def start(self):\n",
        "        if not self.is_moving:\n",
        "            print(f\"{self.brand} {self.model} is starting.\")\n",
        "            self.is_moving = True\n",
        "        else:\n",
        "            print(f\"{self.brand} {self.model} is already moving.\")\n",
        "\n",
        "    def stop(self):\n",
        "        if self.is_moving:\n",
        "            print(f\"{self.brand} {self.model} is stopping.\")\n",
        "            self.is_moving = False\n",
        "        else:\n",
        "            print(f\"{self.brand} {self.model} is already stopped.\")\n",
        "\n",
        "    def __str__(self):\n",
        "        return f\"{self.year} {self.brand} {self.model}\"\n",
        "\n",
        "# 자동차 인스턴스 생성 예시\n",
        "my_car = Car(\"Toyota\", \"Corolla\", 2020)\n",
        "\n",
        "# 자동차 시작\n",
        "my_car.start()\n",
        "my_car.start()\n",
        "\n",
        "# 자동차 정지\n",
        "my_car.stop()\n",
        "my_car.stop()\n",
        "\n",
        "# 자동차 정보 출력\n",
        "print(my_car)"
      ],
      "metadata": {
        "colab": {
          "base_uri": "https://localhost:8080/"
        },
        "id": "YbWrPT5YFEwr",
        "outputId": "88f364e0-560c-4428-d3e9-67457c98fcec"
      },
      "execution_count": 81,
      "outputs": [
        {
          "output_type": "stream",
          "name": "stdout",
          "text": [
            "Toyota Corolla is starting.\n",
            "Toyota Corolla is already moving.\n",
            "Toyota Corolla is stopping.\n",
            "Toyota Corolla is already stopped.\n",
            "2020 Toyota Corolla\n"
          ]
        }
      ]
    },
    {
      "cell_type": "code",
      "source": [
        "# 자전거의 속성 : data (바퀴의 크기, 자전거의 색상)\n",
        "# 자전거의 동작 : method ( = function), 지정된 속도로 이동, 좌/우회전, 정지 기능"
      ],
      "metadata": {
        "id": "SVc_bp0V8y_p"
      },
      "execution_count": 82,
      "outputs": []
    },
    {
      "cell_type": "markdown",
      "source": [
        "- why Class? 프로그래밍 관점"
      ],
      "metadata": {
        "id": "YiOkpoENJYOJ"
      }
    },
    {
      "cell_type": "code",
      "source": [
        "result1 = 0\n",
        "result2 = 0\n",
        "\n",
        "def add1(num):\n",
        "  global result1\n",
        "\n",
        "  result1 = result1 + num # 결괏값(result)에 입력값(num) 더하기\n",
        "  return result1\n",
        "\n",
        "def add2(num):\n",
        "  global result2\n",
        "\n",
        "  result2 = result2 + num # 결괏값(result)에 입력값(num) 더하기\n",
        "  return result2\n",
        "\n",
        "\n",
        "print(add1(3))\n",
        "print(add1(5))\n",
        "print(add2(3))\n",
        "print(add2(8))"
      ],
      "metadata": {
        "colab": {
          "base_uri": "https://localhost:8080/"
        },
        "id": "nAcYDoUYEeCa",
        "outputId": "8e7a585e-8861-480a-9c4c-b864be4309ea"
      },
      "execution_count": 83,
      "outputs": [
        {
          "output_type": "stream",
          "name": "stdout",
          "text": [
            "3\n",
            "8\n",
            "3\n",
            "11\n"
          ]
        }
      ]
    },
    {
      "cell_type": "markdown",
      "source": [
        "- 위 코드의 문제점 : 같은 기능(덧셈)을 수행하는 함수가 중복될 수 있음 / 코드의 가독성이 매우 급격하게 떨어지기 시작"
      ],
      "metadata": {
        "id": "D5QvFdmBKg1h"
      }
    },
    {
      "cell_type": "code",
      "source": [
        "# 계산기 클래스\n",
        "class Calculator:\n",
        "\n",
        "  # 초기화 메서드(객체를 생성하면 자동으로 실행)\n",
        "  def __init__(self):\n",
        "    self.result = 0\n",
        "\n",
        "  # 클래스 메서드\n",
        "  def add(self, num):\n",
        "    self.result += num\n",
        "    return self.result\n",
        "\n",
        "\n",
        "cal1 = Calculator() # 인스턴스(객체) 생성\n",
        "cal2 = Calculator() # 인스턴스(객체) 생성\n",
        "\n",
        "'''\n",
        "클래스의 위대함\n",
        "독립적으로 구현이 되면서, 동시에 실행이 되고 있음\n",
        "기능은 덧셈 기능\n",
        "계산기 댓수를 무한으로 생성 가능\n",
        "'''\n",
        "\n",
        "print(cal1.add(3))\n",
        "print(cal1.add(5))\n",
        "print(cal2.add(3))\n",
        "print(cal2.add(100))\n",
        "\n",
        "# print(cal2.multiple(3)) AttributeError 발생"
      ],
      "metadata": {
        "colab": {
          "base_uri": "https://localhost:8080/"
        },
        "id": "9fS1aumKJSh7",
        "outputId": "f540d578-b5fc-4a40-eab9-106ecd5a70a5"
      },
      "execution_count": 91,
      "outputs": [
        {
          "output_type": "stream",
          "name": "stdout",
          "text": [
            "3\n",
            "8\n",
            "3\n",
            "103\n"
          ]
        }
      ]
    },
    {
      "cell_type": "markdown",
      "source": [
        "- ---------------------------------------------------------------------------\n",
        "AttributeError                            Traceback (most recent call last)\n",
        "<ipython-input-60-8d623bddbaca> in <cell line: 1>()\n",
        "----> 1 print(cal2.multiple(3))\n",
        "\n",
        "AttributeError: 'Calculator' object has no attribute 'multiple'\n",
        "\n",
        "\"AttributeError\"는 클래스나 인스턴스에서 찾을 수 없는\n",
        "속성(변수) 또는 메서드(함수)에 접근하려고 할 때 발생\n",
        "메서드도 클래스의 속성 중 하나로 간주되므로,\n",
        "클래스에 정의되지 않은 메서드를 호출하려고 하면 \"AttributeError\"가 발생함.\n",
        "\n",
        "cf) MethodError는 존재하지 않는 에러\n"
      ],
      "metadata": {
        "id": "BZFGO5BKXT1o"
      }
    },
    {
      "cell_type": "markdown",
      "source": [
        "### 객체 초기화\n",
        "  - __init__() : 객체 생성과 동시에 속성값을 지정할 수 있음.\n",
        "    + 주로 클래스 선언 시 변수 초기화"
      ],
      "metadata": {
        "id": "T732Os1oVKHH"
      }
    },
    {
      "cell_type": "code",
      "source": [
        "class Bicycle():\n",
        "\n",
        "  # 변수 초기화\n",
        "  def __init__(self, wheel_size, color):\n",
        "    self.wheel_size = wheel_size\n",
        "    self.color = color\n",
        "\n",
        "  def stop(self):\n",
        "    print('자전거({0}, {1}) : 정지'.format(self.wheel_size, self.color))\n",
        "\n",
        "my_bicycle = Bicycle(100, 'Blue')\n",
        "ur_bicycle = Bicycle(26, 'Pink')\n",
        "\n",
        "my_bicycle.stop()\n",
        "ur_bicycle.stop()\n"
      ],
      "metadata": {
        "colab": {
          "base_uri": "https://localhost:8080/"
        },
        "id": "3lVfYbCxQVL4",
        "outputId": "211d1bd1-6684-4184-9858-3bb0161894c3"
      },
      "execution_count": 86,
      "outputs": [
        {
          "output_type": "stream",
          "name": "stdout",
          "text": [
            "자전거(100, Blue) : 정지\n",
            "자전거(26, Pink) : 정지\n"
          ]
        }
      ]
    },
    {
      "cell_type": "code",
      "source": [],
      "metadata": {
        "id": "paFf2zC0T9hk"
      },
      "execution_count": 85,
      "outputs": []
    }
  ]
}