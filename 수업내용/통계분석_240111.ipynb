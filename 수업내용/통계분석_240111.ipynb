{
 "cells": [
  {
   "cell_type": "markdown",
   "id": "3f3e3192-9074-4810-9e39-80a17cec73db",
   "metadata": {},
   "source": [
    "# 통계검정\n",
    "- 교재 p294"
   ]
  },
  {
   "cell_type": "markdown",
   "id": "f64b33ce-7c11-4bee-8d34-903e14a7746a",
   "metadata": {},
   "source": [
    "## 문제 상황\n",
    "- 편의점 감자튀김 (무게 130g으로 알려져 있음)\n",
    "- 학생이 무게 하나 잼. 122.02g 밖에 되지 않음\n",
    "- 2주간 매일 감자튀김을 사서 무게를 측정\n",
    "  + 14개의 표본의 평균 계산했는데, 128.451g ==> 학생이 편의점주에게 항의\n",
    "  + 편의점주 왈 : 그저 우연이다!\n",
    "- 14개 표본의 평균이 128.451g으로 나온 건 정말 우연인가?"
   ]
  },
  {
   "cell_type": "markdown",
   "id": "58f79e96-9fdc-4034-b676-1a5fde91d165",
   "metadata": {},
   "source": [
    "### 질문\n",
    "- 어떤 통계 검정 방법을 사용해야 할까요?\n",
    "  + t-test, One Sample T-Test\n",
    "  + 표본 14개 ==> 정규성 검정 진행 후, 정규성 검정 통과 할 때, One Sample T-Test \n",
    "- 귀무가설과 대립가설을 설정해보세요?\n",
    "  + 귀무가설 : 모평균 (130g)과 표본평균 (128.451)과 같다\n",
    "  + 대립가설 : 모평균 (130g)과 표본평균 (128.451)과 같지 않다. (양측검정)\n",
    "  + 대립가설 : 모평균 (130g)> 표본평균 (128.451)보다 크다. (단측검정)\n",
    "- 교재 p302 단측검정과 양측검정 설명"
   ]
  },
  {
   "cell_type": "code",
   "execution_count": 1,
   "id": "20ca9939-b368-4f6d-9490-9a26f2e6edca",
   "metadata": {},
   "outputs": [
    {
     "name": "stdout",
     "output_type": "stream",
     "text": [
      "Requirement already satisfied: scipy in /Users/gimtaegi/anaconda3/envs/mulcamp34/lib/python3.10/site-packages (1.11.4)\n",
      "Requirement already satisfied: numpy<1.28.0,>=1.21.6 in /Users/gimtaegi/anaconda3/envs/mulcamp34/lib/python3.10/site-packages (from scipy) (1.26.2)\n"
     ]
    }
   ],
   "source": [
    "!pip install scipy"
   ]
  },
  {
   "cell_type": "code",
   "execution_count": 2,
   "id": "1e82c381-85a2-46e1-b479-c1a50bb235bd",
   "metadata": {},
   "outputs": [],
   "source": [
    "# 294\n",
    "import numpy as np \n",
    "import pandas as pd \n",
    "from scipy import stats"
   ]
  },
  {
   "cell_type": "code",
   "execution_count": 3,
   "id": "2733f5a4-3a8a-4c25-a5d5-66529415fc3c",
   "metadata": {},
   "outputs": [],
   "source": [
    "%precision 3\n",
    "np.random.seed(1111)"
   ]
  },
  {
   "cell_type": "code",
   "execution_count": 4,
   "id": "f10aae49-ca53-44e2-a6f4-52cf8156aee6",
   "metadata": {},
   "outputs": [
    {
     "data": {
      "text/plain": [
       "'1.11.4'"
      ]
     },
     "execution_count": 4,
     "metadata": {},
     "output_type": "execute_result"
    }
   ],
   "source": [
    "import scipy \n",
    "scipy.__version__"
   ]
  },
  {
   "cell_type": "code",
   "execution_count": 9,
   "id": "e66a710f-0d24-4885-b14a-34fa0b8682e5",
   "metadata": {},
   "outputs": [
    {
     "data": {
      "text/plain": [
       "array([122.02, 131.73, 130.6 , 131.82, 132.05, 126.12, 124.43, 132.89,\n",
       "       122.79, 129.95, 126.14, 134.45, 127.64, 125.68])"
      ]
     },
     "execution_count": 9,
     "metadata": {},
     "output_type": "execute_result"
    }
   ],
   "source": [
    "df = pd.read_csv('../data/ch11_potato.csv')\n",
    "sample = np.array(df['무게'])\n",
    "sample"
   ]
  },
  {
   "cell_type": "code",
   "execution_count": 10,
   "id": "e2466971-980e-401d-a52f-b3f42c8bedef",
   "metadata": {},
   "outputs": [
    {
     "data": {
      "text/plain": [
       "128.451"
      ]
     },
     "execution_count": 10,
     "metadata": {},
     "output_type": "execute_result"
    }
   ],
   "source": [
    "# 표본평균\n",
    "s_mean = np.mean(sample)\n",
    "s_mean"
   ]
  },
  {
   "cell_type": "markdown",
   "id": "17575e18-60a7-48a3-8a5b-8a90d35b7b00",
   "metadata": {},
   "source": [
    "### A 학생의 관심\n",
    "- (14개의) 표본평균이 모평균130g보다 적은지 여부\n",
    "- 여기서는 감자튀김의 표본집단이 정규분포를 따르고 있고 ==> 정규성 검정을 할 필요가 없다\n",
    "    + 비모수 검정을 쓸 필요가 없다!!!\n",
    "    + 모수 검정을 하면 된다!!\n",
    "- 모분산이 9임을 알고 있다고 전제한다. "
   ]
  },
  {
   "cell_type": "code",
   "execution_count": 11,
   "id": "8da6e594-698f-42d9-bc5f-3465f6b592c1",
   "metadata": {},
   "outputs": [
    {
     "data": {
      "text/plain": [
       "128.681"
      ]
     },
     "execution_count": 11,
     "metadata": {},
     "output_type": "execute_result"
    }
   ],
   "source": [
    "rv = stats.norm(130, # 모평균\n",
    "                np.sqrt(9/14)) # 9 모분산, 14 표본의 갯수\n",
    "rv.isf(0.95) # 0.95 신뢰구간 95%"
   ]
  },
  {
   "cell_type": "code",
   "execution_count": 12,
   "id": "5dc3ea3b-00cd-4e1a-a126-4f836fde9938",
   "metadata": {},
   "outputs": [
    {
     "data": {
      "text/plain": [
       "129.099"
      ]
     },
     "execution_count": 12,
     "metadata": {},
     "output_type": "execute_result"
    }
   ],
   "source": [
    "rv = stats.norm(130, # 모평균\n",
    "                np.sqrt(9/30)) # 9 모분산, 14 표본의 갯수\n",
    "rv.isf(0.95) # 0.95 신뢰구간 95%"
   ]
  },
  {
   "cell_type": "markdown",
   "id": "6d441c98-7638-4135-a632-21efc654cab8",
   "metadata": {},
   "source": [
    "### 검정통계량"
   ]
  },
  {
   "cell_type": "code",
   "execution_count": 13,
   "id": "30fed6c9-3e22-49e2-ab86-42193ad29792",
   "metadata": {},
   "outputs": [
    {
     "data": {
      "text/plain": [
       "-1.932"
      ]
     },
     "execution_count": 13,
     "metadata": {},
     "output_type": "execute_result"
    }
   ],
   "source": [
    "# 모평균 130 \n",
    "z = (s_mean - 130) / np.sqrt(9/14)\n",
    "z"
   ]
  },
  {
   "cell_type": "code",
   "execution_count": 14,
   "id": "4697d4b7-9b8d-44bf-8e12-9a8d34b7c0d3",
   "metadata": {},
   "outputs": [
    {
     "data": {
      "text/plain": [
       "-1.645"
      ]
     },
     "execution_count": 14,
     "metadata": {},
     "output_type": "execute_result"
    }
   ],
   "source": [
    "# 검정 통계량에 관한 임곗값을 구하기\n",
    "rv = stats.norm()\n",
    "rv.isf(0.95)"
   ]
  },
  {
   "cell_type": "code",
   "execution_count": 15,
   "id": "3965ee25-c0c7-447d-8945-22d8795cdb3e",
   "metadata": {},
   "outputs": [
    {
     "data": {
      "text/plain": [
       "-1.645"
      ]
     },
     "execution_count": 15,
     "metadata": {},
     "output_type": "execute_result"
    }
   ],
   "source": [
    "# 모평균 130 \n",
    "z = (s_mean - 130) / np.sqrt(9/14)\n",
    "rv = stats.norm()\n",
    "rv.isf(0.95)"
   ]
  },
  {
   "cell_type": "code",
   "execution_count": 16,
   "id": "7f892f7c-e6fa-48d4-98a4-a035390ed732",
   "metadata": {},
   "outputs": [
    {
     "data": {
      "text/plain": [
       "0.027"
      ]
     },
     "execution_count": 16,
     "metadata": {},
     "output_type": "execute_result"
    }
   ],
   "source": [
    "rv.cdf(z) # 유의수준 0.05보다 작음\n",
    "\n",
    "# 귀무가설 : 모평균 130g 표본평균 128.451g과 같다\n",
    "# 대립가설 : 모평균 130g 표본평균 128.451g과 다르다.\n",
    "\n",
    "# 대립가설 채택을 한다는 말은 통계에서는 존재하지 않음\n",
    "# 귀무가설 채택 or 귀무가설 기각(=대립가설 채택)"
   ]
  },
  {
   "cell_type": "code",
   "execution_count": 17,
   "id": "82b479bf-e78e-4cdb-ae87-67398c460364",
   "metadata": {},
   "outputs": [
    {
     "data": {
      "text/plain": [
       "(-1.960, 1.960)"
      ]
     },
     "execution_count": 17,
     "metadata": {},
     "output_type": "execute_result"
    }
   ],
   "source": [
    "# 양측검정\n",
    "z = (s_mean - 130) / np.sqrt(9/14) \n",
    "rv = stats.norm()\n",
    "rv.interval(0.95) # 신뢰구간 95%"
   ]
  },
  {
   "cell_type": "code",
   "execution_count": 18,
   "id": "5e8c4556-cc99-4c3a-8307-a95fb87f30d8",
   "metadata": {},
   "outputs": [
    {
     "data": {
      "text/plain": [
       "0.053"
      ]
     },
     "execution_count": 18,
     "metadata": {},
     "output_type": "execute_result"
    }
   ],
   "source": [
    "rv.cdf(z) * 2"
   ]
  },
  {
   "cell_type": "markdown",
   "id": "ef0cea70-ca3b-4603-94f1-d6320385fa78",
   "metadata": {},
   "source": [
    "## 질문\n",
    "- 단측검정, 양측검정을 어떤 상황에서 구분해서 사용하나요?\n",
    "    + 양측검정 A와 B가 Not Same\n",
    "      - 해석 : 우리가 모두 아는 평균 가지고 비교 가능\n",
    "    + 단측검정 A > B, B > A "
   ]
  },
  {
   "cell_type": "markdown",
   "id": "cb98d09c-800f-4a8a-9b70-5374263dab6d",
   "metadata": {},
   "source": [
    "## 가설검정의 두 가지 오류\n",
    "- 제 1종 오류 : 귀무가설이 옳을 때 귀무가설을 기각하는 오류\n",
    "- 제 2종 오류 : 대립가설이 옳을 때 귀무가설을 채택하는 오류"
   ]
  },
  {
   "cell_type": "markdown",
   "id": "1e5018c9-dd0a-4341-9ed4-8c78764af63c",
   "metadata": {},
   "source": [
    "### 제 1종 오류\n",
    "- 실제로 평균이 130g인데도 불구하고 평균은 130g보다 작다라고 결론을 내리는 상황\n",
    "    + False Positive (오탐)"
   ]
  },
  {
   "cell_type": "code",
   "execution_count": 41,
   "id": "3990aea2-d84a-454d-b201-7da9575fe7b5",
   "metadata": {},
   "outputs": [
    {
     "data": {
      "text/plain": [
       "0.052"
      ]
     },
     "execution_count": 41,
     "metadata": {},
     "output_type": "execute_result"
    }
   ],
   "source": [
    "rv = stats.norm(130, 3)\n",
    "c = stats.norm().isf(0.95)\n",
    "n_samples = 10000\n",
    "cnt = 0\n",
    "for _ in range(n_samples):\n",
    "    sample_ = np.round(rv.rvs(14), 2)\n",
    "    s_mean_ = np.mean(sample_)\n",
    "    z = (s_mean_ - 130) / np.sqrt(9/14)\n",
    "    if z < c:\n",
    "        cnt += 1\n",
    "cnt / n_samples"
   ]
  },
  {
   "cell_type": "markdown",
   "id": "267e7704-0658-42af-96fc-0b9e030513ba",
   "metadata": {},
   "source": [
    "- 1종 오류를 범할 비율은 0.053 / 약 5%의 비율로 130g보다 작다라고 잘못 탐지하는 것과 같다.\n",
    "- 1종 오류를 범할 확률을 위험률\n",
    "- 좀 더 엄격하게 적용하고 싶다고 하면 유의수준 1%에서 가설검정을 수행"
   ]
  },
  {
   "cell_type": "markdown",
   "id": "c7b467f7-d95a-404a-a8c9-3187e2d0073a",
   "metadata": {},
   "source": [
    "### 제 2종 오류\n",
    "- 실제로 표본평균이 130g보다 작음에도 불구하고 표본평균은 130g보다 작다라는 결론을 얻을 수 없는 상황\n",
    "    + 본래 검출해야 하는 것을 검출하지 못했으므로 미탐 false negative"
   ]
  },
  {
   "cell_type": "code",
   "execution_count": 20,
   "id": "592560e6-25b9-4a34-8dd1-87b8982ee394",
   "metadata": {},
   "outputs": [],
   "source": [
    "# p306\n",
    "rv = stats.norm(128, 3) # A 학생이 편의점에서 비밀문서, 실제로는 감자튀김의 평균이 128g\n"
   ]
  },
  {
   "cell_type": "code",
   "execution_count": 21,
   "id": "8e47598f-2327-4158-bcf8-559a246a74e3",
   "metadata": {},
   "outputs": [
    {
     "data": {
      "text/plain": [
       "0.197"
      ]
     },
     "execution_count": 21,
     "metadata": {},
     "output_type": "execute_result"
    }
   ],
   "source": [
    "c = stats.norm().isf(0.95)\n",
    "n_samples = 10000\n",
    "cnt = 0\n",
    "for _ in range(n_samples):\n",
    "    sample_ = np.round(rv.rvs(14), 2)\n",
    "    s_mean_ = np.mean(sample_)\n",
    "    z = (s_mean_ - 130) / np.sqrt(9/14)\n",
    "    if z >= c:\n",
    "        cnt += 1\n",
    "        \n",
    "cnt / n_samples"
   ]
  },
  {
   "cell_type": "markdown",
   "id": "d6cdbd13-cbe2-48c0-8354-34f17b5c61fc",
   "metadata": {},
   "source": [
    "- 0.198의 의미는 검정력 / 제대로 탐지하지 못할 확률이 20% 되더라!!\n",
    "- 제 2종 오류는 언제나 모집단의 정보에 의존한다.\n",
    "    + 중요한 포인트는 분석가는 모집단의 구체적인 정보를 알 방법이 없죠! "
   ]
  },
  {
   "cell_type": "code",
   "execution_count": 22,
   "id": "fa8e8fdc-23a9-440c-aa86-4496b92b7c0e",
   "metadata": {},
   "outputs": [
    {
     "data": {
      "text/plain": [
       "0.017"
      ]
     },
     "execution_count": 22,
     "metadata": {},
     "output_type": "execute_result"
    }
   ],
   "source": [
    "rv = stats.norm(127, 3)\n",
    "c = stats.norm().isf(0.95)\n",
    "n_samples = 10000\n",
    "cnt = 0\n",
    "for _ in range(n_samples):\n",
    "    sample_ = np.round(rv.rvs(14), 2)\n",
    "    s_mean_ = np.mean(sample_)\n",
    "    z = (s_mean_ - 130) / np.sqrt(9/14)\n",
    "    if z >= c:\n",
    "        cnt += 1\n",
    "        \n",
    "cnt / n_samples"
   ]
  },
  {
   "cell_type": "markdown",
   "id": "e5a23091-6ae5-486e-ba66-20f35a26878b",
   "metadata": {},
   "source": [
    "### 모분산을 안다!!\n",
    "- 현실적으로 모집단을 아는 것은 불가능\n",
    "    + 건강보험과 통계 / 전국민 데이터가 있는 자료 (국가)\n",
    "- 모분산을 알고 있다는 뜻은 모집단을 알고 있다 ==> 모평균도 구할 수 있음 ==> 모평균에 대한 검정을 우리가 굳이 할 필요가 있나?"
   ]
  },
  {
   "cell_type": "code",
   "execution_count": 23,
   "id": "54bd842e-0ff2-4e06-81b4-881070c87533",
   "metadata": {},
   "outputs": [],
   "source": [
    "def pmean_test(sample, mean0, alpha=0.05):\n",
    "    '''\n",
    "    sample : 표본 샘플 데이터\n",
    "    mean0 : 모평균을 제안 (감자칩의 무게와 같이 이미 기 제안이 된 것)\n",
    "    alpha : 신뢰구간 95% 수준의 신뢰구간\n",
    "    '''\n",
    "    s_mean = np.mean(sample)\n",
    "    u_var = np.var(sample, ddof=1)\n",
    "    n = len(sample)\n",
    "    rv = stats.t(df=n-1)\n",
    "    interval = rv.interval(1-alpha)\n",
    "\n",
    "    t = (s_mean - mean0) / np.sqrt(u_var/n)\n",
    "    print(f't통계량 값: {t:.3f}')\n",
    "    if interval[0] <= t <= interval[1]:\n",
    "        print('귀무가설을 채택')\n",
    "    else:\n",
    "        print('귀무가설을 기각')\n",
    "\n",
    "    if t < 0:\n",
    "        p = rv.cdf(t) * 2\n",
    "    else:\n",
    "        p = (1 - rv.cdf(t)) * 2\n",
    "    print(f'p값은 {p:.3f}')"
   ]
  },
  {
   "cell_type": "code",
   "execution_count": 24,
   "id": "5e135407-bf8f-400a-bf66-19cc8dc6b27b",
   "metadata": {},
   "outputs": [
    {
     "name": "stdout",
     "output_type": "stream",
     "text": [
      "t통계량 값: -1.455\n",
      "귀무가설을 채택\n",
      "p값은 0.169\n"
     ]
    }
   ],
   "source": [
    "pmean_test(sample, 130)"
   ]
  },
  {
   "cell_type": "code",
   "execution_count": 25,
   "id": "ac10fb39-b7d2-4e5c-b69f-b2da56bcfd5e",
   "metadata": {},
   "outputs": [
    {
     "data": {
      "text/plain": [
       "(-1.455, 0.169)"
      ]
     },
     "execution_count": 25,
     "metadata": {},
     "output_type": "execute_result"
    }
   ],
   "source": [
    "t, p = stats.ttest_1samp(sample, 130)\n",
    "t, p"
   ]
  },
  {
   "cell_type": "markdown",
   "id": "c06b2c56-7643-45f9-a089-dc1610e6ca6d",
   "metadata": {},
   "source": [
    "## 비전공자 / 이공계 \n",
    "- 비전공자 : 해당되는 수식을 일반인들에게 어떻게 풀어서 쉽게 설명을 해줄 것인가가 포인트, 보고서 작성시\n",
    "- 이공계 : 수식을 잘 정리해서 블로그 등 정리를 하는 것이 도움이 됨 "
   ]
  },
  {
   "cell_type": "markdown",
   "id": "5e41fb74-febd-4a0c-8ea0-33599b1377a6",
   "metadata": {},
   "source": [
    "### z 통계량 / t 통계량\n",
    "- 모집단을 알고, 모평균을 알고, 모분산을 다 알고 있다.\n",
    "    + z-검정 : z-통계량\n",
    "\n",
    "- 표본을 추출한다. 표본 평균을 알고, 표분 분산을 알고 있다.\n",
    "    + t-검정 : t-통계량"
   ]
  },
  {
   "cell_type": "markdown",
   "id": "c057d6bd-b92c-418c-b556-447675c049f2",
   "metadata": {},
   "source": [
    "# 2표본 문제에 관한 가설검정\n",
    "- 대응표본 : 정규분포를 가정할 수 있음 \n",
    "    + 정규성 검정 통과 : 대응표본 t-검정\n",
    "    + 정규성 검정 통과 실패 : 비모수 검정, 윌콕슨의 부호순위검정\n",
    "\n",
    "- 독립표본 : 정규분포를 가정할 수 있음\n",
    "    + 정규성 검정 통과 : 독립비교 t-검정\n",
    "    + 정규성 검정 통과 실패 : 맨-위트니의 U 검정"
   ]
  },
  {
   "cell_type": "markdown",
   "id": "d288f2b8-2530-445b-90e6-50dc8126cb81",
   "metadata": {},
   "source": [
    "### 대응표본 t-검정\n",
    "- A 학생은 친구 20명에게 1주일간 근력 운동을 하게 함 (intervention, 개입)\n",
    "- 운동 전후에 집중력을 측정하는 테스트 받게 됨\n",
    "- 가설검정\n",
    "    + 귀무가설 : 근력 운동은 집중력 향상에 효과있다.\r\n",
    "    + 대립가설 : 근력 운동은 집중력 향상에 효과없다\n",
    " \n",
    "    + 귀무가설: 근력운동 후 집중력은 근력운동 전 집중력과 같다.\r",
    "     + 대립가설: 근력운동 후 집중력은 근력운동 전 집중력과 다르다\n",
    " \n",
    "    + 귀무가설: 운동 전후 집중력 차이가 없다.\r",
    "    + \n",
    "대립가설: 운동 전후 집중력에 차이가 있다\n",
    " \n",
    "    + 귀무가설: 근력운동을 한 학생들의 집중력이 향상되었다.\r",
    "    + \n",
    "대립가설: 근력운동을 한 학생들의 집중력의 변화가 없다\n",
    " \n",
    "    + 귀무가설: 운동 전후 집중력 평균의 차이가 없을 것이다(전=후, 차이=0)\r",
    "    + 대립가설1: 운동 전후 집중력 평균의 차이가 있을 것이다(전!=후, 차이!=0)...."
   ]
  },
  {
   "cell_type": "code",
   "execution_count": 40,
   "id": "28b20f1c-308f-4462-9e00-4d07c9615f51",
   "metadata": {},
   "outputs": [
    {
     "data": {
      "text/html": [
       "<div>\n",
       "<style scoped>\n",
       "    .dataframe tbody tr th:only-of-type {\n",
       "        vertical-align: middle;\n",
       "    }\n",
       "\n",
       "    .dataframe tbody tr th {\n",
       "        vertical-align: top;\n",
       "    }\n",
       "\n",
       "    .dataframe thead th {\n",
       "        text-align: right;\n",
       "    }\n",
       "</style>\n",
       "<table border=\"1\" class=\"dataframe\">\n",
       "  <thead>\n",
       "    <tr style=\"text-align: right;\">\n",
       "      <th></th>\n",
       "      <th>전</th>\n",
       "      <th>후</th>\n",
       "      <th>차</th>\n",
       "    </tr>\n",
       "  </thead>\n",
       "  <tbody>\n",
       "    <tr>\n",
       "      <th>0</th>\n",
       "      <td>59</td>\n",
       "      <td>41</td>\n",
       "      <td>-18</td>\n",
       "    </tr>\n",
       "    <tr>\n",
       "      <th>1</th>\n",
       "      <td>52</td>\n",
       "      <td>63</td>\n",
       "      <td>11</td>\n",
       "    </tr>\n",
       "    <tr>\n",
       "      <th>2</th>\n",
       "      <td>55</td>\n",
       "      <td>68</td>\n",
       "      <td>13</td>\n",
       "    </tr>\n",
       "    <tr>\n",
       "      <th>3</th>\n",
       "      <td>61</td>\n",
       "      <td>59</td>\n",
       "      <td>-2</td>\n",
       "    </tr>\n",
       "    <tr>\n",
       "      <th>4</th>\n",
       "      <td>59</td>\n",
       "      <td>84</td>\n",
       "      <td>25</td>\n",
       "    </tr>\n",
       "    <tr>\n",
       "      <th>5</th>\n",
       "      <td>45</td>\n",
       "      <td>37</td>\n",
       "      <td>-8</td>\n",
       "    </tr>\n",
       "    <tr>\n",
       "      <th>6</th>\n",
       "      <td>55</td>\n",
       "      <td>60</td>\n",
       "      <td>5</td>\n",
       "    </tr>\n",
       "    <tr>\n",
       "      <th>7</th>\n",
       "      <td>49</td>\n",
       "      <td>52</td>\n",
       "      <td>3</td>\n",
       "    </tr>\n",
       "    <tr>\n",
       "      <th>8</th>\n",
       "      <td>49</td>\n",
       "      <td>68</td>\n",
       "      <td>19</td>\n",
       "    </tr>\n",
       "    <tr>\n",
       "      <th>9</th>\n",
       "      <td>52</td>\n",
       "      <td>70</td>\n",
       "      <td>18</td>\n",
       "    </tr>\n",
       "    <tr>\n",
       "      <th>10</th>\n",
       "      <td>51</td>\n",
       "      <td>57</td>\n",
       "      <td>6</td>\n",
       "    </tr>\n",
       "    <tr>\n",
       "      <th>11</th>\n",
       "      <td>57</td>\n",
       "      <td>65</td>\n",
       "      <td>8</td>\n",
       "    </tr>\n",
       "    <tr>\n",
       "      <th>12</th>\n",
       "      <td>54</td>\n",
       "      <td>51</td>\n",
       "      <td>-3</td>\n",
       "    </tr>\n",
       "    <tr>\n",
       "      <th>13</th>\n",
       "      <td>51</td>\n",
       "      <td>38</td>\n",
       "      <td>-13</td>\n",
       "    </tr>\n",
       "    <tr>\n",
       "      <th>14</th>\n",
       "      <td>52</td>\n",
       "      <td>54</td>\n",
       "      <td>2</td>\n",
       "    </tr>\n",
       "    <tr>\n",
       "      <th>15</th>\n",
       "      <td>52</td>\n",
       "      <td>58</td>\n",
       "      <td>6</td>\n",
       "    </tr>\n",
       "    <tr>\n",
       "      <th>16</th>\n",
       "      <td>57</td>\n",
       "      <td>73</td>\n",
       "      <td>16</td>\n",
       "    </tr>\n",
       "    <tr>\n",
       "      <th>17</th>\n",
       "      <td>49</td>\n",
       "      <td>65</td>\n",
       "      <td>16</td>\n",
       "    </tr>\n",
       "    <tr>\n",
       "      <th>18</th>\n",
       "      <td>52</td>\n",
       "      <td>54</td>\n",
       "      <td>2</td>\n",
       "    </tr>\n",
       "    <tr>\n",
       "      <th>19</th>\n",
       "      <td>46</td>\n",
       "      <td>48</td>\n",
       "      <td>2</td>\n",
       "    </tr>\n",
       "  </tbody>\n",
       "</table>\n",
       "</div>"
      ],
      "text/plain": [
       "     전   후   차\n",
       "0   59  41 -18\n",
       "1   52  63  11\n",
       "2   55  68  13\n",
       "3   61  59  -2\n",
       "4   59  84  25\n",
       "5   45  37  -8\n",
       "6   55  60   5\n",
       "7   49  52   3\n",
       "8   49  68  19\n",
       "9   52  70  18\n",
       "10  51  57   6\n",
       "11  57  65   8\n",
       "12  54  51  -3\n",
       "13  51  38 -13\n",
       "14  52  54   2\n",
       "15  52  58   6\n",
       "16  57  73  16\n",
       "17  49  65  16\n",
       "18  52  54   2\n",
       "19  46  48   2"
      ]
     },
     "execution_count": 40,
     "metadata": {},
     "output_type": "execute_result"
    }
   ],
   "source": [
    "import pandas as pd \n",
    "\n",
    "training_rel = pd.read_csv('../data/ch11_training_rel.csv')\n",
    "training_rel['차'] = training_rel['후'] - training_rel['전']\n",
    "training_rel"
   ]
  },
  {
   "cell_type": "code",
   "execution_count": 27,
   "id": "5bc22d03-0ea6-41d7-af6d-7b4ca5cc7548",
   "metadata": {},
   "outputs": [
    {
     "data": {
      "text/plain": [
       "(2.204, 0.040)"
      ]
     },
     "execution_count": 27,
     "metadata": {},
     "output_type": "execute_result"
    }
   ],
   "source": [
    "from scipy import stats\n",
    "t, p = stats.ttest_1samp(training_rel['차'], 0)\n",
    "t, p"
   ]
  },
  {
   "cell_type": "code",
   "execution_count": 28,
   "id": "bdf95699-ff77-4cd7-9e0c-32fee00e7dbc",
   "metadata": {},
   "outputs": [
    {
     "data": {
      "text/plain": [
       "(2.204, 0.040)"
      ]
     },
     "execution_count": 28,
     "metadata": {},
     "output_type": "execute_result"
    }
   ],
   "source": [
    "t, p = stats.ttest_rel(training_rel['후'], training_rel['전'])\n",
    "t, p"
   ]
  },
  {
   "cell_type": "markdown",
   "id": "2138e964-b162-4f73-b94a-8b8adf5dd4be",
   "metadata": {},
   "source": [
    "## 보고서 작성\n",
    "- t-통계량 / p-value 값"
   ]
  },
  {
   "cell_type": "markdown",
   "id": "c3207137-63a7-4cbc-b887-17669b8b653b",
   "metadata": {},
   "source": [
    "## 독립비교 t-검정\n",
    "- 교재는 p318\n",
    "- 학생이 부쩍 늘었음\n",
    "  + A 학생 그룹 인문계열\n",
    "  + B 학생 그룹 체육계열\n",
    "- A 그룹, B 그룹 사이에 집중력 테스트의 평균에서 차이가 나지 않을까 생각하여 테스트를 함\n",
    "- 이 데이터로부터 어떤 검정을 수행해야 A 학생과 B 학생 학급의 집중력에 유의한 차이가 있는지 확인\n",
    "- 가설설정\n",
    "  + 귀무가설 : A그룹의 평균과 B그룹의 평균 차이는 없다. \n",
    "  + 대립가설 : A그룹의 평균과 B그룹의 평균 차이는 있다.\n",
    " \n",
    "- 독립비교 t-검정 두가지 가정\n",
    "    + 1) 각 그룹 데이터의 정규성을 검정\n",
    "    + 2) 두 그룹의 분산이 같다 (=등분산성 검정), levene 검정 시행하더라! "
   ]
  },
  {
   "cell_type": "code",
   "execution_count": 30,
   "id": "1804b026-af65-489b-9c93-f040f3dd133c",
   "metadata": {},
   "outputs": [
    {
     "data": {
      "text/html": [
       "<div>\n",
       "<style scoped>\n",
       "    .dataframe tbody tr th:only-of-type {\n",
       "        vertical-align: middle;\n",
       "    }\n",
       "\n",
       "    .dataframe tbody tr th {\n",
       "        vertical-align: top;\n",
       "    }\n",
       "\n",
       "    .dataframe thead th {\n",
       "        text-align: right;\n",
       "    }\n",
       "</style>\n",
       "<table border=\"1\" class=\"dataframe\">\n",
       "  <thead>\n",
       "    <tr style=\"text-align: right;\">\n",
       "      <th></th>\n",
       "      <th>A</th>\n",
       "      <th>B</th>\n",
       "    </tr>\n",
       "  </thead>\n",
       "  <tbody>\n",
       "    <tr>\n",
       "      <th>0</th>\n",
       "      <td>47</td>\n",
       "      <td>49</td>\n",
       "    </tr>\n",
       "    <tr>\n",
       "      <th>1</th>\n",
       "      <td>50</td>\n",
       "      <td>52</td>\n",
       "    </tr>\n",
       "    <tr>\n",
       "      <th>2</th>\n",
       "      <td>37</td>\n",
       "      <td>54</td>\n",
       "    </tr>\n",
       "    <tr>\n",
       "      <th>3</th>\n",
       "      <td>60</td>\n",
       "      <td>48</td>\n",
       "    </tr>\n",
       "    <tr>\n",
       "      <th>4</th>\n",
       "      <td>39</td>\n",
       "      <td>51</td>\n",
       "    </tr>\n",
       "  </tbody>\n",
       "</table>\n",
       "</div>"
      ],
      "text/plain": [
       "    A   B\n",
       "0  47  49\n",
       "1  50  52\n",
       "2  37  54\n",
       "3  60  48\n",
       "4  39  51"
      ]
     },
     "execution_count": 30,
     "metadata": {},
     "output_type": "execute_result"
    }
   ],
   "source": [
    "training_ind = pd.read_csv('../data/ch11_training_ind.csv')\n",
    "training_ind.head() # training_ind.shape"
   ]
  },
  {
   "cell_type": "code",
   "execution_count": 31,
   "id": "ef70878f-9e79-4415-ab86-7eb07240e47f",
   "metadata": {},
   "outputs": [
    {
     "data": {
      "text/plain": [
       "(-1.761, 0.086)"
      ]
     },
     "execution_count": 31,
     "metadata": {},
     "output_type": "execute_result"
    }
   ],
   "source": [
    "# p320\n",
    "t, p = stats.ttest_ind(training_ind['A'], training_ind['B'], equal_var = True) # 등분산성이 같다! \n",
    "t, p"
   ]
  },
  {
   "cell_type": "markdown",
   "id": "592a3476-1e7d-45f9-ade8-4441a234b7d5",
   "metadata": {},
   "source": [
    "- 결론은 두 그룹의 평균 차이는 없더라, 귀무가설 채택 "
   ]
  },
  {
   "cell_type": "code",
   "execution_count": 32,
   "id": "ec2e2f4a-5f37-4be1-9c02-e72d4ad76e87",
   "metadata": {},
   "outputs": [
    {
     "data": {
      "text/plain": [
       "(-1.761, 0.087)"
      ]
     },
     "execution_count": 32,
     "metadata": {},
     "output_type": "execute_result"
    }
   ],
   "source": [
    "# levene 검정 이후, 살펴봤더니 등분산성이 다르더라!\n",
    "t, p = stats.ttest_ind(training_ind['A'], training_ind['B'], equal_var = False) # 등분산성이 같다! \n",
    "t, p"
   ]
  },
  {
   "cell_type": "markdown",
   "id": "44c23ad0-1bda-4ee7-acd9-0fe0cb853ed0",
   "metadata": {},
   "source": [
    "## 비모수 검정\n",
    "- 모수 검정에서 각 가정을 만족시키지 못할 때, 비모수검정을 쓰더라"
   ]
  },
  {
   "cell_type": "markdown",
   "id": "3363bbb0-964d-400a-a73a-fc9b7e1301e1",
   "metadata": {},
   "source": [
    "### 윌콕슨의 부호순위검정\n",
    "- 대응표본에서 차이에 정규분포를 만족시키지 못할 때\n",
    "  + 평균차이 아님(X)\n",
    "  + 중앙값 차이에 대한 검정 (O)\n",
    "  + 중앙값, 50%에 해당하는 값을"
   ]
  },
  {
   "cell_type": "code",
   "execution_count": 34,
   "id": "cb01a1d3-85ae-443c-91d8-b9f2701bfeb6",
   "metadata": {},
   "outputs": [
    {
     "data": {
      "text/html": [
       "<div>\n",
       "<style scoped>\n",
       "    .dataframe tbody tr th:only-of-type {\n",
       "        vertical-align: middle;\n",
       "    }\n",
       "\n",
       "    .dataframe tbody tr th {\n",
       "        vertical-align: top;\n",
       "    }\n",
       "\n",
       "    .dataframe thead th {\n",
       "        text-align: right;\n",
       "    }\n",
       "</style>\n",
       "<table border=\"1\" class=\"dataframe\">\n",
       "  <thead>\n",
       "    <tr style=\"text-align: right;\">\n",
       "      <th></th>\n",
       "      <th>전</th>\n",
       "      <th>후</th>\n",
       "      <th>차</th>\n",
       "    </tr>\n",
       "  </thead>\n",
       "  <tbody>\n",
       "    <tr>\n",
       "      <th>0</th>\n",
       "      <td>59</td>\n",
       "      <td>41</td>\n",
       "      <td>-18</td>\n",
       "    </tr>\n",
       "    <tr>\n",
       "      <th>1</th>\n",
       "      <td>52</td>\n",
       "      <td>63</td>\n",
       "      <td>11</td>\n",
       "    </tr>\n",
       "    <tr>\n",
       "      <th>2</th>\n",
       "      <td>55</td>\n",
       "      <td>68</td>\n",
       "      <td>13</td>\n",
       "    </tr>\n",
       "    <tr>\n",
       "      <th>3</th>\n",
       "      <td>61</td>\n",
       "      <td>59</td>\n",
       "      <td>-2</td>\n",
       "    </tr>\n",
       "    <tr>\n",
       "      <th>4</th>\n",
       "      <td>59</td>\n",
       "      <td>84</td>\n",
       "      <td>25</td>\n",
       "    </tr>\n",
       "    <tr>\n",
       "      <th>5</th>\n",
       "      <td>45</td>\n",
       "      <td>37</td>\n",
       "      <td>-8</td>\n",
       "    </tr>\n",
       "  </tbody>\n",
       "</table>\n",
       "</div>"
      ],
      "text/plain": [
       "    전   후   차\n",
       "0  59  41 -18\n",
       "1  52  63  11\n",
       "2  55  68  13\n",
       "3  61  59  -2\n",
       "4  59  84  25\n",
       "5  45  37  -8"
      ]
     },
     "execution_count": 34,
     "metadata": {},
     "output_type": "execute_result"
    }
   ],
   "source": [
    "training_rel = pd.read_csv('../data/ch11_training_rel.csv')\n",
    "toy_df = training_rel[:6].copy()\n",
    "toy_df['차'] = toy_df['후'] - toy_df['전']\n",
    "toy_df"
   ]
  },
  {
   "cell_type": "code",
   "execution_count": 35,
   "id": "962bcf2f-0743-4302-9ed4-9018fd364618",
   "metadata": {},
   "outputs": [
    {
     "data": {
      "text/html": [
       "<div>\n",
       "<style scoped>\n",
       "    .dataframe tbody tr th:only-of-type {\n",
       "        vertical-align: middle;\n",
       "    }\n",
       "\n",
       "    .dataframe tbody tr th {\n",
       "        vertical-align: top;\n",
       "    }\n",
       "\n",
       "    .dataframe thead th {\n",
       "        text-align: right;\n",
       "    }\n",
       "</style>\n",
       "<table border=\"1\" class=\"dataframe\">\n",
       "  <thead>\n",
       "    <tr style=\"text-align: right;\">\n",
       "      <th></th>\n",
       "      <th>전</th>\n",
       "      <th>후</th>\n",
       "      <th>차</th>\n",
       "      <th>순위</th>\n",
       "    </tr>\n",
       "  </thead>\n",
       "  <tbody>\n",
       "    <tr>\n",
       "      <th>0</th>\n",
       "      <td>59</td>\n",
       "      <td>41</td>\n",
       "      <td>-18</td>\n",
       "      <td>5</td>\n",
       "    </tr>\n",
       "    <tr>\n",
       "      <th>1</th>\n",
       "      <td>52</td>\n",
       "      <td>63</td>\n",
       "      <td>11</td>\n",
       "      <td>3</td>\n",
       "    </tr>\n",
       "    <tr>\n",
       "      <th>2</th>\n",
       "      <td>55</td>\n",
       "      <td>68</td>\n",
       "      <td>13</td>\n",
       "      <td>4</td>\n",
       "    </tr>\n",
       "    <tr>\n",
       "      <th>3</th>\n",
       "      <td>61</td>\n",
       "      <td>59</td>\n",
       "      <td>-2</td>\n",
       "      <td>1</td>\n",
       "    </tr>\n",
       "    <tr>\n",
       "      <th>4</th>\n",
       "      <td>59</td>\n",
       "      <td>84</td>\n",
       "      <td>25</td>\n",
       "      <td>6</td>\n",
       "    </tr>\n",
       "    <tr>\n",
       "      <th>5</th>\n",
       "      <td>45</td>\n",
       "      <td>37</td>\n",
       "      <td>-8</td>\n",
       "      <td>2</td>\n",
       "    </tr>\n",
       "  </tbody>\n",
       "</table>\n",
       "</div>"
      ],
      "text/plain": [
       "    전   후   차  순위\n",
       "0  59  41 -18   5\n",
       "1  52  63  11   3\n",
       "2  55  68  13   4\n",
       "3  61  59  -2   1\n",
       "4  59  84  25   6\n",
       "5  45  37  -8   2"
      ]
     },
     "execution_count": 35,
     "metadata": {},
     "output_type": "execute_result"
    }
   ],
   "source": [
    "# 순위 적용\n",
    "diff = toy_df['후'] - toy_df['전']\n",
    "rank = stats.rankdata(abs(diff)).astype(int)\n",
    "toy_df['순위'] = rank\n",
    "toy_df"
   ]
  },
  {
   "cell_type": "code",
   "execution_count": 36,
   "id": "47bf1c39-5a1c-4ef0-8c2e-8a7119c01514",
   "metadata": {},
   "outputs": [
    {
     "data": {
      "text/plain": [
       "(8, 13)"
      ]
     },
     "execution_count": 36,
     "metadata": {},
     "output_type": "execute_result"
    }
   ],
   "source": [
    "import numpy as np\n",
    "\n",
    "r_minus = np.sum((diff < 0) * rank)\n",
    "r_plus = np.sum((diff > 0) * rank)\n",
    "\n",
    "r_minus, r_plus # 검정통계량 8"
   ]
  },
  {
   "cell_type": "code",
   "execution_count": 37,
   "id": "57dfdf94-14ce-4d87-a2e7-39e7a1dcd70f",
   "metadata": {},
   "outputs": [
    {
     "data": {
      "text/plain": [
       "(0, 21)"
      ]
     },
     "execution_count": 37,
     "metadata": {},
     "output_type": "execute_result"
    }
   ],
   "source": [
    "toy_df['후'] = toy_df['전'] + np.arange(1, 7)\n",
    "diff = toy_df['후'] - toy_df['전']\n",
    "rank = stats.rankdata(abs(diff)).astype(int)\n",
    "toy_df['차'] = diff\n",
    "toy_df['순위'] = rank\n",
    "# toy_df\n",
    "\n",
    "r_minus = np.sum((diff < 0) * rank)\n",
    "r_plus = np.sum((diff > 0) * rank)\n",
    "\n",
    "r_minus, r_plus # 검정통계량 8"
   ]
  },
  {
   "cell_type": "code",
   "execution_count": 38,
   "id": "527edd44-cba2-481a-8a25-54e7e328290a",
   "metadata": {},
   "outputs": [
    {
     "data": {
      "text/html": [
       "<div>\n",
       "<style scoped>\n",
       "    .dataframe tbody tr th:only-of-type {\n",
       "        vertical-align: middle;\n",
       "    }\n",
       "\n",
       "    .dataframe tbody tr th {\n",
       "        vertical-align: top;\n",
       "    }\n",
       "\n",
       "    .dataframe thead th {\n",
       "        text-align: right;\n",
       "    }\n",
       "</style>\n",
       "<table border=\"1\" class=\"dataframe\">\n",
       "  <thead>\n",
       "    <tr style=\"text-align: right;\">\n",
       "      <th></th>\n",
       "      <th>전</th>\n",
       "      <th>후</th>\n",
       "      <th>차</th>\n",
       "      <th>순위</th>\n",
       "    </tr>\n",
       "  </thead>\n",
       "  <tbody>\n",
       "    <tr>\n",
       "      <th>0</th>\n",
       "      <td>59</td>\n",
       "      <td>60</td>\n",
       "      <td>1</td>\n",
       "      <td>1</td>\n",
       "    </tr>\n",
       "    <tr>\n",
       "      <th>1</th>\n",
       "      <td>52</td>\n",
       "      <td>50</td>\n",
       "      <td>-2</td>\n",
       "      <td>2</td>\n",
       "    </tr>\n",
       "    <tr>\n",
       "      <th>2</th>\n",
       "      <td>55</td>\n",
       "      <td>52</td>\n",
       "      <td>-3</td>\n",
       "      <td>3</td>\n",
       "    </tr>\n",
       "    <tr>\n",
       "      <th>3</th>\n",
       "      <td>61</td>\n",
       "      <td>65</td>\n",
       "      <td>4</td>\n",
       "      <td>4</td>\n",
       "    </tr>\n",
       "    <tr>\n",
       "      <th>4</th>\n",
       "      <td>59</td>\n",
       "      <td>64</td>\n",
       "      <td>5</td>\n",
       "      <td>5</td>\n",
       "    </tr>\n",
       "    <tr>\n",
       "      <th>5</th>\n",
       "      <td>45</td>\n",
       "      <td>39</td>\n",
       "      <td>-6</td>\n",
       "      <td>6</td>\n",
       "    </tr>\n",
       "  </tbody>\n",
       "</table>\n",
       "</div>"
      ],
      "text/plain": [
       "    전   후  차  순위\n",
       "0  59  60  1   1\n",
       "1  52  50 -2   2\n",
       "2  55  52 -3   3\n",
       "3  61  65  4   4\n",
       "4  59  64  5   5\n",
       "5  45  39 -6   6"
      ]
     },
     "execution_count": 38,
     "metadata": {},
     "output_type": "execute_result"
    }
   ],
   "source": [
    "toy_df['후'] = toy_df['전'] + [1, -2, -3, 4, 5, -6]\n",
    "diff = toy_df['후'] - toy_df['전']\n",
    "rank = stats.rankdata(abs(diff)).astype(int)\n",
    "toy_df['차'] = diff\n",
    "toy_df['순위'] = rank\n",
    "toy_df"
   ]
  },
  {
   "cell_type": "code",
   "execution_count": 39,
   "id": "1f7dcb57-eea1-4c59-b8cc-5115b6cbefc5",
   "metadata": {},
   "outputs": [
    {
     "data": {
      "text/plain": [
       "(11, 10)"
      ]
     },
     "execution_count": 39,
     "metadata": {},
     "output_type": "execute_result"
    }
   ],
   "source": [
    "r_minus = np.sum((diff < 0) * rank)\n",
    "r_plus = np.sum((diff > 0) * rank)\n",
    "\n",
    "r_minus, r_plus # 검정통계량 10"
   ]
  }
 ],
 "metadata": {
  "kernelspec": {
   "display_name": "Python 3 (ipykernel)",
   "language": "python",
   "name": "python3"
  },
  "language_info": {
   "codemirror_mode": {
    "name": "ipython",
    "version": 3
   },
   "file_extension": ".py",
   "mimetype": "text/x-python",
   "name": "python",
   "nbconvert_exporter": "python",
   "pygments_lexer": "ipython3",
   "version": "3.10.13"
  }
 },
 "nbformat": 4,
 "nbformat_minor": 5
}
