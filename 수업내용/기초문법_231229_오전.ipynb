{
  "nbformat": 4,
  "nbformat_minor": 0,
  "metadata": {
    "colab": {
      "provenance": [],
      "toc_visible": true,
      "authorship_tag": "ABX9TyPssTFm/VOKIU1h3ghsOjJb",
      "include_colab_link": true
    },
    "kernelspec": {
      "name": "python3",
      "display_name": "Python 3"
    },
    "language_info": {
      "name": "python"
    }
  },
  "cells": [
    {
      "cell_type": "markdown",
      "metadata": {
        "id": "view-in-github",
        "colab_type": "text"
      },
      "source": [
        "<a href=\"https://colab.research.google.com/github/Kimtae00/mulcamp34/blob/lecture/%EA%B8%B0%EC%B4%88%EB%AC%B8%EB%B2%95_231229_%EC%98%A4%EC%A0%84.ipynb\" target=\"_parent\"><img src=\"https://colab.research.google.com/assets/colab-badge.svg\" alt=\"Open In Colab\"/></a>"
      ]
    },
    {
      "cell_type": "markdown",
      "source": [
        "# 딕셔너리 dict = 이름을 붙여 변수를 저장하는 사전\n",
        "  - Dictionary : 영어 및 국어 사전\n",
        "  - 구성  : key - value, keyword(=key), 결괏값(=value)\n",
        "    + 문자열, 리스트, tuple : 데이터 조회시, 인덱싱 또는 슬라이싱\n",
        "    + 딕셔너리에서 값을 조회하는 방법은 key 값을 통해서 값을 조회"
      ],
      "metadata": {
        "id": "NxjnLNwv7sCr"
      }
    },
    {
      "cell_type": "code",
      "source": [
        "# 나라-수도 이름\n",
        "country_capital = {\n",
        "    \"대한민국\" : \"서울\",\n",
        "    \"프랑스\" : \"파리\",\n",
        "    \"벨기에\" : \"브뤼셀\",\n",
        "    \"네덜란드\" : \"암스테르담\",\n",
        "    \"독일\" : \"베를린\"\n",
        "}\n",
        "\n",
        "print(country_capital)\n",
        "print(country_capital['대한민국'])\n",
        "print(country_capital['네덜란드'])"
      ],
      "metadata": {
        "colab": {
          "base_uri": "https://localhost:8080/"
        },
        "id": "0nx4Okr17x0K",
        "outputId": "1fbf5705-bd8f-40c4-cc0b-7662b6ca7db1"
      },
      "execution_count": 5,
      "outputs": [
        {
          "output_type": "stream",
          "name": "stdout",
          "text": [
            "{'대한민국': '서울', '프랑스': '파리', '벨기에': '브뤼셀', '네덜란드': '암스테르담', '독일': '베를린'}\n",
            "서울\n",
            "암스테르담\n"
          ]
        }
      ]
    },
    {
      "cell_type": "markdown",
      "source": [
        "### 기존의 key에 대한 값 수정하기\n",
        "  + 딕셔너리[기존 키] = 수정할 값으로 기존 값 수정\n",
        "### 새로운 key - value 쌍 추가하기\n",
        "  + 딕셔너리[새 키] = 할당할 값으로 새로운 쌍 추가"
      ],
      "metadata": {
        "id": "xH5QqLgy-MwW"
      }
    },
    {
      "cell_type": "code",
      "source": [
        "country_capital['미국'] = '워싱턴 D.C.'\n",
        "print(country_capital)"
      ],
      "metadata": {
        "colab": {
          "base_uri": "https://localhost:8080/"
        },
        "id": "KSDqDZvb-LHO",
        "outputId": "2c8e6e5e-1c19-45de-db4e-2cce1f421c09"
      },
      "execution_count": 10,
      "outputs": [
        {
          "output_type": "stream",
          "name": "stdout",
          "text": [
            "{'대한민국': '서울', '프랑스': '파리', '벨기에': '브뤼셀', '네덜란드': '암스테르담', '독일': '베를린', '미국': '워싱턴 D.C.'}\n"
          ]
        }
      ]
    },
    {
      "cell_type": "code",
      "source": [
        "# key 값은 숫자형태도 가능\n",
        "fruits = {\n",
        "    1: '사과',\n",
        "    2: '바나나',\n",
        "    3: '망고'\n",
        "}\n",
        "\n",
        "print(fruits)\n",
        "print(fruits[1])"
      ],
      "metadata": {
        "colab": {
          "base_uri": "https://localhost:8080/"
        },
        "id": "_uCiUbhE-9sH",
        "outputId": "6a27c557-4b17-4785-bcaa-e8f6b193a533"
      },
      "execution_count": 14,
      "outputs": [
        {
          "output_type": "stream",
          "name": "stdout",
          "text": [
            "{1: '사과', 2: '바나나', 3: '망고'}\n",
            "사과\n"
          ]
        }
      ]
    },
    {
      "cell_type": "code",
      "source": [
        "# 딕셔너리 안에 딕셔너리를 넣을 수도 있음\n",
        "data2 = {'list1' : [1, 2, 3], 'list2' : [4, 5, 6], 1 : '테스트', 2 : 100}\n",
        "print(data2['list2'])\n"
      ],
      "metadata": {
        "colab": {
          "base_uri": "https://localhost:8080/"
        },
        "id": "vsKy-cAf_V7K",
        "outputId": "43fb138e-5b51-4828-fe79-c2725056ef78"
      },
      "execution_count": 17,
      "outputs": [
        {
          "output_type": "stream",
          "name": "stdout",
          "text": [
            "[4, 5, 6]\n"
          ]
        }
      ]
    },
    {
      "cell_type": "markdown",
      "source": [
        "## 딕셔너리 사용처\n",
        "  - 데이터 분석 : 엑셀 테이블\n",
        "  \n",
        "\n",
        "  "
      ],
      "metadata": {
        "id": "Dk0Q9QRY7sKI"
      }
    },
    {
      "cell_type": "markdown",
      "source": [
        "## 딕셔너리 다루기"
      ],
      "metadata": {
        "id": "DCi4zmGoFsRv"
      }
    },
    {
      "cell_type": "code",
      "source": [
        "# 내가 좋아하는 도시이름\n",
        "country_capital['대한민국'] = '부산'\n",
        "print(country_capital['대한민국'])\n"
      ],
      "metadata": {
        "colab": {
          "base_uri": "https://localhost:8080/"
        },
        "id": "UVgzM_PVFzFp",
        "outputId": "f36659f3-c0d3-4d55-a0de-8ffe654823e1"
      },
      "execution_count": 18,
      "outputs": [
        {
          "output_type": "stream",
          "name": "stdout",
          "text": [
            "부산\n"
          ]
        }
      ]
    },
    {
      "cell_type": "code",
      "source": [
        "# del\n",
        "del country_capital['프랑스']\n",
        "print(country_capital)"
      ],
      "metadata": {
        "colab": {
          "base_uri": "https://localhost:8080/"
        },
        "id": "-wmzWnhsGK4o",
        "outputId": "4ee48df7-2e01-4ed5-9e1e-bd48f25da245"
      },
      "execution_count": 20,
      "outputs": [
        {
          "output_type": "stream",
          "name": "stdout",
          "text": [
            "{'대한민국': '부산', '벨기에': '브뤼셀', '네덜란드': '암스테르담', '독일': '베를린', '미국': '워싱턴 D.C.'}\n"
          ]
        }
      ]
    },
    {
      "cell_type": "markdown",
      "source": [
        "## 딕셔너리 메서드"
      ],
      "metadata": {
        "id": "pk1zUlLHFvlc"
      }
    },
    {
      "cell_type": "code",
      "source": [
        "print(type(country_capital))"
      ],
      "metadata": {
        "colab": {
          "base_uri": "https://localhost:8080/"
        },
        "id": "yrJPtUAKFw_0",
        "outputId": "a642ec92-a285-4489-dc59-ec3a7eee0ff5"
      },
      "execution_count": 22,
      "outputs": [
        {
          "output_type": "stream",
          "name": "stdout",
          "text": [
            "<class 'dict'>\n"
          ]
        }
      ]
    },
    {
      "cell_type": "code",
      "source": [
        "# .keys()와 .values()로 저장된 키, 값 보기\n",
        "print(country_capital.keys())\n",
        "print(country_capital.values())\n",
        "\n",
        "# key - value의 쌍으로 저장된 값 보기\n",
        "print(country_capital.items())"
      ],
      "metadata": {
        "colab": {
          "base_uri": "https://localhost:8080/"
        },
        "id": "mLkk7gODHeHt",
        "outputId": "8a7b40ad-5be4-4c0f-89e0-08bdf5796d47"
      },
      "execution_count": 25,
      "outputs": [
        {
          "output_type": "stream",
          "name": "stdout",
          "text": [
            "dict_keys(['대한민국', '벨기에', '네덜란드', '독일', '미국'])\n",
            "dict_values(['부산', '브뤼셀', '암스테르담', '베를린', '워싱턴 D.C.'])\n",
            "dict_items([('대한민국', '부산'), ('벨기에', '브뤼셀'), ('네덜란드', '암스테르담'), ('독일', '베를린'), ('미국', '워싱턴 D.C.')])\n"
          ]
        }
      ]
    },
    {
      "cell_type": "code",
      "source": [
        "new_df = {\n",
        "    '중국' : '베이징',\n",
        "    '필리핀' : '마닐라',\n",
        "    '호주' : '캔버라'\n",
        "}\n",
        "\n",
        "country_capital.update(new_df)\n",
        "country_capital"
      ],
      "metadata": {
        "colab": {
          "base_uri": "https://localhost:8080/"
        },
        "id": "cG6eRFxkIOSr",
        "outputId": "ee207c69-5057-42cc-fa15-c1b923b14b51"
      },
      "execution_count": 28,
      "outputs": [
        {
          "output_type": "execute_result",
          "data": {
            "text/plain": [
              "{'중국': '베이징', '필리핀': '마닐라', '호주': '캔버라'}"
            ]
          },
          "metadata": {},
          "execution_count": 28
        }
      ]
    },
    {
      "cell_type": "code",
      "source": [
        "# 빈 Dictionary 생성\n",
        "country_capital.clear()\n",
        "country_capital"
      ],
      "metadata": {
        "colab": {
          "base_uri": "https://localhost:8080/"
        },
        "id": "cIbWkOYFJiEg",
        "outputId": "0284d744-8563-4260-f7cf-4ecbbd8c7b88"
      },
      "execution_count": 27,
      "outputs": [
        {
          "output_type": "execute_result",
          "data": {
            "text/plain": [
              "{}"
            ]
          },
          "metadata": {},
          "execution_count": 27
        }
      ]
    },
    {
      "cell_type": "code",
      "source": [
        "# 딕셔너리에서 키 전체를 리스트 형태로 반환\n",
        "result = list(country_capital.keys())\n",
        "result.append('독일')\n",
        "result"
      ],
      "metadata": {
        "colab": {
          "base_uri": "https://localhost:8080/"
        },
        "id": "vUjEExpVJua0",
        "outputId": "60f23a31-cc02-42e3-ac1b-804e796357d0"
      },
      "execution_count": 29,
      "outputs": [
        {
          "output_type": "execute_result",
          "data": {
            "text/plain": [
              "['중국', '필리핀', '호주', '독일']"
            ]
          },
          "metadata": {},
          "execution_count": 29
        }
      ]
    },
    {
      "cell_type": "markdown",
      "source": [
        "# if 조건문\n",
        "  - 만약 조건이 True라면 ~를 해라\n",
        "  + 참과 거짓을 만드는 것이 포인트"
      ],
      "metadata": {
        "id": "gqBP6vFbMTE8"
      }
    },
    {
      "cell_type": "code",
      "source": [
        "x = int(input('점수를 입력하세요: '))\n",
        "if x >= 90:\n",
        "  print('합격')\n",
        "print('불합격')"
      ],
      "metadata": {
        "colab": {
          "base_uri": "https://localhost:8080/"
        },
        "id": "8mDvQUoPKwCB",
        "outputId": "83ae8c47-2f79-4f19-8772-95c10838922e"
      },
      "execution_count": 31,
      "outputs": [
        {
          "output_type": "stream",
          "name": "stdout",
          "text": [
            "점수를 입력하세요: 89\n",
            "불합격\n"
          ]
        }
      ]
    },
    {
      "cell_type": "code",
      "source": [
        "score = int(input('점수를 입력해주세요: '))\n",
        "\n",
        "if score >= 90:\n",
        "  print('A')\n",
        "elif score >= 80:\n",
        "  print('B')\n",
        "elif score >= 70:\n",
        "  print('C')\n",
        "elif score >= 60:\n",
        "  print('D')\n",
        "else:\n",
        "  print('F')"
      ],
      "metadata": {
        "colab": {
          "base_uri": "https://localhost:8080/"
        },
        "id": "52HHu8xhNKSK",
        "outputId": "43bda27e-514b-4ee6-b881-7d374afe4915"
      },
      "execution_count": 35,
      "outputs": [
        {
          "output_type": "stream",
          "name": "stdout",
          "text": [
            "점수를 입력해주세요: 45\n",
            "F\n"
          ]
        }
      ]
    },
    {
      "cell_type": "code",
      "source": [
        "# 중첩 조건문\n",
        "# if 조건문 내부에 또다른 조건문 생성\n",
        "x = int(input('점수를 입력하세요: '))\n",
        "\n",
        "# 100점 맞은 사람이 있으면 '장학금' 출력\n",
        "if x >= 90:\n",
        "  if(x == 100):\n",
        "    print(f'{x}점 축하합니다 ! 장학금입니다.')\n",
        "\n",
        "  else:\n",
        "    print(f'{x}점 합격입니다 !')\n",
        "else:\n",
        "  print(f'{x}점 불합격입니다.')"
      ],
      "metadata": {
        "colab": {
          "base_uri": "https://localhost:8080/"
        },
        "id": "5CvSr0mTNV2m",
        "outputId": "76f8885f-1132-412b-e066-478ea7bfc755"
      },
      "execution_count": 41,
      "outputs": [
        {
          "output_type": "stream",
          "name": "stdout",
          "text": [
            "점수를 입력하세요: 100\n",
            "100점 축하합니다 ! 장학금입니다.\n"
          ]
        }
      ]
    },
    {
      "cell_type": "markdown",
      "source": [
        "# 반복문\n",
        "  - for-loop, while\n",
        "    + for-loop 특징 : 반복 범위가 주어짐\n",
        "  - 반복문의 필요성\n"
      ],
      "metadata": {
        "id": "pHOIarLyYAey"
      }
    },
    {
      "cell_type": "code",
      "source": [
        "# Hello Python 10번 출력\n",
        "\n",
        "print('Hello Python')\n",
        "print('Hello Python')\n",
        "print('Hello Python')\n",
        "print('Hello Python')\n",
        "print('Hello Python')\n",
        "print('Hello Python')\n",
        "print('Hello Python')\n",
        "print('Hello Python')\n",
        "print('Hello Python')\n",
        "print('Hello Python')\n",
        "\n",
        "# 만약 100000줄 이라면?... 직접?..."
      ],
      "metadata": {
        "colab": {
          "base_uri": "https://localhost:8080/"
        },
        "id": "GhiQKZXpXSXb",
        "outputId": "bf508519-edad-41ca-c60a-9325c8658134"
      },
      "execution_count": 45,
      "outputs": [
        {
          "output_type": "stream",
          "name": "stdout",
          "text": [
            "Hello Python\n",
            "Hello Python\n",
            "Hello Python\n",
            "Hello Python\n",
            "Hello Python\n",
            "Hello Python\n",
            "Hello Python\n",
            "Hello Python\n",
            "Hello Python\n",
            "Hello Python\n"
          ]
        }
      ]
    },
    {
      "cell_type": "code",
      "source": [
        "for i in range(10):\n",
        "  print(f'{i+1}번째 Hello Python')"
      ],
      "metadata": {
        "colab": {
          "base_uri": "https://localhost:8080/"
        },
        "id": "r1P5847WYeW_",
        "outputId": "bdd22b73-5703-49db-f654-0ba707d612f7"
      },
      "execution_count": 48,
      "outputs": [
        {
          "output_type": "stream",
          "name": "stdout",
          "text": [
            "1번째 Hello Python\n",
            "2번째 Hello Python\n",
            "3번째 Hello Python\n",
            "4번째 Hello Python\n",
            "5번째 Hello Python\n",
            "6번째 Hello Python\n",
            "7번째 Hello Python\n",
            "8번째 Hello Python\n",
            "9번째 Hello Python\n",
            "10번째 Hello Python\n"
          ]
        }
      ]
    },
    {
      "cell_type": "markdown",
      "source": [
        "- 반복 범위 지정 시, 시퀀스 자료형도 사용 가능\n",
        "  + 대표적인 것: 리스트, 문자열, 튜플 etc.."
      ],
      "metadata": {
        "id": "8yd8Fm3ZbS-T"
      }
    },
    {
      "cell_type": "code",
      "source": [
        "# 리스트\n",
        "nums = [1, 2, 3, 4, 5]\n",
        "for num in nums:\n",
        "  print(num)"
      ],
      "metadata": {
        "colab": {
          "base_uri": "https://localhost:8080/"
        },
        "id": "kMvhDYTRb_cj",
        "outputId": "f8bf5dcf-5521-46bb-f748-f00853aeac2b"
      },
      "execution_count": 49,
      "outputs": [
        {
          "output_type": "stream",
          "name": "stdout",
          "text": [
            "1\n",
            "2\n",
            "3\n",
            "4\n",
            "5\n"
          ]
        }
      ]
    },
    {
      "cell_type": "code",
      "source": [
        "# 문자열\n",
        "strings = 'Hello'\n",
        "for text in strings:\n",
        "  print(text)"
      ],
      "metadata": {
        "colab": {
          "base_uri": "https://localhost:8080/"
        },
        "id": "W9nE_uTlYj5C",
        "outputId": "0772389c-496a-4d27-ed97-4655fcd2606e"
      },
      "execution_count": 50,
      "outputs": [
        {
          "output_type": "stream",
          "name": "stdout",
          "text": [
            "H\n",
            "e\n",
            "l\n",
            "l\n",
            "o\n"
          ]
        }
      ]
    },
    {
      "cell_type": "code",
      "source": [
        "# 튜플\n",
        "tuples = (1, 2, 3, 4)\n",
        "for num in tuples:\n",
        "  print(num)"
      ],
      "metadata": {
        "colab": {
          "base_uri": "https://localhost:8080/"
        },
        "id": "H5D678qacgvr",
        "outputId": "36c8e66d-09ce-40db-a587-15d57cdffca0"
      },
      "execution_count": 51,
      "outputs": [
        {
          "output_type": "stream",
          "name": "stdout",
          "text": [
            "1\n",
            "2\n",
            "3\n",
            "4\n"
          ]
        }
      ]
    },
    {
      "cell_type": "code",
      "source": [
        "# 딕셔너리\n",
        "fruits = {\n",
        "    \"사과\": \"apple\",\n",
        "    \"바나나\": \"banana\",\n",
        "    \"망고\": \"mango\"\n",
        "}\n",
        "\n",
        "# key 값만 출력\n",
        "for fruit in fruits:\n",
        "  print(fruit)\n",
        "\n",
        "# value 값만 출력\n",
        "for fruit in fruits:\n",
        "  print(f'{fruit}의 스펠링은 {fruits[fruit]}')"
      ],
      "metadata": {
        "colab": {
          "base_uri": "https://localhost:8080/"
        },
        "id": "iYYfssUSckW7",
        "outputId": "959b528e-493f-4653-fd45-a665ff3d3bab"
      },
      "execution_count": 58,
      "outputs": [
        {
          "output_type": "stream",
          "name": "stdout",
          "text": [
            "사과\n",
            "바나나\n",
            "망고\n",
            "사과의 스펠링은 apple\n",
            "바나나의 스펠링은 banana\n",
            "망고의 스펠링은 mango\n"
          ]
        }
      ]
    }
  ]
}