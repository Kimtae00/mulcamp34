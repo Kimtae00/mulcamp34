{
  "nbformat": 4,
  "nbformat_minor": 0,
  "metadata": {
    "colab": {
      "provenance": [],
      "toc_visible": true,
      "authorship_tag": "ABX9TyNBWgAZwsGa4Cu1yvumIGWP",
      "include_colab_link": true
    },
    "kernelspec": {
      "name": "python3",
      "display_name": "Python 3"
    },
    "language_info": {
      "name": "python"
    }
  },
  "cells": [
    {
      "cell_type": "markdown",
      "metadata": {
        "id": "view-in-github",
        "colab_type": "text"
      },
      "source": [
        "<a href=\"https://colab.research.google.com/github/Kimtae00/mulcamp34/blob/lecture/%EA%B8%B0%EC%B4%88%EB%AC%B8%EB%B2%95_231229_%EC%98%A4%ED%9B%84.ipynb\" target=\"_parent\"><img src=\"https://colab.research.google.com/assets/colab-badge.svg\" alt=\"Open In Colab\"/></a>"
      ]
    },
    {
      "cell_type": "markdown",
      "source": [
        "# 반복문"
      ],
      "metadata": {
        "id": "s6lszzS0ynVf"
      }
    },
    {
      "cell_type": "markdown",
      "source": [
        "## for-**loop**"
      ],
      "metadata": {
        "id": "N7WZk74ZyrFB"
      }
    },
    {
      "cell_type": "code",
      "source": [
        "country_capital = {\n",
        "    '대한민국' : '서울',\n",
        "    '미국' : '워싱턴 D.C.',\n",
        "    '독일' : '베를린',\n",
        "}\n",
        "\n",
        "print(country_capital)"
      ],
      "metadata": {
        "colab": {
          "base_uri": "https://localhost:8080/"
        },
        "id": "owsewzYHytXG",
        "outputId": "c921965e-e449-48b2-a116-f09a9be4d69a"
      },
      "execution_count": 2,
      "outputs": [
        {
          "output_type": "stream",
          "name": "stdout",
          "text": [
            "{'대한민국': '서울', '미국': '워싱턴 D.C.', '독일': '베를린'}\n"
          ]
        }
      ]
    },
    {
      "cell_type": "code",
      "source": [
        "x = '대한민국'\n",
        "\n",
        "print(f'대한민국의 수도는 서울이다.')\n",
        "print(f'{x}의 수도는 서울이다.')\n",
        "print(f'{x}의 수도는 {country_capital[x]}이다.')"
      ],
      "metadata": {
        "colab": {
          "base_uri": "https://localhost:8080/"
        },
        "id": "ND6D8UsHzIUz",
        "outputId": "2a47fde2-63f7-4c3b-9a48-22e05936ac6d"
      },
      "execution_count": 4,
      "outputs": [
        {
          "output_type": "stream",
          "name": "stdout",
          "text": [
            "대한민국의 수도는 서울이다.\n",
            "대한민국의 수도는 서울이다.\n",
            "대한민국의 수도는 서울이다.\n"
          ]
        }
      ]
    },
    {
      "cell_type": "code",
      "source": [
        "# 중첩 for 문\n",
        "# 반복문 내 또 다른 반복문\n",
        "x_list = ['x1', 'x2']\n",
        "y_list = ['y1', 'y2']\n",
        "\n",
        "for x in x_list:\n",
        "  for y in y_list:\n",
        "    print(f'{x} {y}')"
      ],
      "metadata": {
        "colab": {
          "base_uri": "https://localhost:8080/"
        },
        "id": "DwTC2m90zPcj",
        "outputId": "9e7691d7-05f3-4a17-f0a3-b0e824d880c1"
      },
      "execution_count": 6,
      "outputs": [
        {
          "output_type": "stream",
          "name": "stdout",
          "text": [
            "x1 y1\n",
            "x1 y2\n",
            "x2 y1\n",
            "x2 y2\n"
          ]
        }
      ]
    },
    {
      "cell_type": "code",
      "source": [
        "# 구구단\n",
        "num_list = [2, 3, 4, 5, 6, 7, 8, 9]\n",
        "iterable_list = [1, 2, 3, 4, 5, 6, 7, 8, 9]\n",
        "\n",
        "for num in num_list:\n",
        "  print(f'{num}단 시작 !')\n",
        "  for iterable in iterable_list:\n",
        "    print(f'{num} x {iterable} = {num * iterable}')\n",
        "  print('==========')"
      ],
      "metadata": {
        "colab": {
          "base_uri": "https://localhost:8080/"
        },
        "id": "sEl_m_zTz8yU",
        "outputId": "17bb2fcd-a39d-4e22-9c20-45309b45e48b"
      },
      "execution_count": 12,
      "outputs": [
        {
          "output_type": "stream",
          "name": "stdout",
          "text": [
            "2단 시작 !\n",
            "2 x 1 = 2\n",
            "2 x 2 = 4\n",
            "2 x 3 = 6\n",
            "2 x 4 = 8\n",
            "2 x 5 = 10\n",
            "2 x 6 = 12\n",
            "2 x 7 = 14\n",
            "2 x 8 = 16\n",
            "2 x 9 = 18\n",
            "==========\n",
            "3단 시작 !\n",
            "3 x 1 = 3\n",
            "3 x 2 = 6\n",
            "3 x 3 = 9\n",
            "3 x 4 = 12\n",
            "3 x 5 = 15\n",
            "3 x 6 = 18\n",
            "3 x 7 = 21\n",
            "3 x 8 = 24\n",
            "3 x 9 = 27\n",
            "==========\n",
            "4단 시작 !\n",
            "4 x 1 = 4\n",
            "4 x 2 = 8\n",
            "4 x 3 = 12\n",
            "4 x 4 = 16\n",
            "4 x 5 = 20\n",
            "4 x 6 = 24\n",
            "4 x 7 = 28\n",
            "4 x 8 = 32\n",
            "4 x 9 = 36\n",
            "==========\n",
            "5단 시작 !\n",
            "5 x 1 = 5\n",
            "5 x 2 = 10\n",
            "5 x 3 = 15\n",
            "5 x 4 = 20\n",
            "5 x 5 = 25\n",
            "5 x 6 = 30\n",
            "5 x 7 = 35\n",
            "5 x 8 = 40\n",
            "5 x 9 = 45\n",
            "==========\n",
            "6단 시작 !\n",
            "6 x 1 = 6\n",
            "6 x 2 = 12\n",
            "6 x 3 = 18\n",
            "6 x 4 = 24\n",
            "6 x 5 = 30\n",
            "6 x 6 = 36\n",
            "6 x 7 = 42\n",
            "6 x 8 = 48\n",
            "6 x 9 = 54\n",
            "==========\n",
            "7단 시작 !\n",
            "7 x 1 = 7\n",
            "7 x 2 = 14\n",
            "7 x 3 = 21\n",
            "7 x 4 = 28\n",
            "7 x 5 = 35\n",
            "7 x 6 = 42\n",
            "7 x 7 = 49\n",
            "7 x 8 = 56\n",
            "7 x 9 = 63\n",
            "==========\n",
            "8단 시작 !\n",
            "8 x 1 = 8\n",
            "8 x 2 = 16\n",
            "8 x 3 = 24\n",
            "8 x 4 = 32\n",
            "8 x 5 = 40\n",
            "8 x 6 = 48\n",
            "8 x 7 = 56\n",
            "8 x 8 = 64\n",
            "8 x 9 = 72\n",
            "==========\n",
            "9단 시작 !\n",
            "9 x 1 = 9\n",
            "9 x 2 = 18\n",
            "9 x 3 = 27\n",
            "9 x 4 = 36\n",
            "9 x 5 = 45\n",
            "9 x 6 = 54\n",
            "9 x 7 = 63\n",
            "9 x 8 = 72\n",
            "9 x 9 = 81\n",
            "==========\n"
          ]
        }
      ]
    },
    {
      "cell_type": "code",
      "source": [
        "# range로 구현해보기\n",
        "for x in range(2, 10):\n",
        "  print(f'{x}단 시작 !')\n",
        "  for y in range(1, 10):\n",
        "    print(f'{x} x {y} = {x * y}')\n",
        "  print('==========')"
      ],
      "metadata": {
        "colab": {
          "base_uri": "https://localhost:8080/"
        },
        "id": "-az8egCh0iF4",
        "outputId": "d1188e7e-b2a8-4e4d-80d5-430e22bd9cbd"
      },
      "execution_count": 14,
      "outputs": [
        {
          "output_type": "stream",
          "name": "stdout",
          "text": [
            "2단 시작 !\n",
            "2 x 1 = 2\n",
            "2 x 2 = 4\n",
            "2 x 3 = 6\n",
            "2 x 4 = 8\n",
            "2 x 5 = 10\n",
            "2 x 6 = 12\n",
            "2 x 7 = 14\n",
            "2 x 8 = 16\n",
            "2 x 9 = 18\n",
            "==========\n",
            "3단 시작 !\n",
            "3 x 1 = 3\n",
            "3 x 2 = 6\n",
            "3 x 3 = 9\n",
            "3 x 4 = 12\n",
            "3 x 5 = 15\n",
            "3 x 6 = 18\n",
            "3 x 7 = 21\n",
            "3 x 8 = 24\n",
            "3 x 9 = 27\n",
            "==========\n",
            "4단 시작 !\n",
            "4 x 1 = 4\n",
            "4 x 2 = 8\n",
            "4 x 3 = 12\n",
            "4 x 4 = 16\n",
            "4 x 5 = 20\n",
            "4 x 6 = 24\n",
            "4 x 7 = 28\n",
            "4 x 8 = 32\n",
            "4 x 9 = 36\n",
            "==========\n",
            "5단 시작 !\n",
            "5 x 1 = 5\n",
            "5 x 2 = 10\n",
            "5 x 3 = 15\n",
            "5 x 4 = 20\n",
            "5 x 5 = 25\n",
            "5 x 6 = 30\n",
            "5 x 7 = 35\n",
            "5 x 8 = 40\n",
            "5 x 9 = 45\n",
            "==========\n",
            "6단 시작 !\n",
            "6 x 1 = 6\n",
            "6 x 2 = 12\n",
            "6 x 3 = 18\n",
            "6 x 4 = 24\n",
            "6 x 5 = 30\n",
            "6 x 6 = 36\n",
            "6 x 7 = 42\n",
            "6 x 8 = 48\n",
            "6 x 9 = 54\n",
            "==========\n",
            "7단 시작 !\n",
            "7 x 1 = 7\n",
            "7 x 2 = 14\n",
            "7 x 3 = 21\n",
            "7 x 4 = 28\n",
            "7 x 5 = 35\n",
            "7 x 6 = 42\n",
            "7 x 7 = 49\n",
            "7 x 8 = 56\n",
            "7 x 9 = 63\n",
            "==========\n",
            "8단 시작 !\n",
            "8 x 1 = 8\n",
            "8 x 2 = 16\n",
            "8 x 3 = 24\n",
            "8 x 4 = 32\n",
            "8 x 5 = 40\n",
            "8 x 6 = 48\n",
            "8 x 7 = 56\n",
            "8 x 8 = 64\n",
            "8 x 9 = 72\n",
            "==========\n",
            "9단 시작 !\n",
            "9 x 1 = 9\n",
            "9 x 2 = 18\n",
            "9 x 3 = 27\n",
            "9 x 4 = 36\n",
            "9 x 5 = 45\n",
            "9 x 6 = 54\n",
            "9 x 7 = 63\n",
            "9 x 8 = 72\n",
            "9 x 9 = 81\n",
            "==========\n"
          ]
        }
      ]
    },
    {
      "cell_type": "code",
      "source": [
        "names = ['a', 'b', 'c']\n",
        "ages = [10 ,20, 30]\n",
        "\n",
        "# 1. zip() 사용\n",
        "for name, age in zip(names, ages):\n",
        "  print(name, age)\n",
        "\n",
        "# 2. enumberate() 사용\n",
        "for idx, name in enumerate(names):\n",
        "  print(idx, name)"
      ],
      "metadata": {
        "colab": {
          "base_uri": "https://localhost:8080/"
        },
        "id": "tZ8eYG414hv_",
        "outputId": "c4281133-0c81-4a4c-a458-4241e81b8be3"
      },
      "execution_count": 19,
      "outputs": [
        {
          "output_type": "stream",
          "name": "stdout",
          "text": [
            "a 10\n",
            "b 20\n",
            "c 30\n",
            "0 a\n",
            "1 b\n",
            "2 c\n"
          ]
        }
      ]
    },
    {
      "cell_type": "markdown",
      "source": [
        "## While 특징\n",
        "  - for-loop 특징 : 항상 반복문의 범위를 지정한다.\n",
        "    + 몇번 반복문을 수행할지 숫자로 컨트롤 가능\n",
        "  - while 특징\n",
        "    + 조건문이 False가 될 때까지 반복문을 수행\n",
        "    + 조건문이 True가 되면 반복문은 무한 수행"
      ],
      "metadata": {
        "id": "74IZlkhD7wt5"
      }
    },
    {
      "cell_type": "code",
      "source": [
        "# 초기값 지정\n",
        "i = 1\n",
        "n = 3\n",
        "\n",
        "# i가 n보다 작거나 같은경우에만 반복문 수행\n",
        "while i <= n:\n",
        "  print(f'현재 {i} 번')\n",
        "  i = i + 1\n",
        "\n"
      ],
      "metadata": {
        "colab": {
          "base_uri": "https://localhost:8080/"
        },
        "id": "PteOQgDc5HGm",
        "outputId": "7c0df44e-5e68-4ce9-e09a-da8dc0cbad63"
      },
      "execution_count": 23,
      "outputs": [
        {
          "output_type": "stream",
          "name": "stdout",
          "text": [
            "현재 1 번\n",
            "현재 2 번\n",
            "현재 3 번\n"
          ]
        }
      ]
    },
    {
      "cell_type": "markdown",
      "source": [
        "## for-loop vs while\n",
        "  "
      ],
      "metadata": {
        "id": "nrvEhEOwAUjP"
      }
    },
    {
      "cell_type": "markdown",
      "source": [
        "## break 문\n",
        "  - 중간에 반복문 강제 종료\n",
        "    + 특정 시점에 반복문 강제 종료"
      ],
      "metadata": {
        "id": "-zxxbHuRCIVf"
      }
    },
    {
      "cell_type": "code",
      "source": [
        "exit = 1\n",
        "\n",
        "while True:\n",
        "  print(f'exit = {exit}')\n",
        "  if exit == 5:\n",
        "    break\n",
        "  exit += 1\n",
        "\n",
        "# 5가 출력되는 이유\n",
        "# 로직에서 exit의 값을 더한 후 반복문을 수행하기 때문"
      ],
      "metadata": {
        "colab": {
          "base_uri": "https://localhost:8080/"
        },
        "id": "gC8z6wSg9KGw",
        "outputId": "b42ab33b-de78-47b7-e71a-8185552b6243"
      },
      "execution_count": 25,
      "outputs": [
        {
          "output_type": "stream",
          "name": "stdout",
          "text": [
            "exit = 1\n",
            "exit = 2\n",
            "exit = 3\n",
            "exit = 4\n",
            "exit = 5\n"
          ]
        }
      ]
    },
    {
      "cell_type": "code",
      "source": [
        "for i in range(1, 10):\n",
        "  print(f'현재 i = {i}')\n",
        "  if i ==  5: # True인 경우\n",
        "    print('조건을 만족하여 반복문을 종료합니다.')\n",
        "    break"
      ],
      "metadata": {
        "colab": {
          "base_uri": "https://localhost:8080/"
        },
        "id": "DRtw-vybCavy",
        "outputId": "883fbb41-255e-44bf-87df-20741ac8ac9e"
      },
      "execution_count": 29,
      "outputs": [
        {
          "output_type": "stream",
          "name": "stdout",
          "text": [
            "현재 i = 1\n",
            "현재 i = 2\n",
            "현재 i = 3\n",
            "현재 i = 4\n",
            "현재 i = 5\n",
            "조건을 만족하여 반복문을 종료합니다.\n"
          ]
        }
      ]
    },
    {
      "cell_type": "markdown",
      "source": [
        "## 문자열과 for-loop"
      ],
      "metadata": {
        "id": "3U_vofQoDwOK"
      }
    },
    {
      "cell_type": "code",
      "source": [
        "texts = 'Python'\n",
        "for text in texts:\n",
        "  print(text)\n",
        "  # text가 't'가 되면 break 문자의 경우에도 종료 조건 가능\n",
        "  if text == 't':\n",
        "    print(f'text가 {text}가 되어 반복문을 종료합니다.')\n",
        "    break\n",
        ""
      ],
      "metadata": {
        "colab": {
          "base_uri": "https://localhost:8080/"
        },
        "id": "cyH7O21yDNa0",
        "outputId": "e558a8f3-75b7-421c-e466-592264c8adad"
      },
      "execution_count": 33,
      "outputs": [
        {
          "output_type": "stream",
          "name": "stdout",
          "text": [
            "P\n",
            "y\n",
            "t\n",
            "text가 t가 되어 반복문을 종료합니다.\n"
          ]
        }
      ]
    },
    {
      "cell_type": "markdown",
      "source": [
        "## 리스트 컴프리헨션\n",
        "  - for-loop 및 for-loop if 조건문 한줄로 처리"
      ],
      "metadata": {
        "id": "0gLWRBupEnX1"
      }
    },
    {
      "cell_type": "code",
      "source": [
        "# pythonic한 코드\n",
        "numbers = [1, 2, 3, 4, 5]\n",
        "result = [1, 4, 9, 16, 25]"
      ],
      "metadata": {
        "id": "4L2Vwk_RD6ii"
      },
      "execution_count": 34,
      "outputs": []
    },
    {
      "cell_type": "code",
      "source": [
        "numbers = [1, 2, 3, 4, 5]\n",
        "result = []\n",
        "\n",
        "for i in numbers:\n",
        "  result.append(i * i)\n",
        "\n",
        "result"
      ],
      "metadata": {
        "colab": {
          "base_uri": "https://localhost:8080/"
        },
        "id": "pPueLp2XFQQd",
        "outputId": "758eb5d5-067d-4cda-cfba-d4ccb0c6aceb"
      },
      "execution_count": 36,
      "outputs": [
        {
          "output_type": "execute_result",
          "data": {
            "text/plain": [
              "[1, 4, 9, 16, 25]"
            ]
          },
          "metadata": {},
          "execution_count": 36
        }
      ]
    },
    {
      "cell_type": "code",
      "source": [
        "numbers = [1, 2, 3, 4, 5]\n",
        "result = [i * i for i in numbers]\n",
        "result"
      ],
      "metadata": {
        "colab": {
          "base_uri": "https://localhost:8080/"
        },
        "id": "RLbJSv8lF11S",
        "outputId": "4fecb59a-5f4c-4fc5-d873-b068c10da245"
      },
      "execution_count": 38,
      "outputs": [
        {
          "output_type": "execute_result",
          "data": {
            "text/plain": [
              "[1, 4, 9, 16, 25]"
            ]
          },
          "metadata": {},
          "execution_count": 38
        }
      ]
    },
    {
      "cell_type": "markdown",
      "source": [
        "- 조건문 추가 리스트 컴프리헨션"
      ],
      "metadata": {
        "id": "rqK524R0K62K"
      }
    },
    {
      "cell_type": "code",
      "source": [
        "numbers = [1, 2, 3, 4, 5]\n",
        "result = []\n",
        "\n",
        "for i in numbers:\n",
        "  if i >= 3:\n",
        "    result.append(i)\n",
        "\n",
        "result"
      ],
      "metadata": {
        "colab": {
          "base_uri": "https://localhost:8080/"
        },
        "id": "WPrBNITFGUY3",
        "outputId": "e2c0dbac-2f70-4190-c870-c598e81cf012"
      },
      "execution_count": 39,
      "outputs": [
        {
          "output_type": "execute_result",
          "data": {
            "text/plain": [
              "[3, 4, 5]"
            ]
          },
          "metadata": {},
          "execution_count": 39
        }
      ]
    },
    {
      "cell_type": "code",
      "source": [
        "numbers = [1, 2, 3, 4, 5]\n",
        "result = [i * i for i in numbers if i >= 3]\n",
        "result"
      ],
      "metadata": {
        "colab": {
          "base_uri": "https://localhost:8080/"
        },
        "id": "PaOcbZlgLE_A",
        "outputId": "2d8d31cb-c695-4b0e-d556-3febbadf39c9"
      },
      "execution_count": 40,
      "outputs": [
        {
          "output_type": "execute_result",
          "data": {
            "text/plain": [
              "[9, 16, 25]"
            ]
          },
          "metadata": {},
          "execution_count": 40
        }
      ]
    },
    {
      "cell_type": "markdown",
      "source": [
        "# 파이썬 문서화 (Docstring)\n",
        "  - 코딩을 한다. 프로그래밍을 한다.\n",
        "  - 누군가에게 관련 지식을 전달하는 것과 동일\n",
        "    + 혼자 코딩하고, 혼자만 알 수 있는 언어로 코딩을 했다 ==> 협업 불가능\n",
        "    + 취업, 퇴사, 이직 ==> 업무 인수인계를 해야 함\n",
        "    + 코딩한 것에 문서화를 하지 못하면, 업무 인수인계 자체가 불가능\n",
        "\n",
        "    - 프로젝트 진행\n",
        "      + 3주 / 4주 ==> 마지막주에는\n",
        "        - 2~3명, PPT 보고서 작성\n",
        "        - 남은 인원, Dockstring을 사용해서, 문서화\n",
        "      + help() 명령어를 사용해서 불러오기 할 수 있음 ( 예, read_csv() 문서처럼 출력이 가능)\n",
        "  - 질문 내용: swagger 같은 API 명세서가 docstring일까요?\n",
        "    + 클라이언트 용 명세서(공공기관, 한글 또는 워드 작업)"
      ],
      "metadata": {
        "id": "BLwAxuRNNJiV"
      }
    },
    {
      "cell_type": "code",
      "source": [
        "help(print)"
      ],
      "metadata": {
        "colab": {
          "base_uri": "https://localhost:8080/"
        },
        "id": "dhkPZQnDLMU5",
        "outputId": "b20093bf-5e5a-4ceb-b7f2-39a0df1e9e66"
      },
      "execution_count": 41,
      "outputs": [
        {
          "output_type": "stream",
          "name": "stdout",
          "text": [
            "Help on built-in function print in module builtins:\n",
            "\n",
            "print(...)\n",
            "    print(value, ..., sep=' ', end='\\n', file=sys.stdout, flush=False)\n",
            "    \n",
            "    Prints the values to a stream, or to sys.stdout by default.\n",
            "    Optional keyword arguments:\n",
            "    file:  a file-like object (stream); defaults to the current sys.stdout.\n",
            "    sep:   string inserted between values, default a space.\n",
            "    end:   string appended after the last value, default a newline.\n",
            "    flush: whether to forcibly flush the stream.\n",
            "\n"
          ]
        }
      ]
    },
    {
      "cell_type": "code",
      "source": [
        "import math\n",
        "help(math)"
      ],
      "metadata": {
        "colab": {
          "base_uri": "https://localhost:8080/"
        },
        "id": "iGGwvDO0Q6Mt",
        "outputId": "f7fa9c85-26aa-4aaa-8a5c-2118d293a132"
      },
      "execution_count": 42,
      "outputs": [
        {
          "output_type": "stream",
          "name": "stdout",
          "text": [
            "Help on built-in module math:\n",
            "\n",
            "NAME\n",
            "    math\n",
            "\n",
            "DESCRIPTION\n",
            "    This module provides access to the mathematical functions\n",
            "    defined by the C standard.\n",
            "\n",
            "FUNCTIONS\n",
            "    acos(x, /)\n",
            "        Return the arc cosine (measured in radians) of x.\n",
            "        \n",
            "        The result is between 0 and pi.\n",
            "    \n",
            "    acosh(x, /)\n",
            "        Return the inverse hyperbolic cosine of x.\n",
            "    \n",
            "    asin(x, /)\n",
            "        Return the arc sine (measured in radians) of x.\n",
            "        \n",
            "        The result is between -pi/2 and pi/2.\n",
            "    \n",
            "    asinh(x, /)\n",
            "        Return the inverse hyperbolic sine of x.\n",
            "    \n",
            "    atan(x, /)\n",
            "        Return the arc tangent (measured in radians) of x.\n",
            "        \n",
            "        The result is between -pi/2 and pi/2.\n",
            "    \n",
            "    atan2(y, x, /)\n",
            "        Return the arc tangent (measured in radians) of y/x.\n",
            "        \n",
            "        Unlike atan(y/x), the signs of both x and y are considered.\n",
            "    \n",
            "    atanh(x, /)\n",
            "        Return the inverse hyperbolic tangent of x.\n",
            "    \n",
            "    ceil(x, /)\n",
            "        Return the ceiling of x as an Integral.\n",
            "        \n",
            "        This is the smallest integer >= x.\n",
            "    \n",
            "    comb(n, k, /)\n",
            "        Number of ways to choose k items from n items without repetition and without order.\n",
            "        \n",
            "        Evaluates to n! / (k! * (n - k)!) when k <= n and evaluates\n",
            "        to zero when k > n.\n",
            "        \n",
            "        Also called the binomial coefficient because it is equivalent\n",
            "        to the coefficient of k-th term in polynomial expansion of the\n",
            "        expression (1 + x)**n.\n",
            "        \n",
            "        Raises TypeError if either of the arguments are not integers.\n",
            "        Raises ValueError if either of the arguments are negative.\n",
            "    \n",
            "    copysign(x, y, /)\n",
            "        Return a float with the magnitude (absolute value) of x but the sign of y.\n",
            "        \n",
            "        On platforms that support signed zeros, copysign(1.0, -0.0)\n",
            "        returns -1.0.\n",
            "    \n",
            "    cos(x, /)\n",
            "        Return the cosine of x (measured in radians).\n",
            "    \n",
            "    cosh(x, /)\n",
            "        Return the hyperbolic cosine of x.\n",
            "    \n",
            "    degrees(x, /)\n",
            "        Convert angle x from radians to degrees.\n",
            "    \n",
            "    dist(p, q, /)\n",
            "        Return the Euclidean distance between two points p and q.\n",
            "        \n",
            "        The points should be specified as sequences (or iterables) of\n",
            "        coordinates.  Both inputs must have the same dimension.\n",
            "        \n",
            "        Roughly equivalent to:\n",
            "            sqrt(sum((px - qx) ** 2.0 for px, qx in zip(p, q)))\n",
            "    \n",
            "    erf(x, /)\n",
            "        Error function at x.\n",
            "    \n",
            "    erfc(x, /)\n",
            "        Complementary error function at x.\n",
            "    \n",
            "    exp(x, /)\n",
            "        Return e raised to the power of x.\n",
            "    \n",
            "    expm1(x, /)\n",
            "        Return exp(x)-1.\n",
            "        \n",
            "        This function avoids the loss of precision involved in the direct evaluation of exp(x)-1 for small x.\n",
            "    \n",
            "    fabs(x, /)\n",
            "        Return the absolute value of the float x.\n",
            "    \n",
            "    factorial(x, /)\n",
            "        Find x!.\n",
            "        \n",
            "        Raise a ValueError if x is negative or non-integral.\n",
            "    \n",
            "    floor(x, /)\n",
            "        Return the floor of x as an Integral.\n",
            "        \n",
            "        This is the largest integer <= x.\n",
            "    \n",
            "    fmod(x, y, /)\n",
            "        Return fmod(x, y), according to platform C.\n",
            "        \n",
            "        x % y may differ.\n",
            "    \n",
            "    frexp(x, /)\n",
            "        Return the mantissa and exponent of x, as pair (m, e).\n",
            "        \n",
            "        m is a float and e is an int, such that x = m * 2.**e.\n",
            "        If x is 0, m and e are both 0.  Else 0.5 <= abs(m) < 1.0.\n",
            "    \n",
            "    fsum(seq, /)\n",
            "        Return an accurate floating point sum of values in the iterable seq.\n",
            "        \n",
            "        Assumes IEEE-754 floating point arithmetic.\n",
            "    \n",
            "    gamma(x, /)\n",
            "        Gamma function at x.\n",
            "    \n",
            "    gcd(*integers)\n",
            "        Greatest Common Divisor.\n",
            "    \n",
            "    hypot(...)\n",
            "        hypot(*coordinates) -> value\n",
            "        \n",
            "        Multidimensional Euclidean distance from the origin to a point.\n",
            "        \n",
            "        Roughly equivalent to:\n",
            "            sqrt(sum(x**2 for x in coordinates))\n",
            "        \n",
            "        For a two dimensional point (x, y), gives the hypotenuse\n",
            "        using the Pythagorean theorem:  sqrt(x*x + y*y).\n",
            "        \n",
            "        For example, the hypotenuse of a 3/4/5 right triangle is:\n",
            "        \n",
            "            >>> hypot(3.0, 4.0)\n",
            "            5.0\n",
            "    \n",
            "    isclose(a, b, *, rel_tol=1e-09, abs_tol=0.0)\n",
            "        Determine whether two floating point numbers are close in value.\n",
            "        \n",
            "          rel_tol\n",
            "            maximum difference for being considered \"close\", relative to the\n",
            "            magnitude of the input values\n",
            "          abs_tol\n",
            "            maximum difference for being considered \"close\", regardless of the\n",
            "            magnitude of the input values\n",
            "        \n",
            "        Return True if a is close in value to b, and False otherwise.\n",
            "        \n",
            "        For the values to be considered close, the difference between them\n",
            "        must be smaller than at least one of the tolerances.\n",
            "        \n",
            "        -inf, inf and NaN behave similarly to the IEEE 754 Standard.  That\n",
            "        is, NaN is not close to anything, even itself.  inf and -inf are\n",
            "        only close to themselves.\n",
            "    \n",
            "    isfinite(x, /)\n",
            "        Return True if x is neither an infinity nor a NaN, and False otherwise.\n",
            "    \n",
            "    isinf(x, /)\n",
            "        Return True if x is a positive or negative infinity, and False otherwise.\n",
            "    \n",
            "    isnan(x, /)\n",
            "        Return True if x is a NaN (not a number), and False otherwise.\n",
            "    \n",
            "    isqrt(n, /)\n",
            "        Return the integer part of the square root of the input.\n",
            "    \n",
            "    lcm(*integers)\n",
            "        Least Common Multiple.\n",
            "    \n",
            "    ldexp(x, i, /)\n",
            "        Return x * (2**i).\n",
            "        \n",
            "        This is essentially the inverse of frexp().\n",
            "    \n",
            "    lgamma(x, /)\n",
            "        Natural logarithm of absolute value of Gamma function at x.\n",
            "    \n",
            "    log(...)\n",
            "        log(x, [base=math.e])\n",
            "        Return the logarithm of x to the given base.\n",
            "        \n",
            "        If the base not specified, returns the natural logarithm (base e) of x.\n",
            "    \n",
            "    log10(x, /)\n",
            "        Return the base 10 logarithm of x.\n",
            "    \n",
            "    log1p(x, /)\n",
            "        Return the natural logarithm of 1+x (base e).\n",
            "        \n",
            "        The result is computed in a way which is accurate for x near zero.\n",
            "    \n",
            "    log2(x, /)\n",
            "        Return the base 2 logarithm of x.\n",
            "    \n",
            "    modf(x, /)\n",
            "        Return the fractional and integer parts of x.\n",
            "        \n",
            "        Both results carry the sign of x and are floats.\n",
            "    \n",
            "    nextafter(x, y, /)\n",
            "        Return the next floating-point value after x towards y.\n",
            "    \n",
            "    perm(n, k=None, /)\n",
            "        Number of ways to choose k items from n items without repetition and with order.\n",
            "        \n",
            "        Evaluates to n! / (n - k)! when k <= n and evaluates\n",
            "        to zero when k > n.\n",
            "        \n",
            "        If k is not specified or is None, then k defaults to n\n",
            "        and the function returns n!.\n",
            "        \n",
            "        Raises TypeError if either of the arguments are not integers.\n",
            "        Raises ValueError if either of the arguments are negative.\n",
            "    \n",
            "    pow(x, y, /)\n",
            "        Return x**y (x to the power of y).\n",
            "    \n",
            "    prod(iterable, /, *, start=1)\n",
            "        Calculate the product of all the elements in the input iterable.\n",
            "        \n",
            "        The default start value for the product is 1.\n",
            "        \n",
            "        When the iterable is empty, return the start value.  This function is\n",
            "        intended specifically for use with numeric values and may reject\n",
            "        non-numeric types.\n",
            "    \n",
            "    radians(x, /)\n",
            "        Convert angle x from degrees to radians.\n",
            "    \n",
            "    remainder(x, y, /)\n",
            "        Difference between x and the closest integer multiple of y.\n",
            "        \n",
            "        Return x - n*y where n*y is the closest integer multiple of y.\n",
            "        In the case where x is exactly halfway between two multiples of\n",
            "        y, the nearest even value of n is used. The result is always exact.\n",
            "    \n",
            "    sin(x, /)\n",
            "        Return the sine of x (measured in radians).\n",
            "    \n",
            "    sinh(x, /)\n",
            "        Return the hyperbolic sine of x.\n",
            "    \n",
            "    sqrt(x, /)\n",
            "        Return the square root of x.\n",
            "    \n",
            "    tan(x, /)\n",
            "        Return the tangent of x (measured in radians).\n",
            "    \n",
            "    tanh(x, /)\n",
            "        Return the hyperbolic tangent of x.\n",
            "    \n",
            "    trunc(x, /)\n",
            "        Truncates the Real x to the nearest Integral toward 0.\n",
            "        \n",
            "        Uses the __trunc__ magic method.\n",
            "    \n",
            "    ulp(x, /)\n",
            "        Return the value of the least significant bit of the float x.\n",
            "\n",
            "DATA\n",
            "    e = 2.718281828459045\n",
            "    inf = inf\n",
            "    nan = nan\n",
            "    pi = 3.141592653589793\n",
            "    tau = 6.283185307179586\n",
            "\n",
            "FILE\n",
            "    (built-in)\n",
            "\n",
            "\n"
          ]
        }
      ]
    },
    {
      "cell_type": "code",
      "source": [
        "def myPower(n):\n",
        "  '''숫자 n을 입력하면 n의 거듭제곱으로 반환'''\n",
        "  result = n * n\n",
        "  return result\n",
        "\n",
        "print(myPower(4))\n",
        "# 함수 블럭안에서 주석으로 작성한 부분을 출력해줌.\n",
        "print(myPower.__doc__)"
      ],
      "metadata": {
        "colab": {
          "base_uri": "https://localhost:8080/"
        },
        "id": "6JQxajBvQ8SJ",
        "outputId": "8f416ce9-2b9b-49fb-e501-a5cc07e2544d"
      },
      "execution_count": 44,
      "outputs": [
        {
          "output_type": "stream",
          "name": "stdout",
          "text": [
            "16\n",
            "숫자 n을 입력하면 n의 거듭제곱으로 반환\n"
          ]
        }
      ]
    },
    {
      "cell_type": "code",
      "source": [
        "# Ex) print\n",
        "print(print.__doc__)"
      ],
      "metadata": {
        "colab": {
          "base_uri": "https://localhost:8080/"
        },
        "id": "Z_PUfwXlRiRG",
        "outputId": "5861214a-7419-4f30-b016-ffad9ea35123"
      },
      "execution_count": 45,
      "outputs": [
        {
          "output_type": "stream",
          "name": "stdout",
          "text": [
            "print(value, ..., sep=' ', end='\\n', file=sys.stdout, flush=False)\n",
            "\n",
            "Prints the values to a stream, or to sys.stdout by default.\n",
            "Optional keyword arguments:\n",
            "file:  a file-like object (stream); defaults to the current sys.stdout.\n",
            "sep:   string inserted between values, default a space.\n",
            "end:   string appended after the last value, default a newline.\n",
            "flush: whether to forcibly flush the stream.\n"
          ]
        }
      ]
    },
    {
      "cell_type": "code",
      "source": [
        "def read_csv(sep, header):\n",
        "  '''\n",
        "  Returns the sume of ~~~ .\n",
        "\n",
        "    Parameters:\n",
        "      sep (str) : Character or regex pattern to treaat as the delimiter.\n",
        "      header (int) : Row number(s) containing column labels\n",
        "\n",
        "    Returns:\n",
        "      c (int) : Sum of ~~\n",
        "  '''\n",
        "\n",
        "  c = sep + header\n",
        "  return c\n",
        "\n",
        "print(read_csv.__doc__)"
      ],
      "metadata": {
        "colab": {
          "base_uri": "https://localhost:8080/"
        },
        "id": "UZtgoajWR60X",
        "outputId": "66303d4f-d099-4c41-d33c-a657a3a02132"
      },
      "execution_count": 47,
      "outputs": [
        {
          "output_type": "stream",
          "name": "stdout",
          "text": [
            "\n",
            "  Returns the sume of ~~~ .\n",
            "\n",
            "    Parameters:\n",
            "      sep (str) : Character or regex pattern to treaat as the delimiter.\n",
            "      header (int) : Row number(s) containing column labels\n",
            "\n",
            "    Returns:\n",
            "      c (int) : Sum of ~~\n",
            "  \n"
          ]
        }
      ]
    },
    {
      "cell_type": "markdown",
      "source": [
        "## 클래스 상속\n",
        "  - 상속 ? : \"이어 받는다\"는 의미\n",
        "    + 즉, 부모 클래스의 속성과 메서드를 이어받는다(= 사용할 수 있다)는 의미\n",
        "  \n",
        "  - 동물\n",
        "    + 동물의 공통적인 특징 : 살아 움직인다.\n",
        "    - 포유류\n",
        "      + 네 발이 있다.\n",
        "      + 새끼를 낳는다.\n",
        "    - 파충류\n",
        "      + 알을 낳는다.\n",
        "  \n",
        "  - \"살아 움직인다\"는 공통적인 특징을 코드로 작성하면 효율적이고 유지보수가 수월함."
      ],
      "metadata": {
        "id": "mlpKeG1zUeFG"
      }
    },
    {
      "cell_type": "code",
      "source": [
        "class Animal:\n",
        "  # Attribute 정의(= 클래스 변수)\n",
        "  name = \"\"\n",
        "\n",
        "  # 공통함수\n",
        "  def eat(self):\n",
        "    print('나는 먹을 수 있음')\n",
        "\n",
        "  def sleep(self):\n",
        "    print('나는 잠을 잘 수 있음')\n",
        "\n",
        "# '개'는 '동물'에 속하므로 상속을 받는다는 것은 자명함\n",
        "class Dog(Animal):\n",
        "  # name = \"\" 이 코드는 Animal 클래스를 상속 받았으므로 작성하지 않아도 됨.\n",
        "\n",
        "  # 새로운 메서드\n",
        "  def bark(self):\n",
        "    print(f'{self.name} 강아지가 짖다')\n"
      ],
      "metadata": {
        "id": "s1iEvC2cTN7y"
      },
      "execution_count": 48,
      "outputs": []
    },
    {
      "cell_type": "code",
      "source": [
        "# Dog 클래스 객체 생성\n",
        "poppy = Dog()\n",
        "poppy.name = \"뽀삐\"\n",
        "\n",
        "# 상속받은 Animal 클래스의 메서드 사용\n",
        "poppy.eat()\n",
        "poppy.sleep()\n",
        "# Dog 클래스의 메서드 사용\n",
        "poppy.bark()\n",
        "\n",
        "# Animal 클래스 객체 생성\n",
        "tiger = Animal()\n",
        "tiger.name = \"호랑이\"\n",
        "tiger.eat()\n",
        "tiger.sleep()\n",
        "\n",
        "#아래 코드를 실행하면 에러가 발생함\n",
        "# bark() 메서드는 Dog 클래스의 고유한 메서드이기 때문.\n",
        "# tiger.bark()"
      ],
      "metadata": {
        "colab": {
          "base_uri": "https://localhost:8080/"
        },
        "id": "S0DNXaypafgA",
        "outputId": "4fdd1fcc-e283-4161-fc4e-aa00144d7fcf"
      },
      "execution_count": 53,
      "outputs": [
        {
          "output_type": "stream",
          "name": "stdout",
          "text": [
            "나는 먹을 수 있음\n",
            "나는 잠을 잘 수 있음\n",
            "뽀삐 강아지가 짖다\n",
            "나는 먹을 수 있음\n",
            "나는 잠을 잘 수 있음\n"
          ]
        }
      ]
    },
    {
      "cell_type": "markdown",
      "source": [
        "## 클래스 Docstring"
      ],
      "metadata": {
        "id": "R21yIw47coP1"
      }
    },
    {
      "cell_type": "code",
      "source": [
        "class Person:\n",
        "  \"\"\"\n",
        "  자기 소개하는 Person 클래스.\n",
        "\n",
        "  '''\n",
        "  Attributes\n",
        "  -----------\n",
        "  name : str\n",
        "    사람의 이름을 의미\n",
        "  age : int\n",
        "    사람의 나이를 의미\n",
        "  grade : int\n",
        "    사람의 현재 학년을 의미\n",
        "\n",
        "  Methods\n",
        "  -----------\n",
        "  info(comment=\"\"):\n",
        "    사람의 개인정보를 출력\n",
        "\n",
        "  \"\"\"\n",
        "\n",
        "  def __init__(self, name, age, grade):\n",
        "    \"\"\"\n",
        "\n",
        "    \"\"\"\n",
        "    self.name = name\n",
        "    self.age = age\n",
        "    self.grade = grade\n",
        "\n",
        "  def info(self, comment = \"\"):\n",
        "    \"\"\"\n",
        "\n",
        "    \"\"\"\n",
        "    print(f'내 이름은 {self.name}. 내 나이는 {self.age}. 현재 학년은 {self.grade}. {comment}')"
      ],
      "metadata": {
        "id": "FRU2ReWpapAR"
      },
      "execution_count": 54,
      "outputs": []
    },
    {
      "cell_type": "code",
      "source": [
        "print(Person.__doc__)"
      ],
      "metadata": {
        "colab": {
          "base_uri": "https://localhost:8080/"
        },
        "id": "5bfnIjg7eSG5",
        "outputId": "7dc37c8e-9c5a-4a5a-a0bb-d4904cf7f84a"
      },
      "execution_count": 55,
      "outputs": [
        {
          "output_type": "stream",
          "name": "stdout",
          "text": [
            "\n",
            "  자기 소개하는 Person 클래스. \n",
            "\n",
            "  '''\n",
            "  Attributes\n",
            "  -----------\n",
            "  name : str\n",
            "    사람의 이름을 의미\n",
            "  age : int\n",
            "    사람의 나이를 의미\n",
            "  grade : int\n",
            "    사람의 현재 학년을 의미\n",
            "\n",
            "  Methods\n",
            "  -----------\n",
            "  info(comment=\"\"):\n",
            "    사람의 개인정보를 출력\n",
            "\n",
            "  \n"
          ]
        }
      ]
    },
    {
      "cell_type": "code",
      "source": [
        "help(Person)"
      ],
      "metadata": {
        "colab": {
          "base_uri": "https://localhost:8080/"
        },
        "id": "X51gkXHheVyf",
        "outputId": "53deb92f-1d38-44e2-ddce-a40b43f34813"
      },
      "execution_count": 56,
      "outputs": [
        {
          "output_type": "stream",
          "name": "stdout",
          "text": [
            "Help on class Person in module __main__:\n",
            "\n",
            "class Person(builtins.object)\n",
            " |  Person(name, age, grade)\n",
            " |  \n",
            " |  자기 소개하는 Person 클래스. \n",
            " |  \n",
            " |  '''\n",
            " |  Attributes\n",
            " |  -----------\n",
            " |  name : str\n",
            " |    사람의 이름을 의미\n",
            " |  age : int\n",
            " |    사람의 나이를 의미\n",
            " |  grade : int\n",
            " |    사람의 현재 학년을 의미\n",
            " |  \n",
            " |  Methods\n",
            " |  -----------\n",
            " |  info(comment=\"\"):\n",
            " |    사람의 개인정보를 출력\n",
            " |  \n",
            " |  Methods defined here:\n",
            " |  \n",
            " |  __init__(self, name, age, grade)\n",
            " |  \n",
            " |  info(self, comment='')\n",
            " |  \n",
            " |  ----------------------------------------------------------------------\n",
            " |  Data descriptors defined here:\n",
            " |  \n",
            " |  __dict__\n",
            " |      dictionary for instance variables (if defined)\n",
            " |  \n",
            " |  __weakref__\n",
            " |      list of weak references to the object (if defined)\n",
            "\n"
          ]
        }
      ]
    },
    {
      "cell_type": "markdown",
      "source": [
        "### 알아두면 유용한 Python Docstring Site\n",
        "  -  https://betterprogramming.pub/3-different-docstring-formats-for-python-d27be81e0d68"
      ],
      "metadata": {
        "id": "df4ISKGse6yQ"
      }
    },
    {
      "cell_type": "code",
      "source": [],
      "metadata": {
        "id": "XIpe05XqeZLw"
      },
      "execution_count": null,
      "outputs": []
    }
  ]
}