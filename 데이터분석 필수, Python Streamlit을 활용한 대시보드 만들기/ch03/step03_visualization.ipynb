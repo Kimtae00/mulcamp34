{
 "cells": [
  {
   "cell_type": "code",
   "execution_count": 4,
   "id": "67ad29cc-acc8-439f-8c2a-df4ae5f80002",
   "metadata": {},
   "outputs": [],
   "source": [
    "# 필요한 라이브러리 불러오기\n",
    "import matplotlib.pyplot as plt\n",
    "import pandas as pd"
   ]
  },
  {
   "cell_type": "code",
   "execution_count": 6,
   "id": "b4514b6e-1bf4-4ee3-94a7-364f3787299c",
   "metadata": {},
   "outputs": [
    {
     "data": {
      "text/html": [
       "<div>\n",
       "<style scoped>\n",
       "    .dataframe tbody tr th:only-of-type {\n",
       "        vertical-align: middle;\n",
       "    }\n",
       "\n",
       "    .dataframe tbody tr th {\n",
       "        vertical-align: top;\n",
       "    }\n",
       "\n",
       "    .dataframe thead th {\n",
       "        text-align: right;\n",
       "    }\n",
       "</style>\n",
       "<table border=\"1\" class=\"dataframe\">\n",
       "  <thead>\n",
       "    <tr style=\"text-align: right;\">\n",
       "      <th></th>\n",
       "      <th>datesold</th>\n",
       "      <th>postcode</th>\n",
       "      <th>price</th>\n",
       "      <th>propertyType</th>\n",
       "      <th>bedrooms</th>\n",
       "    </tr>\n",
       "  </thead>\n",
       "  <tbody>\n",
       "    <tr>\n",
       "      <th>0</th>\n",
       "      <td>2007-02-07</td>\n",
       "      <td>2607</td>\n",
       "      <td>525000</td>\n",
       "      <td>house</td>\n",
       "      <td>4</td>\n",
       "    </tr>\n",
       "    <tr>\n",
       "      <th>1</th>\n",
       "      <td>2007-02-27</td>\n",
       "      <td>2906</td>\n",
       "      <td>290000</td>\n",
       "      <td>house</td>\n",
       "      <td>3</td>\n",
       "    </tr>\n",
       "    <tr>\n",
       "      <th>2</th>\n",
       "      <td>2007-03-07</td>\n",
       "      <td>2905</td>\n",
       "      <td>328000</td>\n",
       "      <td>house</td>\n",
       "      <td>3</td>\n",
       "    </tr>\n",
       "    <tr>\n",
       "      <th>3</th>\n",
       "      <td>2007-03-09</td>\n",
       "      <td>2905</td>\n",
       "      <td>380000</td>\n",
       "      <td>house</td>\n",
       "      <td>4</td>\n",
       "    </tr>\n",
       "    <tr>\n",
       "      <th>4</th>\n",
       "      <td>2007-03-21</td>\n",
       "      <td>2906</td>\n",
       "      <td>310000</td>\n",
       "      <td>house</td>\n",
       "      <td>3</td>\n",
       "    </tr>\n",
       "    <tr>\n",
       "      <th>...</th>\n",
       "      <td>...</td>\n",
       "      <td>...</td>\n",
       "      <td>...</td>\n",
       "      <td>...</td>\n",
       "      <td>...</td>\n",
       "    </tr>\n",
       "    <tr>\n",
       "      <th>29575</th>\n",
       "      <td>2019-07-25</td>\n",
       "      <td>2900</td>\n",
       "      <td>500000</td>\n",
       "      <td>unit</td>\n",
       "      <td>3</td>\n",
       "    </tr>\n",
       "    <tr>\n",
       "      <th>29576</th>\n",
       "      <td>2019-07-25</td>\n",
       "      <td>2612</td>\n",
       "      <td>560000</td>\n",
       "      <td>unit</td>\n",
       "      <td>2</td>\n",
       "    </tr>\n",
       "    <tr>\n",
       "      <th>29577</th>\n",
       "      <td>2019-07-26</td>\n",
       "      <td>2912</td>\n",
       "      <td>464950</td>\n",
       "      <td>unit</td>\n",
       "      <td>2</td>\n",
       "    </tr>\n",
       "    <tr>\n",
       "      <th>29578</th>\n",
       "      <td>2019-07-26</td>\n",
       "      <td>2601</td>\n",
       "      <td>589000</td>\n",
       "      <td>unit</td>\n",
       "      <td>2</td>\n",
       "    </tr>\n",
       "    <tr>\n",
       "      <th>29579</th>\n",
       "      <td>2019-07-26</td>\n",
       "      <td>2612</td>\n",
       "      <td>775000</td>\n",
       "      <td>unit</td>\n",
       "      <td>2</td>\n",
       "    </tr>\n",
       "  </tbody>\n",
       "</table>\n",
       "<p>29580 rows × 5 columns</p>\n",
       "</div>"
      ],
      "text/plain": [
       "        datesold  postcode   price propertyType  bedrooms\n",
       "0     2007-02-07      2607  525000        house         4\n",
       "1     2007-02-27      2906  290000        house         3\n",
       "2     2007-03-07      2905  328000        house         3\n",
       "3     2007-03-09      2905  380000        house         4\n",
       "4     2007-03-21      2906  310000        house         3\n",
       "...          ...       ...     ...          ...       ...\n",
       "29575 2019-07-25      2900  500000         unit         3\n",
       "29576 2019-07-25      2612  560000         unit         2\n",
       "29577 2019-07-26      2912  464950         unit         2\n",
       "29578 2019-07-26      2601  589000         unit         2\n",
       "29579 2019-07-26      2612  775000         unit         2\n",
       "\n",
       "[29580 rows x 5 columns]"
      ]
     },
     "execution_count": 6,
     "metadata": {},
     "output_type": "execute_result"
    }
   ],
   "source": [
    "sales = pd.read_csv('data/raw_sales.csv', parse_dates=['datesold'])\n",
    "sales"
   ]
  },
  {
   "cell_type": "code",
   "execution_count": 7,
   "id": "24ad42fa-b94d-464f-85ba-b26dedc2118e",
   "metadata": {},
   "outputs": [
    {
     "name": "stdout",
     "output_type": "stream",
     "text": [
      "<class 'pandas.core.frame.DataFrame'>\n",
      "RangeIndex: 29580 entries, 0 to 29579\n",
      "Data columns (total 5 columns):\n",
      " #   Column        Non-Null Count  Dtype         \n",
      "---  ------        --------------  -----         \n",
      " 0   datesold      29580 non-null  datetime64[ns]\n",
      " 1   postcode      29580 non-null  int64         \n",
      " 2   price         29580 non-null  int64         \n",
      " 3   propertyType  29580 non-null  object        \n",
      " 4   bedrooms      29580 non-null  int64         \n",
      "dtypes: datetime64[ns](1), int64(3), object(1)\n",
      "memory usage: 1.1+ MB\n"
     ]
    }
   ],
   "source": [
    "sales.info()"
   ]
  },
  {
   "cell_type": "code",
   "execution_count": 8,
   "id": "9e92a81b-b849-4990-87a6-802c7c23672e",
   "metadata": {},
   "outputs": [
    {
     "data": {
      "text/html": [
       "<div>\n",
       "<style scoped>\n",
       "    .dataframe tbody tr th:only-of-type {\n",
       "        vertical-align: middle;\n",
       "    }\n",
       "\n",
       "    .dataframe tbody tr th {\n",
       "        vertical-align: top;\n",
       "    }\n",
       "\n",
       "    .dataframe thead th {\n",
       "        text-align: right;\n",
       "    }\n",
       "</style>\n",
       "<table border=\"1\" class=\"dataframe\">\n",
       "  <thead>\n",
       "    <tr style=\"text-align: right;\">\n",
       "      <th></th>\n",
       "      <th>datesold</th>\n",
       "      <th>postcode</th>\n",
       "      <th>price</th>\n",
       "      <th>propertyType</th>\n",
       "      <th>bedrooms</th>\n",
       "      <th>year</th>\n",
       "    </tr>\n",
       "  </thead>\n",
       "  <tbody>\n",
       "    <tr>\n",
       "      <th>0</th>\n",
       "      <td>2007-02-07</td>\n",
       "      <td>2607</td>\n",
       "      <td>525000</td>\n",
       "      <td>house</td>\n",
       "      <td>4</td>\n",
       "      <td>2007</td>\n",
       "    </tr>\n",
       "  </tbody>\n",
       "</table>\n",
       "</div>"
      ],
      "text/plain": [
       "    datesold  postcode   price propertyType  bedrooms  year\n",
       "0 2007-02-07      2607  525000        house         4  2007"
      ]
     },
     "execution_count": 8,
     "metadata": {},
     "output_type": "execute_result"
    }
   ],
   "source": [
    "# 연도만 추출하여 새로운 열(year) 만들기\n",
    "sales['year'] = sales['datesold'].dt.year\n",
    "sales.head(1)"
   ]
  },
  {
   "cell_type": "code",
   "execution_count": 9,
   "id": "4c33c361-8182-443a-a610-e3bb892444b0",
   "metadata": {},
   "outputs": [
    {
     "data": {
      "text/plain": [
       "year\n",
       "2007    522377.2\n",
       "2008    493814.2\n",
       "2009    496092.0\n",
       "2010    559564.8\n",
       "2011    566715.1\n",
       "2012    552501.4\n",
       "2013    553416.3\n",
       "2014    592653.8\n",
       "2015    626101.3\n",
       "2016    635185.3\n",
       "2017    671880.6\n",
       "2018    660701.0\n",
       "2019    634184.2\n",
       "Name: price, dtype: float64"
      ]
     },
     "execution_count": 9,
     "metadata": {},
     "output_type": "execute_result"
    }
   ],
   "source": [
    "import numpy as np\n",
    "\n",
    "# round 메소드 :\n",
    "# groupby 메소드 : \n",
    "# agg 메소드 : \n",
    "result = np.round(sales.groupby('year')['price'].agg(\"mean\"), 1)\n",
    "result"
   ]
  },
  {
   "cell_type": "code",
   "execution_count": 11,
   "id": "1a63db5d-53e1-49bd-940d-dd9f05992b92",
   "metadata": {},
   "outputs": [
    {
     "data": {
      "image/png": "[encoded data removed]",
      "text/plain": [
       "<Figure size 600x300 with 1 Axes>"
      ]
     },
     "metadata": {},
     "output_type": "display_data"
    }
   ],
   "source": [
    "fig, ax = plt.subplots(figsize=(6, 3))\n",
    "plt.show()"
   ]
  },
  {
   "cell_type": "code",
   "execution_count": 19,
   "id": "630846b6-bdf3-4ed9-8d14-01d2074eb43d",
   "metadata": {},
   "outputs": [
    {
     "data": {
      "image/png": "[encoded data removed]",
      "text/plain": [
       "<Figure size 600x300 with 1 Axes>"
      ]
     },
     "metadata": {},
     "output_type": "display_data"
    }
   ],
   "source": [
    "# 시간의 변동에 따라서 추세를 확인\n",
    "# 선 그래프\n",
    "fig, ax = plt.subplots(figsize=(6, 3)) # 도화지 영역\n",
    "\n",
    "# x축 : result.index 값 y축 : result.values 값\n",
    "ax.plot(result.index, result.values) # 시각화 큰 틀 영역\n",
    "\n",
    "\n",
    "# 상단 제목 설정\n",
    "# size에 따라 글자의 크기가 달라진다\n",
    "# 한글 폰트의 경우 깨져서 나오므로 별도로 지정을 해야한다\n",
    "# 코드 순서 주의 !!\n",
    "\n",
    "# 세부 옵션\n",
    "ax.set_title('AVG, your title', size=12)\n",
    "ax.set_xlabel('Year', size=14)\n",
    "ax.set_ylabel('Price', size=14)\n",
    "\n",
    "# 그래프 파일 저장하기\n",
    "plt.savefig('output/matplotlib01.png')\n",
    "\n",
    "# 그래프 그리기\n",
    "plt.show()"
   ]
  },
  {
   "cell_type": "markdown",
   "id": "ae284a2a-d877-41ca-a7ea-617e4639b128",
   "metadata": {},
   "source": [
    "## 막대 그래프 "
   ]
  }
 ],
 "metadata": {
  "kernelspec": {
   "display_name": "Python 3 (ipykernel)",
   "language": "python",
   "name": "python3"
  },
  "language_info": {
   "codemirror_mode": {
    "name": "ipython",
    "version": 3
   },
   "file_extension": ".py",
   "mimetype": "text/x-python",
   "name": "python",
   "nbconvert_exporter": "python",
   "pygments_lexer": "ipython3",
   "version": "3.10.13"
  }
 },
 "nbformat": 4,
 "nbformat_minor": 5
}
