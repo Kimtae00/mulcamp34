{
 "cells": [
  {
   "cell_type": "code",
   "execution_count": 2,
   "id": "a8dc2d26-dc79-44ac-9823-50386bfdbc4b",
   "metadata": {},
   "outputs": [
    {
     "name": "stdout",
     "output_type": "stream",
     "text": [
      "['무증상', '속쓰림', '무증상', '무증상', '조금아픔', '무증상', '조금아픔', '무증상', '조금아픔', '무증상', '아픔', '무증상', '조금아픔', '무증상', '아픔', '무증상', '속쓰림', '무증상', '아픔', '무증상']\n"
     ]
    }
   ],
   "source": [
    "import pandas as pd \n",
    "\n",
    "df = pd.read_csv(\"data_6_3_1.csv\")\n",
    "print(df['항암제'].values.tolist())"
   ]
  },
  {
   "cell_type": "markdown",
   "id": "99bd8eb4-2e96-4525-ab54-6d65201bc46f",
   "metadata": {},
   "source": [
    "### 문제 1. 항암제 투여 환자들 중 '무증상' 비율을 0과 1사이로 구하시오. "
   ]
  },
  {
   "cell_type": "code",
   "execution_count": 3,
   "id": "c1b7a8d2-b6cf-493f-8ad2-448d70116abf",
   "metadata": {},
   "outputs": [
    {
     "data": {
      "text/plain": [
       "항암제\n",
       "무증상     0.55\n",
       "조금아픔    0.20\n",
       "아픔      0.15\n",
       "속쓰림     0.10\n",
       "Name: proportion, dtype: float64"
      ]
     },
     "execution_count": 3,
     "metadata": {},
     "output_type": "execute_result"
    }
   ],
   "source": [
    "df['항암제'].value_counts(normalize=True)"
   ]
  },
  {
   "cell_type": "code",
   "execution_count": 4,
   "id": "29bd637a-b9be-499a-b58e-f7b064dd2890",
   "metadata": {},
   "outputs": [
    {
     "name": "stdout",
     "output_type": "stream",
     "text": [
      "0.55\n"
     ]
    },
    {
     "name": "stderr",
     "output_type": "stream",
     "text": [
      "/var/folders/kt/9_rb87_95nl_6glc6tz14j9m0000gn/T/ipykernel_63302/1578051067.py:1: FutureWarning: Series.__getitem__ treating keys as positions is deprecated. In a future version, integer keys will always be treated as labels (consistent with DataFrame behavior). To access a value by position, use `ser.iloc[pos]`\n",
      "  result = df['항암제'].value_counts(normalize=True)[0]\n"
     ]
    }
   ],
   "source": [
    "result = df['항암제'].value_counts(normalize=True)[0]\n",
    "print(result)"
   ]
  },
  {
   "cell_type": "code",
   "execution_count": 5,
   "id": "f3503eac-5aac-405e-962e-61a0952feb41",
   "metadata": {},
   "outputs": [
    {
     "name": "stdout",
     "output_type": "stream",
     "text": [
      "0.55\n"
     ]
    }
   ],
   "source": [
    "cnt = df['항암제'] == '무증상'\n",
    "total = len(df['항암제'])\n",
    "result = sum(cnt) / total\n",
    "print(result)"
   ]
  },
  {
   "cell_type": "markdown",
   "id": "76d19331-ea8a-4ff8-88c3-b1cc44c51cb4",
   "metadata": {},
   "source": [
    "### 문제 2. 검정통계량\n",
    "- 감기약의 부작용 비율과 항암제의 관찰 값이 통계적으로 유의미하게 차이가 있는지 카이제곱 검정을 이용하여 검정통계량을 구하시오. (적합도 검정)\n",
    "- 가설검정\n",
    "    + 귀무가설 : 감기약의 부작용과 항암제의 부작용은 동일하다.\n",
    "    + 대립가설 : 감기약의 부작용과 항암제의 부작용은 다르다. "
   ]
  },
  {
   "cell_type": "code",
   "execution_count": 6,
   "id": "89ef5718-2ea5-43bb-a865-ed0b1bf54573",
   "metadata": {},
   "outputs": [
    {
     "data": {
      "text/plain": [
       "항암제\n",
       "무증상     11\n",
       "조금아픔     4\n",
       "아픔       3\n",
       "속쓰림      2\n",
       "Name: count, dtype: int64"
      ]
     },
     "execution_count": 6,
     "metadata": {},
     "output_type": "execute_result"
    }
   ],
   "source": [
    "df['항암제'].value_counts()"
   ]
  },
  {
   "cell_type": "code",
   "execution_count": 7,
   "id": "f966eae6-ded7-41ce-8760-e977e24a0989",
   "metadata": {},
   "outputs": [
    {
     "name": "stdout",
     "output_type": "stream",
     "text": [
      "[11, 4, 3, 2] [14.0, 2.0, 1.0, 3.0]\n"
     ]
    }
   ],
   "source": [
    "total = len(df['항암제'])\n",
    "ratios = [0.7, 0.1, 0.05, 0.15] # 무증상, 조금아픔, 아픔, 속쓰림\n",
    "val1 = df['항암제'].value_counts().to_list() # 무증상, 조금아픔, 아픔, 속쓰림\n",
    "val2 = [ratios[0] * total, ratios[1] * total, ratios[2] * total, ratios[3] * total]\n",
    "print(val1, val2) # 두 비율 비교"
   ]
  },
  {
   "cell_type": "code",
   "execution_count": 8,
   "id": "0a0be938-c2b0-438a-a608-3eff9c26d2df",
   "metadata": {},
   "outputs": [
    {
     "name": "stdout",
     "output_type": "stream",
     "text": [
      "6.976190476190475\n"
     ]
    }
   ],
   "source": [
    "import scipy.stats as stats\n",
    "statistic, pvalue = stats.chisquare(val1, val2)\n",
    "print(statistic)"
   ]
  },
  {
   "cell_type": "markdown",
   "id": "0c967bbb-1a0c-4e91-8efc-222c866b2bbb",
   "metadata": {},
   "source": [
    "### 문제 3. P-value 구하기\n",
    "- p-value 값 구하기"
   ]
  },
  {
   "cell_type": "code",
   "execution_count": 9,
   "id": "3089a364-b348-4469-80b1-1f7b576cbce1",
   "metadata": {},
   "outputs": [
    {
     "name": "stdout",
     "output_type": "stream",
     "text": [
      "0.07266054733847582\n"
     ]
    }
   ],
   "source": [
    "print(pvalue)"
   ]
  },
  {
   "cell_type": "markdown",
   "id": "f93fef7d-6ba4-4f6e-969f-80c33f528c1b",
   "metadata": {},
   "source": [
    "## 유형 2\n",
    "- 주어진 데이터를 이용하여 다중선형회귀 문제를 해결하시오. "
   ]
  },
  {
   "cell_type": "code",
   "execution_count": 11,
   "id": "16ad8175-119c-41fd-833b-d92d545be54a",
   "metadata": {},
   "outputs": [
    {
     "data": {
      "text/html": [
       "<div>\n",
       "<style scoped>\n",
       "    .dataframe tbody tr th:only-of-type {\n",
       "        vertical-align: middle;\n",
       "    }\n",
       "\n",
       "    .dataframe tbody tr th {\n",
       "        vertical-align: top;\n",
       "    }\n",
       "\n",
       "    .dataframe thead th {\n",
       "        text-align: right;\n",
       "    }\n",
       "</style>\n",
       "<table border=\"1\" class=\"dataframe\">\n",
       "  <thead>\n",
       "    <tr style=\"text-align: right;\">\n",
       "      <th></th>\n",
       "      <th>Ozone</th>\n",
       "      <th>Solar</th>\n",
       "      <th>Wind</th>\n",
       "      <th>Temp</th>\n",
       "      <th>Month</th>\n",
       "      <th>Day</th>\n",
       "    </tr>\n",
       "  </thead>\n",
       "  <tbody>\n",
       "    <tr>\n",
       "      <th>0</th>\n",
       "      <td>41.0</td>\n",
       "      <td>190.0</td>\n",
       "      <td>7.4</td>\n",
       "      <td>67</td>\n",
       "      <td>5</td>\n",
       "      <td>1</td>\n",
       "    </tr>\n",
       "    <tr>\n",
       "      <th>1</th>\n",
       "      <td>36.0</td>\n",
       "      <td>118.0</td>\n",
       "      <td>8.0</td>\n",
       "      <td>72</td>\n",
       "      <td>5</td>\n",
       "      <td>2</td>\n",
       "    </tr>\n",
       "    <tr>\n",
       "      <th>2</th>\n",
       "      <td>12.0</td>\n",
       "      <td>149.0</td>\n",
       "      <td>12.6</td>\n",
       "      <td>74</td>\n",
       "      <td>5</td>\n",
       "      <td>3</td>\n",
       "    </tr>\n",
       "    <tr>\n",
       "      <th>3</th>\n",
       "      <td>18.0</td>\n",
       "      <td>313.0</td>\n",
       "      <td>11.5</td>\n",
       "      <td>62</td>\n",
       "      <td>5</td>\n",
       "      <td>4</td>\n",
       "    </tr>\n",
       "    <tr>\n",
       "      <th>4</th>\n",
       "      <td>NaN</td>\n",
       "      <td>NaN</td>\n",
       "      <td>14.3</td>\n",
       "      <td>56</td>\n",
       "      <td>5</td>\n",
       "      <td>5</td>\n",
       "    </tr>\n",
       "  </tbody>\n",
       "</table>\n",
       "</div>"
      ],
      "text/plain": [
       "   Ozone  Solar  Wind  Temp  Month  Day\n",
       "0   41.0  190.0   7.4    67      5    1\n",
       "1   36.0  118.0   8.0    72      5    2\n",
       "2   12.0  149.0  12.6    74      5    3\n",
       "3   18.0  313.0  11.5    62      5    4\n",
       "4    NaN    NaN  14.3    56      5    5"
      ]
     },
     "execution_count": 11,
     "metadata": {},
     "output_type": "execute_result"
    }
   ],
   "source": [
    "import pandas as pd \n",
    "\n",
    "df = pd.read_csv(\"data_6_3_2.csv\")\n",
    "df.head()"
   ]
  },
  {
   "cell_type": "markdown",
   "id": "69c025ea-01fb-421b-a777-16ecf02fe63b",
   "metadata": {},
   "source": [
    "### 문제 1. \n",
    "- 선형회귀 모델을 만들어 독립변수 Ozone의 회귀계수(Regression coefficient)를 구하시오.\n",
    "    + 독립변수 : Solar(태양 에너지), Wind(바람의 세기), Ozone(오존 농도)\n",
    "    + 종속변수 : Temp(온도)"
   ]
  },
  {
   "cell_type": "code",
   "execution_count": 18,
   "id": "64563267-c6c9-4f1e-bbed-bcdd751db652",
   "metadata": {},
   "outputs": [
    {
     "name": "stdout",
     "output_type": "stream",
     "text": [
      "Intercept    72.418579\n",
      "Solar         0.007276\n",
      "Wind         -0.322945\n",
      "Ozone         0.171966\n",
      "dtype: float64\n",
      "---\n",
      "0.17196604197981563\n"
     ]
    }
   ],
   "source": [
    "from statsmodels.formula.api import ols\n",
    "\n",
    "formula = \"Temp ~ Solar + Wind + Ozone\"\n",
    "model = ols(formula, data=df).fit()\n",
    "print(model.params)\n",
    "print(\"---\")\n",
    "# 구하고자 하는 것이 오존의 회귀식\n",
    "result = model.params['Ozone']\n",
    "print(result)"
   ]
  },
  {
   "cell_type": "code",
   "execution_count": 19,
   "id": "10f2955e-25fd-48b6-951d-c9bb3dbedcd9",
   "metadata": {},
   "outputs": [
    {
     "name": "stdout",
     "output_type": "stream",
     "text": [
      "                            OLS Regression Results                            \n",
      "==============================================================================\n",
      "Dep. Variable:                   Temp   R-squared:                       0.500\n",
      "Model:                            OLS   Adj. R-squared:                  0.486\n",
      "Method:                 Least Squares   F-statistic:                     35.65\n",
      "Date:                Fri, 12 Jan 2024   Prob (F-statistic):           4.73e-16\n",
      "Time:                        15:11:24   Log-Likelihood:                -368.79\n",
      "No. Observations:                 111   AIC:                             745.6\n",
      "Df Residuals:                     107   BIC:                             756.4\n",
      "Df Model:                           3                                         \n",
      "Covariance Type:            nonrobust                                         \n",
      "==============================================================================\n",
      "                 coef    std err          t      P>|t|      [0.025      0.975]\n",
      "------------------------------------------------------------------------------\n",
      "Intercept     72.4186      3.216     22.522      0.000      66.044      78.793\n",
      "Solar          0.0073      0.008      0.948      0.345      -0.008       0.022\n",
      "Wind          -0.3229      0.233     -1.384      0.169      -0.785       0.139\n",
      "Ozone          0.1720      0.026      6.516      0.000       0.120       0.224\n",
      "==============================================================================\n",
      "Omnibus:                        6.409   Durbin-Watson:                   1.170\n",
      "Prob(Omnibus):                  0.041   Jarque-Bera (JB):                6.615\n",
      "Skew:                          -0.591   Prob(JB):                       0.0366\n",
      "Kurtosis:                       2.817   Cond. No.                     1.05e+03\n",
      "==============================================================================\n",
      "\n",
      "Notes:\n",
      "[1] Standard Errors assume that the covariance matrix of the errors is correctly specified.\n",
      "[2] The condition number is large, 1.05e+03. This might indicate that there are\n",
      "strong multicollinearity or other numerical problems.\n"
     ]
    }
   ],
   "source": [
    "# 모델의 요약정보 출력\n",
    "print(model.summary())"
   ]
  },
  {
   "cell_type": "markdown",
   "id": "cb7280be-b908-4eef-a1d6-ef3505412ec4",
   "metadata": {},
   "source": [
    "### 문제 2. \n",
    "- Solar와 Ozone은 고정, Wind가 증가함에 따라 Temp가 감소하는지 검증하기 위한 다중선형회귀 분석을 수행하여 Wind의 회귀계수에 대한 p-value를 구하시오. (유의수준 0.05)"
   ]
  },
  {
   "cell_type": "code",
   "execution_count": 15,
   "id": "e5f1d63f-1d76-4f62-a263-9d5bc9aac961",
   "metadata": {},
   "outputs": [
    {
     "name": "stdout",
     "output_type": "stream",
     "text": [
      "Intercept    2.107000e-42\n",
      "Solar        3.454492e-01\n",
      "Wind         1.690987e-01\n",
      "Ozone        2.423506e-09\n",
      "dtype: float64\n",
      "0.16909868598497724\n"
     ]
    }
   ],
   "source": [
    "print(model.pvalues)\n",
    "result = model.pvalues['Wind']\n",
    "print(result)"
   ]
  },
  {
   "cell_type": "markdown",
   "id": "90a13381-0b75-44f0-b6d8-c5d2961540ad",
   "metadata": {},
   "source": [
    "### 문제 3. \n",
    "- Solar가 150, Wind가 7.5, Ozone이 45일 경우, 예측 값과 그에 대한 95% 신뢰구간을 구하시오. "
   ]
  },
  {
   "cell_type": "code",
   "execution_count": 17,
   "id": "87a79a92-060b-42b5-835b-f7d311e54154",
   "metadata": {
    "scrolled": true
   },
   "outputs": [
    {
     "name": "stdout",
     "output_type": "stream",
     "text": [
      "        mean   mean_se  mean_ci_lower  mean_ci_upper  obs_ci_lower  \\\n",
      "0  78.826312  0.864464      77.112614      80.540011     65.171661   \n",
      "\n",
      "   obs_ci_upper  \n",
      "0     92.480964  \n"
     ]
    }
   ],
   "source": [
    "new_data = pd.DataFrame({'Ozone':[45], 'Solar':[150], 'Wind':[7.5]})\n",
    "\n",
    "prediction = model.get_prediction(new_data)\n",
    "# 95% 신뢰구간 구하기\n",
    "summary = prediction.summary_frame(alpha=0.05)\n",
    "print(summary)"
   ]
  },
  {
   "cell_type": "code",
   "execution_count": 65,
   "id": "a9dec263-2efd-4432-b3fa-2fda83365b56",
   "metadata": {},
   "outputs": [
    {
     "name": "stdout",
     "output_type": "stream",
     "text": [
      "   mean_ci_lower  mean_ci_upper\n",
      "0      77.112614      80.540011\n"
     ]
    }
   ],
   "source": [
    "print(summary[['mean_ci_lower', 'mean_ci_upper']])"
   ]
  },
  {
   "cell_type": "code",
   "execution_count": 32,
   "id": "d14ec95d-7a92-4b23-b65e-cac78a45d83d",
   "metadata": {},
   "outputs": [
    {
     "name": "stdout",
     "output_type": "stream",
     "text": [
      "Confidence Interval (95%): [77.11261368775156, 80.54001091680799]\n"
     ]
    }
   ],
   "source": [
    "lower_bound = prediction.conf_int()[0][0]\n",
    "upper_bound = prediction.conf_int()[0][1]\n",
    "\n",
    "print(f\"Confidence Interval (95%): [{lower_bound}, {upper_bound}]\")"
   ]
  },
  {
   "cell_type": "markdown",
   "id": "b06198f4-2c48-42cd-b884-c77fbb712f22",
   "metadata": {},
   "source": [
    "## tips 데이터 활용해서 회귀분석 진행\n",
    "- 종속변수 : tip\n",
    "- 독립변수 : 자유"
   ]
  },
  {
   "cell_type": "code",
   "execution_count": 22,
   "id": "059d3b55-40e1-4cd4-81f7-4f0d2a1ac5e3",
   "metadata": {},
   "outputs": [
    {
     "data": {
      "text/html": [
       "<div>\n",
       "<style scoped>\n",
       "    .dataframe tbody tr th:only-of-type {\n",
       "        vertical-align: middle;\n",
       "    }\n",
       "\n",
       "    .dataframe tbody tr th {\n",
       "        vertical-align: top;\n",
       "    }\n",
       "\n",
       "    .dataframe thead th {\n",
       "        text-align: right;\n",
       "    }\n",
       "</style>\n",
       "<table border=\"1\" class=\"dataframe\">\n",
       "  <thead>\n",
       "    <tr style=\"text-align: right;\">\n",
       "      <th></th>\n",
       "      <th>total_bill</th>\n",
       "      <th>tip</th>\n",
       "      <th>sex</th>\n",
       "      <th>smoker</th>\n",
       "      <th>day</th>\n",
       "      <th>time</th>\n",
       "      <th>size</th>\n",
       "    </tr>\n",
       "  </thead>\n",
       "  <tbody>\n",
       "    <tr>\n",
       "      <th>0</th>\n",
       "      <td>16.99</td>\n",
       "      <td>1.01</td>\n",
       "      <td>Female</td>\n",
       "      <td>No</td>\n",
       "      <td>Sun</td>\n",
       "      <td>Dinner</td>\n",
       "      <td>2</td>\n",
       "    </tr>\n",
       "    <tr>\n",
       "      <th>1</th>\n",
       "      <td>10.34</td>\n",
       "      <td>1.66</td>\n",
       "      <td>Male</td>\n",
       "      <td>No</td>\n",
       "      <td>Sun</td>\n",
       "      <td>Dinner</td>\n",
       "      <td>3</td>\n",
       "    </tr>\n",
       "    <tr>\n",
       "      <th>2</th>\n",
       "      <td>21.01</td>\n",
       "      <td>3.50</td>\n",
       "      <td>Male</td>\n",
       "      <td>No</td>\n",
       "      <td>Sun</td>\n",
       "      <td>Dinner</td>\n",
       "      <td>3</td>\n",
       "    </tr>\n",
       "    <tr>\n",
       "      <th>3</th>\n",
       "      <td>23.68</td>\n",
       "      <td>3.31</td>\n",
       "      <td>Male</td>\n",
       "      <td>No</td>\n",
       "      <td>Sun</td>\n",
       "      <td>Dinner</td>\n",
       "      <td>2</td>\n",
       "    </tr>\n",
       "    <tr>\n",
       "      <th>4</th>\n",
       "      <td>24.59</td>\n",
       "      <td>3.61</td>\n",
       "      <td>Female</td>\n",
       "      <td>No</td>\n",
       "      <td>Sun</td>\n",
       "      <td>Dinner</td>\n",
       "      <td>4</td>\n",
       "    </tr>\n",
       "    <tr>\n",
       "      <th>...</th>\n",
       "      <td>...</td>\n",
       "      <td>...</td>\n",
       "      <td>...</td>\n",
       "      <td>...</td>\n",
       "      <td>...</td>\n",
       "      <td>...</td>\n",
       "      <td>...</td>\n",
       "    </tr>\n",
       "    <tr>\n",
       "      <th>239</th>\n",
       "      <td>29.03</td>\n",
       "      <td>5.92</td>\n",
       "      <td>Male</td>\n",
       "      <td>No</td>\n",
       "      <td>Sat</td>\n",
       "      <td>Dinner</td>\n",
       "      <td>3</td>\n",
       "    </tr>\n",
       "    <tr>\n",
       "      <th>240</th>\n",
       "      <td>27.18</td>\n",
       "      <td>2.00</td>\n",
       "      <td>Female</td>\n",
       "      <td>Yes</td>\n",
       "      <td>Sat</td>\n",
       "      <td>Dinner</td>\n",
       "      <td>2</td>\n",
       "    </tr>\n",
       "    <tr>\n",
       "      <th>241</th>\n",
       "      <td>22.67</td>\n",
       "      <td>2.00</td>\n",
       "      <td>Male</td>\n",
       "      <td>Yes</td>\n",
       "      <td>Sat</td>\n",
       "      <td>Dinner</td>\n",
       "      <td>2</td>\n",
       "    </tr>\n",
       "    <tr>\n",
       "      <th>242</th>\n",
       "      <td>17.82</td>\n",
       "      <td>1.75</td>\n",
       "      <td>Male</td>\n",
       "      <td>No</td>\n",
       "      <td>Sat</td>\n",
       "      <td>Dinner</td>\n",
       "      <td>2</td>\n",
       "    </tr>\n",
       "    <tr>\n",
       "      <th>243</th>\n",
       "      <td>18.78</td>\n",
       "      <td>3.00</td>\n",
       "      <td>Female</td>\n",
       "      <td>No</td>\n",
       "      <td>Thur</td>\n",
       "      <td>Dinner</td>\n",
       "      <td>2</td>\n",
       "    </tr>\n",
       "  </tbody>\n",
       "</table>\n",
       "<p>244 rows × 7 columns</p>\n",
       "</div>"
      ],
      "text/plain": [
       "     total_bill   tip     sex smoker   day    time  size\n",
       "0         16.99  1.01  Female     No   Sun  Dinner     2\n",
       "1         10.34  1.66    Male     No   Sun  Dinner     3\n",
       "2         21.01  3.50    Male     No   Sun  Dinner     3\n",
       "3         23.68  3.31    Male     No   Sun  Dinner     2\n",
       "4         24.59  3.61  Female     No   Sun  Dinner     4\n",
       "..          ...   ...     ...    ...   ...     ...   ...\n",
       "239       29.03  5.92    Male     No   Sat  Dinner     3\n",
       "240       27.18  2.00  Female    Yes   Sat  Dinner     2\n",
       "241       22.67  2.00    Male    Yes   Sat  Dinner     2\n",
       "242       17.82  1.75    Male     No   Sat  Dinner     2\n",
       "243       18.78  3.00  Female     No  Thur  Dinner     2\n",
       "\n",
       "[244 rows x 7 columns]"
      ]
     },
     "execution_count": 22,
     "metadata": {},
     "output_type": "execute_result"
    }
   ],
   "source": [
    "import seaborn as sns\n",
    "tips = sns.load_dataset('tips')\n",
    "tips"
   ]
  },
  {
   "cell_type": "markdown",
   "id": "4f5a45d0-1221-41e2-ad00-88c4b75f1515",
   "metadata": {},
   "source": [
    "### 문제 1.¶\n",
    "- 선형회귀 모델을 만들어 독립변수 total_bill의 회귀계수(Regression coefficient)를 구하시오.\n",
    "  + 독립변수 : total_bill, sex, day\n",
    "  + 종속변수 : tip"
   ]
  },
  {
   "cell_type": "code",
   "execution_count": 35,
   "id": "9d8dcab4-c0c4-40e8-af3b-47c81137f30e",
   "metadata": {},
   "outputs": [
    {
     "name": "stdout",
     "output_type": "stream",
     "text": [
      "Intercept        0.896801\n",
      "sex[T.Female]    0.038442\n",
      "day[T.Fri]       0.020633\n",
      "day[T.Sat]      -0.060243\n",
      "day[T.Sun]       0.103450\n",
      "total_bill       0.104894\n",
      "dtype: float64\n",
      "---\n",
      "0.10489376866174313\n"
     ]
    }
   ],
   "source": [
    "from statsmodels.formula.api import ols\n",
    "\n",
    "formula = \"tip ~ total_bill + sex + day\"\n",
    "model = ols(formula, data=tips).fit()\n",
    "print(model.params)\n",
    "print(\"---\")\n",
    "# 구하고자 하는 것이 total_bill의 회귀식\n",
    "result = model.params['total_bill']\n",
    "print(result)"
   ]
  },
  {
   "cell_type": "markdown",
   "id": "24dca28d-4e1e-4785-96b6-4ffcb7ac0485",
   "metadata": {},
   "source": [
    "### 문제 1.¶\n",
    "- 선형회귀 모델을 만들어 독립변수 day의 회귀계수(Regression coefficient)를 구하시오.\n",
    "  + 독립변수 : total_bill, sex, day\n",
    "  + 종속변수 : tip"
   ]
  },
  {
   "cell_type": "code",
   "execution_count": 36,
   "id": "1c2a717e-f6b3-483c-8211-02cdff8f263a",
   "metadata": {},
   "outputs": [
    {
     "name": "stdout",
     "output_type": "stream",
     "text": [
      "Intercept        0.896801\n",
      "sex[T.Female]    0.038442\n",
      "day[T.Fri]       0.020633\n",
      "day[T.Sat]      -0.060243\n",
      "day[T.Sun]       0.103450\n",
      "total_bill       0.104894\n",
      "dtype: float64\n",
      "---\n"
     ]
    },
    {
     "ename": "KeyError",
     "evalue": "'day'",
     "output_type": "error",
     "traceback": [
      "\u001b[0;31m---------------------------------------------------------------------------\u001b[0m",
      "\u001b[0;31mKeyError\u001b[0m                                  Traceback (most recent call last)",
      "File \u001b[0;32m~/anaconda3/envs/mulcamp34/lib/python3.10/site-packages/pandas/core/indexes/base.py:3791\u001b[0m, in \u001b[0;36mIndex.get_loc\u001b[0;34m(self, key)\u001b[0m\n\u001b[1;32m   3790\u001b[0m \u001b[38;5;28;01mtry\u001b[39;00m:\n\u001b[0;32m-> 3791\u001b[0m     \u001b[38;5;28;01mreturn\u001b[39;00m \u001b[38;5;28;43mself\u001b[39;49m\u001b[38;5;241;43m.\u001b[39;49m\u001b[43m_engine\u001b[49m\u001b[38;5;241;43m.\u001b[39;49m\u001b[43mget_loc\u001b[49m\u001b[43m(\u001b[49m\u001b[43mcasted_key\u001b[49m\u001b[43m)\u001b[49m\n\u001b[1;32m   3792\u001b[0m \u001b[38;5;28;01mexcept\u001b[39;00m \u001b[38;5;167;01mKeyError\u001b[39;00m \u001b[38;5;28;01mas\u001b[39;00m err:\n",
      "File \u001b[0;32mindex.pyx:152\u001b[0m, in \u001b[0;36mpandas._libs.index.IndexEngine.get_loc\u001b[0;34m()\u001b[0m\n",
      "File \u001b[0;32mindex.pyx:181\u001b[0m, in \u001b[0;36mpandas._libs.index.IndexEngine.get_loc\u001b[0;34m()\u001b[0m\n",
      "File \u001b[0;32mpandas/_libs/hashtable_class_helper.pxi:7080\u001b[0m, in \u001b[0;36mpandas._libs.hashtable.PyObjectHashTable.get_item\u001b[0;34m()\u001b[0m\n",
      "File \u001b[0;32mpandas/_libs/hashtable_class_helper.pxi:7088\u001b[0m, in \u001b[0;36mpandas._libs.hashtable.PyObjectHashTable.get_item\u001b[0;34m()\u001b[0m\n",
      "\u001b[0;31mKeyError\u001b[0m: 'day'",
      "\nThe above exception was the direct cause of the following exception:\n",
      "\u001b[0;31mKeyError\u001b[0m                                  Traceback (most recent call last)",
      "Cell \u001b[0;32mIn[36], line 8\u001b[0m\n\u001b[1;32m      6\u001b[0m \u001b[38;5;28mprint\u001b[39m(\u001b[38;5;124m\"\u001b[39m\u001b[38;5;124m---\u001b[39m\u001b[38;5;124m\"\u001b[39m)\n\u001b[1;32m      7\u001b[0m \u001b[38;5;66;03m# 구하고자 하는 것이 day의 회귀식\u001b[39;00m\n\u001b[0;32m----> 8\u001b[0m result \u001b[38;5;241m=\u001b[39m \u001b[43mmodel\u001b[49m\u001b[38;5;241;43m.\u001b[39;49m\u001b[43mparams\u001b[49m\u001b[43m[\u001b[49m\u001b[38;5;124;43m'\u001b[39;49m\u001b[38;5;124;43mday\u001b[39;49m\u001b[38;5;124;43m'\u001b[39;49m\u001b[43m]\u001b[49m\n\u001b[1;32m      9\u001b[0m \u001b[38;5;28mprint\u001b[39m(result)\n",
      "File \u001b[0;32m~/anaconda3/envs/mulcamp34/lib/python3.10/site-packages/pandas/core/series.py:1040\u001b[0m, in \u001b[0;36mSeries.__getitem__\u001b[0;34m(self, key)\u001b[0m\n\u001b[1;32m   1037\u001b[0m     \u001b[38;5;28;01mreturn\u001b[39;00m \u001b[38;5;28mself\u001b[39m\u001b[38;5;241m.\u001b[39m_values[key]\n\u001b[1;32m   1039\u001b[0m \u001b[38;5;28;01melif\u001b[39;00m key_is_scalar:\n\u001b[0;32m-> 1040\u001b[0m     \u001b[38;5;28;01mreturn\u001b[39;00m \u001b[38;5;28;43mself\u001b[39;49m\u001b[38;5;241;43m.\u001b[39;49m\u001b[43m_get_value\u001b[49m\u001b[43m(\u001b[49m\u001b[43mkey\u001b[49m\u001b[43m)\u001b[49m\n\u001b[1;32m   1042\u001b[0m \u001b[38;5;66;03m# Convert generator to list before going through hashable part\u001b[39;00m\n\u001b[1;32m   1043\u001b[0m \u001b[38;5;66;03m# (We will iterate through the generator there to check for slices)\u001b[39;00m\n\u001b[1;32m   1044\u001b[0m \u001b[38;5;28;01mif\u001b[39;00m is_iterator(key):\n",
      "File \u001b[0;32m~/anaconda3/envs/mulcamp34/lib/python3.10/site-packages/pandas/core/series.py:1156\u001b[0m, in \u001b[0;36mSeries._get_value\u001b[0;34m(self, label, takeable)\u001b[0m\n\u001b[1;32m   1153\u001b[0m     \u001b[38;5;28;01mreturn\u001b[39;00m \u001b[38;5;28mself\u001b[39m\u001b[38;5;241m.\u001b[39m_values[label]\n\u001b[1;32m   1155\u001b[0m \u001b[38;5;66;03m# Similar to Index.get_value, but we do not fall back to positional\u001b[39;00m\n\u001b[0;32m-> 1156\u001b[0m loc \u001b[38;5;241m=\u001b[39m \u001b[38;5;28;43mself\u001b[39;49m\u001b[38;5;241;43m.\u001b[39;49m\u001b[43mindex\u001b[49m\u001b[38;5;241;43m.\u001b[39;49m\u001b[43mget_loc\u001b[49m\u001b[43m(\u001b[49m\u001b[43mlabel\u001b[49m\u001b[43m)\u001b[49m\n\u001b[1;32m   1158\u001b[0m \u001b[38;5;28;01mif\u001b[39;00m is_integer(loc):\n\u001b[1;32m   1159\u001b[0m     \u001b[38;5;28;01mreturn\u001b[39;00m \u001b[38;5;28mself\u001b[39m\u001b[38;5;241m.\u001b[39m_values[loc]\n",
      "File \u001b[0;32m~/anaconda3/envs/mulcamp34/lib/python3.10/site-packages/pandas/core/indexes/base.py:3798\u001b[0m, in \u001b[0;36mIndex.get_loc\u001b[0;34m(self, key)\u001b[0m\n\u001b[1;32m   3793\u001b[0m     \u001b[38;5;28;01mif\u001b[39;00m \u001b[38;5;28misinstance\u001b[39m(casted_key, \u001b[38;5;28mslice\u001b[39m) \u001b[38;5;129;01mor\u001b[39;00m (\n\u001b[1;32m   3794\u001b[0m         \u001b[38;5;28misinstance\u001b[39m(casted_key, abc\u001b[38;5;241m.\u001b[39mIterable)\n\u001b[1;32m   3795\u001b[0m         \u001b[38;5;129;01mand\u001b[39;00m \u001b[38;5;28many\u001b[39m(\u001b[38;5;28misinstance\u001b[39m(x, \u001b[38;5;28mslice\u001b[39m) \u001b[38;5;28;01mfor\u001b[39;00m x \u001b[38;5;129;01min\u001b[39;00m casted_key)\n\u001b[1;32m   3796\u001b[0m     ):\n\u001b[1;32m   3797\u001b[0m         \u001b[38;5;28;01mraise\u001b[39;00m InvalidIndexError(key)\n\u001b[0;32m-> 3798\u001b[0m     \u001b[38;5;28;01mraise\u001b[39;00m \u001b[38;5;167;01mKeyError\u001b[39;00m(key) \u001b[38;5;28;01mfrom\u001b[39;00m \u001b[38;5;21;01merr\u001b[39;00m\n\u001b[1;32m   3799\u001b[0m \u001b[38;5;28;01mexcept\u001b[39;00m \u001b[38;5;167;01mTypeError\u001b[39;00m:\n\u001b[1;32m   3800\u001b[0m     \u001b[38;5;66;03m# If we have a listlike key, _check_indexing_error will raise\u001b[39;00m\n\u001b[1;32m   3801\u001b[0m     \u001b[38;5;66;03m#  InvalidIndexError. Otherwise we fall through and re-raise\u001b[39;00m\n\u001b[1;32m   3802\u001b[0m     \u001b[38;5;66;03m#  the TypeError.\u001b[39;00m\n\u001b[1;32m   3803\u001b[0m     \u001b[38;5;28mself\u001b[39m\u001b[38;5;241m.\u001b[39m_check_indexing_error(key)\n",
      "\u001b[0;31mKeyError\u001b[0m: 'day'"
     ]
    }
   ],
   "source": [
    "from statsmodels.formula.api import ols\n",
    "\n",
    "formula = \"tip ~ total_bill + sex + day\"\n",
    "model = ols(formula, data=tips).fit()\n",
    "print(model.params)\n",
    "print(\"---\")\n",
    "# 구하고자 하는 것이 day의 회귀식\n",
    "result = model.params['day']\n",
    "print(result)"
   ]
  },
  {
   "cell_type": "markdown",
   "id": "a9b950dc-59a6-4e51-bd47-9c172bfae5b7",
   "metadata": {},
   "source": [
    "### 문제 2. \n",
    "- sex와 day는 고정, total_bil이 증가함에 따라 tip이 감소하는지 검증하기 위한 다중선형회귀 분석을 수행하여 total_bil의 회귀계수에 대한 p-value를 구하시오. (유의수준 0.05)"
   ]
  },
  {
   "cell_type": "code",
   "execution_count": 31,
   "id": "92ecefaa-c98e-4863-a3fd-801488d7b606",
   "metadata": {},
   "outputs": [
    {
     "name": "stdout",
     "output_type": "stream",
     "text": [
      "Intercept        2.031670e-05\n",
      "sex[T.Female]    7.870593e-01\n",
      "day[T.Fri]       9.390954e-01\n",
      "day[T.Sat]       7.295158e-01\n",
      "day[T.Sun]       5.701589e-01\n",
      "total_bill       2.417821e-32\n",
      "dtype: float64\n",
      "2.4178208790145567e-32\n"
     ]
    }
   ],
   "source": [
    "print(model.pvalues)\n",
    "result = model.pvalues['total_bill']\n",
    "print(result)"
   ]
  },
  {
   "cell_type": "markdown",
   "id": "70fe893a-a214-4627-bcfa-724e737d0f20",
   "metadata": {},
   "source": [
    "### 문제 3. \n",
    "- Solar가 150, Wind가 7.5, Ozone이 45일 경우, 예측 값과 그에 대한 95% 신뢰구간을 구하시오. "
   ]
  },
  {
   "cell_type": "code",
   "execution_count": null,
   "id": "f259866d-7ba4-4fc1-bb1c-b93ebcbfb0ec",
   "metadata": {},
   "outputs": [],
   "source": []
  }
 ],
 "metadata": {
  "kernelspec": {
   "display_name": "Python 3 (ipykernel)",
   "language": "python",
   "name": "python3"
  },
  "language_info": {
   "codemirror_mode": {
    "name": "ipython",
    "version": 3
   },
   "file_extension": ".py",
   "mimetype": "text/x-python",
   "name": "python",
   "nbconvert_exporter": "python",
   "pygments_lexer": "ipython3",
   "version": "3.10.13"
  }
 },
 "nbformat": 4,
 "nbformat_minor": 5
}
