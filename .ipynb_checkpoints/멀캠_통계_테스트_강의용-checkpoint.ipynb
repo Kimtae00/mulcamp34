{
 "cells": [
  {
   "cell_type": "markdown",
   "id": "f043125c-a740-4f30-bd0f-3ed0577bc672",
   "metadata": {},
   "source": [
    "## 정규성 검정\n",
    "- 시나리오: 어느 회사의 직원들의 월급 데이터가 있다. 이 데이터가 정규 분포를 따르는지 확인하고 싶다. 주어진 월급 데이터를 사용하여 정규성 검정을 수행하고 결과를 해석하기\n",
    "- 가설설정\n",
    "  + 귀무가설 :\n",
    "  + 대립가설 : \n",
    "- 코드 작성 후 p-value 값을 구하시고 정규성 여부를 조건문으로 구하세요\n",
    "  + 귀무가설, 대립가설, 정규성 만족 유무 print() 만들기 (형식 자유)\n",
    "  + 예) print(\"abc 만족합니다!\") "
   ]
  },
  {
   "cell_type": "code",
   "execution_count": 27,
   "id": "1dab0f84-0704-4f49-83b2-c51502bc941a",
   "metadata": {},
   "outputs": [],
   "source": [
    "salaries = [3500, 4000, 4000, 4500, 5000, 5000, 5500, 6000, 6500, 7000]"
   ]
  },
  {
   "cell_type": "code",
   "execution_count": 28,
   "id": "54505c71-4172-4613-81f1-e35167ba7b9e",
   "metadata": {},
   "outputs": [
    {
     "name": "stdout",
     "output_type": "stream",
     "text": [
      "귀무가설 : 데이터는 정규성을 만족합니다!\n"
     ]
    }
   ],
   "source": [
    "from scipy import stats\n",
    "\n",
    "t_statistic, p_value = stats.shapiro(salaries)\n",
    "t_statistic, p_value\n",
    "\n",
    "if p_value >= 0.05:\n",
    "    print(\"귀무가설 : 데이터는 정규성을 만족합니다!\")\n",
    "else:\n",
    "    print(\"대립가설 : 데이터는 정규성을 만족하지 않습니다!\")"
   ]
  },
  {
   "cell_type": "markdown",
   "id": "752fb41d-260c-483d-9b19-a43ba20d8391",
   "metadata": {},
   "source": [
    "## 단일 표본 T 검정\n",
    "- 주어진 데이터(data/trees.csv)에는 블랙 체리나무 31그루의 둘레와 높이, 부피가 저장되어 있다. 이 표본의 평균(Height)이 모평균과 일치하는지 단일표본 t-검정(One Sample t-test)을 통해 답하고자 한다. 가설은 아래와 같다.\n",
    "- 가설검정\n",
    "    + 귀무가설 : 평균은 75이다.\n",
    "    + 대립가설 : 평균은 75가 아니다.\n",
    "- 데이터의 변수\n",
    "    + Girth : 둘레\n",
    "    + Height : 높이\n",
    "    + Volume : 부피\n",
    "- 단, 데이터의 각 변수들은 정규 분포를 만족한다고 가정한다.\n",
    "- 문제 1 : 표본평균 X를 구하시오. (반올림하여 소숫점 둘째 자리까지 계산)\n",
    "- 문제 2 : 위의 가설을 검정하기 위한 검정통계량을 구하시오. (반올림하여 소숫점 둘째 자리까지 계산)\n",
    "- 문제 3 : 위의 통계량에 대한 p-값을 구하고(반올림하여 소숫점 넷째 자리까지 계산), 유의수준 0.05하에서 가설검정의 결과를 채택/기각 중 하나로 선택하시오.\n",
    "  + p-value에 값에 따른 결괏값을 조건문(if-else)으로 구하세요. "
   ]
  },
  {
   "cell_type": "markdown",
   "id": "9a48af9d-d1c2-4776-8a29-7e670ef1c56e",
   "metadata": {},
   "source": [
    "### 데이터 불러오기"
   ]
  },
  {
   "cell_type": "code",
   "execution_count": 29,
   "id": "fc9e11b3-2daa-460e-86c9-c66ec9f7a180",
   "metadata": {},
   "outputs": [
    {
     "data": {
      "text/html": [
       "<div>\n",
       "<style scoped>\n",
       "    .dataframe tbody tr th:only-of-type {\n",
       "        vertical-align: middle;\n",
       "    }\n",
       "\n",
       "    .dataframe tbody tr th {\n",
       "        vertical-align: top;\n",
       "    }\n",
       "\n",
       "    .dataframe thead th {\n",
       "        text-align: right;\n",
       "    }\n",
       "</style>\n",
       "<table border=\"1\" class=\"dataframe\">\n",
       "  <thead>\n",
       "    <tr style=\"text-align: right;\">\n",
       "      <th></th>\n",
       "      <th>Girth</th>\n",
       "      <th>Height</th>\n",
       "      <th>Volume</th>\n",
       "    </tr>\n",
       "  </thead>\n",
       "  <tbody>\n",
       "    <tr>\n",
       "      <th>0</th>\n",
       "      <td>8.3</td>\n",
       "      <td>70</td>\n",
       "      <td>10.3</td>\n",
       "    </tr>\n",
       "    <tr>\n",
       "      <th>1</th>\n",
       "      <td>8.6</td>\n",
       "      <td>65</td>\n",
       "      <td>10.3</td>\n",
       "    </tr>\n",
       "    <tr>\n",
       "      <th>2</th>\n",
       "      <td>8.8</td>\n",
       "      <td>63</td>\n",
       "      <td>10.2</td>\n",
       "    </tr>\n",
       "    <tr>\n",
       "      <th>3</th>\n",
       "      <td>10.5</td>\n",
       "      <td>72</td>\n",
       "      <td>16.4</td>\n",
       "    </tr>\n",
       "    <tr>\n",
       "      <th>4</th>\n",
       "      <td>10.7</td>\n",
       "      <td>81</td>\n",
       "      <td>18.8</td>\n",
       "    </tr>\n",
       "  </tbody>\n",
       "</table>\n",
       "</div>"
      ],
      "text/plain": [
       "   Girth  Height  Volume\n",
       "0    8.3      70    10.3\n",
       "1    8.6      65    10.3\n",
       "2    8.8      63    10.2\n",
       "3   10.5      72    16.4\n",
       "4   10.7      81    18.8"
      ]
     },
     "execution_count": 29,
     "metadata": {},
     "output_type": "execute_result"
    }
   ],
   "source": [
    "import pandas as pd \n",
    "df = pd.read_csv(\"./data/trees.csv\")\n",
    "df.head()"
   ]
  },
  {
   "cell_type": "markdown",
   "id": "3175917c-d98d-473c-b37d-269683504a06",
   "metadata": {},
   "source": [
    "### 문제 1\n",
    "- 표본평균 Height X를 구하시오. (반올림하여 소숫점 둘째 자리까지 계산)"
   ]
  },
  {
   "cell_type": "code",
   "execution_count": 30,
   "id": "9b9e0078-e4b1-46fb-bf81-e3aba01e7e65",
   "metadata": {},
   "outputs": [
    {
     "data": {
      "text/plain": [
       "76.0"
      ]
     },
     "execution_count": 30,
     "metadata": {},
     "output_type": "execute_result"
    }
   ],
   "source": [
    "# 코드\n",
    "result = df['Height'].mean()\n",
    "round(result, 2)"
   ]
  },
  {
   "cell_type": "markdown",
   "id": "27f4769d-6e15-4058-8e04-b28425279904",
   "metadata": {},
   "source": [
    "### 문제 2 \n",
    "- 위의 가설을 검정하기 위한 검정통계량을 구하시오. (반올림하여 소숫점 둘째 자리까지 계산)"
   ]
  },
  {
   "cell_type": "code",
   "execution_count": 31,
   "id": "37847742-c6c0-4f2b-a4d6-ce538929f1ad",
   "metadata": {},
   "outputs": [
    {
     "name": "stdout",
     "output_type": "stream",
     "text": [
      "0.87 0.39\n"
     ]
    }
   ],
   "source": [
    "# 코드\n",
    "from scipy import stats\n",
    "from math import sqrt\n",
    "\n",
    "t_score, p_value = stats.ttest_1samp(df['Height'], popmean=75)\n",
    "print(round(t_score, 2), round(p_value, 2))"
   ]
  },
  {
   "cell_type": "markdown",
   "id": "82905aff-a0ef-4632-bd23-efd7f8ee4696",
   "metadata": {},
   "source": [
    "### 문제 3\n",
    "- 위의 통계량에 대한 p-값을 구하고(반올림하여 소숫점 넷째 자리까지 계산), 유의수준 0.05하에서 가설검정의 결과를 채택/기각 중 하나로 선택하시오."
   ]
  },
  {
   "cell_type": "code",
   "execution_count": 32,
   "id": "858363c4-d39f-4051-9d9b-aff7c0550a6f",
   "metadata": {},
   "outputs": [
    {
     "name": "stdout",
     "output_type": "stream",
     "text": [
      "0.3892\n",
      "채택\n"
     ]
    }
   ],
   "source": [
    "# 코드\n",
    "print(round(p_value, 4))\n",
    "if p_value >= 0.05:\n",
    "    print(\"채택\")\n",
    "else:\n",
    "    print(\"기각\")"
   ]
  },
  {
   "cell_type": "markdown",
   "id": "4155dae8-c8ef-4c41-b8fc-7c9b0853fe3e",
   "metadata": {},
   "source": [
    "## 대응표본 T 검정\n",
    "- 주어진 데이터(data/insectsprays.csv)에는 여러 지역에서 스프레이를 뿌리기 전에 측정한 곤충의 수와 스프레이를 뿌린 다음의 곤충의 수가 저장되어 있다. 해당 스프레이가 구제 효과가 있는지(즉, 스프레이를 뿌린 뒤 곤충의 수가 감소했는지) 쌍체표본 t-검정(Paired t-test)을 통해 답하고자 한다. \n",
    "- 가설검정 ($\\overline{\\mu_{d}}$: 살충체를 뿌린 후의 곤충 수 - 살충제를 뿌리기 전의 곤충 수)의 평균\n",
    "    + 귀무가설 : $\\overline{\\mu_{d}}$은 0이다. \n",
    "    + 대립가설 : $\\overline{\\mu_{d}}$은 0이 아니다.\n",
    "- 데이터의 변수\n",
    "    + before_spr : 살충제 뿌리기 전 곤충의 수\n",
    "    + after_spr : 살충제 뿌린 뒤 곤충의 수\n",
    "- 단, $\\overline{\\mu_{d}}$는 정규분포를 만족한다. \n",
    "- 문제 1: 표본평균 $\\overline{\\mu_{d}}$의 표본 평균을 구하시오. (반올림하여 소숫점 둘째 자리까지 계산)\n",
    "- 문제 2: 위의 가설을 검정하기 위한 검정통계량을 구하시오. (반올림하여 소숫점 둘째 자리까지 계산)\n",
    "- 문제 3: 위의 통계량에 대한 p-값을 구하고 (반올림하여 소숫점 넷째 자리까지 계산), 유의수준 0.05하에서 가설검정의 결과를 채택/기각 중 하나로 선택하시오.\n",
    "  + p-value에 값에 따른 결괏값을 조건문(if-else)으로 구하세요. "
   ]
  },
  {
   "cell_type": "markdown",
   "id": "4128fdbb-c429-449e-a30d-6ef01e8a047c",
   "metadata": {},
   "source": [
    "### 데이터 불러오기"
   ]
  },
  {
   "cell_type": "code",
   "execution_count": 33,
   "id": "ccc6794b-ce1f-4a58-adb0-071f355b8e0c",
   "metadata": {},
   "outputs": [
    {
     "data": {
      "text/html": [
       "<div>\n",
       "<style scoped>\n",
       "    .dataframe tbody tr th:only-of-type {\n",
       "        vertical-align: middle;\n",
       "    }\n",
       "\n",
       "    .dataframe tbody tr th {\n",
       "        vertical-align: top;\n",
       "    }\n",
       "\n",
       "    .dataframe thead th {\n",
       "        text-align: right;\n",
       "    }\n",
       "</style>\n",
       "<table border=\"1\" class=\"dataframe\">\n",
       "  <thead>\n",
       "    <tr style=\"text-align: right;\">\n",
       "      <th></th>\n",
       "      <th>before_spr</th>\n",
       "      <th>after_spr</th>\n",
       "    </tr>\n",
       "  </thead>\n",
       "  <tbody>\n",
       "    <tr>\n",
       "      <th>0</th>\n",
       "      <td>10</td>\n",
       "      <td>0</td>\n",
       "    </tr>\n",
       "    <tr>\n",
       "      <th>1</th>\n",
       "      <td>7</td>\n",
       "      <td>1</td>\n",
       "    </tr>\n",
       "    <tr>\n",
       "      <th>2</th>\n",
       "      <td>20</td>\n",
       "      <td>7</td>\n",
       "    </tr>\n",
       "    <tr>\n",
       "      <th>3</th>\n",
       "      <td>14</td>\n",
       "      <td>2</td>\n",
       "    </tr>\n",
       "    <tr>\n",
       "      <th>4</th>\n",
       "      <td>14</td>\n",
       "      <td>3</td>\n",
       "    </tr>\n",
       "  </tbody>\n",
       "</table>\n",
       "</div>"
      ],
      "text/plain": [
       "   before_spr  after_spr\n",
       "0          10          0\n",
       "1           7          1\n",
       "2          20          7\n",
       "3          14          2\n",
       "4          14          3"
      ]
     },
     "execution_count": 33,
     "metadata": {},
     "output_type": "execute_result"
    }
   ],
   "source": [
    "import pandas as pd \n",
    "df = pd.read_csv(\"./data/insectsprays.csv\")\n",
    "df.head()"
   ]
  },
  {
   "cell_type": "markdown",
   "id": "95af2922-5538-4625-a640-a93b80ba9730",
   "metadata": {},
   "source": [
    "### 문제 1\n",
    "- 표본평균 $\\overline{\\mu_{d}}$의 표본 평균을 구하시오. (반올림하여 소숫점 둘째 자리까지 계산)"
   ]
  },
  {
   "cell_type": "code",
   "execution_count": 34,
   "id": "3d306ab6-1aad-42a7-8e7a-b8e667acfe13",
   "metadata": {},
   "outputs": [
    {
     "name": "stdout",
     "output_type": "stream",
     "text": [
      "-12.0\n"
     ]
    }
   ],
   "source": [
    "diff = df['after_spr'] - df['before_spr']\n",
    "print(round(diff.mean(), 2))"
   ]
  },
  {
   "cell_type": "markdown",
   "id": "26443d65-f986-478e-88a6-178a8441b619",
   "metadata": {},
   "source": [
    "### 문제 2\n",
    "- 위의 가설을 검정하기 위한 검정통계량을 구하시오. (반올림하여 소숫점 둘째 자리까지 계산)"
   ]
  },
  {
   "cell_type": "code",
   "execution_count": 35,
   "id": "ce726473-f83d-461c-a7fd-9ef0fb0a8267",
   "metadata": {},
   "outputs": [
    {
     "name": "stdout",
     "output_type": "stream",
     "text": [
      "14.8933 0.0\n"
     ]
    }
   ],
   "source": [
    "from scipy import stats\n",
    "from math import sqrt\n",
    "\n",
    "t_score, p_value = stats.ttest_rel(df['before_spr'], df['after_spr'])\n",
    "print(round(t_score, 4), round(p_value, 4))"
   ]
  },
  {
   "cell_type": "markdown",
   "id": "40aa376e-fbbc-4ae8-9c18-269fb71e4505",
   "metadata": {},
   "source": [
    "### 문제 3. \n",
    "- 위의 통계량에 대한 p-값을 구하고 (반올림하여 소숫점 넷째 자리까지 계산), 유의수준 0.05하에서 가설검정의 결과를 채택/기각 중 하나로 선택하시오.\n",
    "    + p-value에 값에 따른 결괏값을 조건문(if-else)으로 구하세요.  "
   ]
  },
  {
   "cell_type": "code",
   "execution_count": 36,
   "id": "f788c251-af30-439c-a3f3-2a0f66c732c7",
   "metadata": {},
   "outputs": [
    {
     "name": "stdout",
     "output_type": "stream",
     "text": [
      "0.0\n",
      "기각\n"
     ]
    }
   ],
   "source": [
    "print(round(p_value, 4))\n",
    "if p_value >= 0.05:\n",
    "    print(\"채택\")\n",
    "else:\n",
    "    print(\"기각\")"
   ]
  },
  {
   "cell_type": "markdown",
   "id": "00868629-7fb4-4459-bd45-e62c3345a41d",
   "metadata": {},
   "source": [
    "## 독립표본 T 검정\n",
    "- 주어진 데이터(data/toothgrowth.csv)에는 기니피그 60마리의 치아 길이, 투여한 비타민 C 종류, 투여량이 저장되어 있다.  오렌지주스를 투여받은 기니피그의 치아 길이 평균이 아스코르브산을 투여받은 기니피그의 치아 길이 평균과 일치하는지 t-검정(Two Sample t-test)를 통해 답하고자 한다. 가설은 아래와 같다. \n",
    "- 가설검정\n",
    "    + 귀무가설 : 투여한 약제별 치아의 길이는 같다. \n",
    "    + 대립가설 : 투여한 약제별 치아의 길이는 같지 않다. \n",
    "- 데이터의 변수\n",
    "    + len : 치아의 길이\n",
    "    + supp : 투여한 약제(VC: 아스코르브산, OJ: 오렌지주스)\n",
    "    + does : 투여량\n",
    "- 단, 데이터의 각 변수들은 정규분포를 만족한다. (등분산성 검정 진행하세요~)\n",
    "- 문제 1: 표본평균 $\\overline{X_{OJ}}$, $\\overline{X_{VC}}$를 구하시오.\n",
    "- 문제 2: 위의 가설을 검정하기 위한 검정통계량을 구하시오. (반올림하여 소숫점 둘째 자리까지 계산)\n",
    "- 문제 3: 위의 통계량에 대한 p-값을 구하고 (반올림하여 소숫점 넷째 자리까지 계산), 유의수준 0.05하에서 가설검정의 결과를 채택/기각 중 하나로 선택하시오. \n",
    "  + p-value에 값에 따른 결괏값을 조건문(if-else)으로 구하세요. "
   ]
  },
  {
   "cell_type": "markdown",
   "id": "2a96accd-742c-4b1a-b424-143252c1f3d9",
   "metadata": {},
   "source": [
    "### 데이터 불러오기"
   ]
  },
  {
   "cell_type": "code",
   "execution_count": 37,
   "id": "5c30bee5-d02a-4a88-b6ea-3e7b41c29337",
   "metadata": {},
   "outputs": [
    {
     "data": {
      "text/html": [
       "<div>\n",
       "<style scoped>\n",
       "    .dataframe tbody tr th:only-of-type {\n",
       "        vertical-align: middle;\n",
       "    }\n",
       "\n",
       "    .dataframe tbody tr th {\n",
       "        vertical-align: top;\n",
       "    }\n",
       "\n",
       "    .dataframe thead th {\n",
       "        text-align: right;\n",
       "    }\n",
       "</style>\n",
       "<table border=\"1\" class=\"dataframe\">\n",
       "  <thead>\n",
       "    <tr style=\"text-align: right;\">\n",
       "      <th></th>\n",
       "      <th>len</th>\n",
       "      <th>supp</th>\n",
       "      <th>dose</th>\n",
       "    </tr>\n",
       "  </thead>\n",
       "  <tbody>\n",
       "    <tr>\n",
       "      <th>0</th>\n",
       "      <td>4.2</td>\n",
       "      <td>VC</td>\n",
       "      <td>0.5</td>\n",
       "    </tr>\n",
       "    <tr>\n",
       "      <th>1</th>\n",
       "      <td>11.5</td>\n",
       "      <td>VC</td>\n",
       "      <td>0.5</td>\n",
       "    </tr>\n",
       "    <tr>\n",
       "      <th>2</th>\n",
       "      <td>7.3</td>\n",
       "      <td>VC</td>\n",
       "      <td>0.5</td>\n",
       "    </tr>\n",
       "    <tr>\n",
       "      <th>3</th>\n",
       "      <td>5.8</td>\n",
       "      <td>VC</td>\n",
       "      <td>0.5</td>\n",
       "    </tr>\n",
       "    <tr>\n",
       "      <th>4</th>\n",
       "      <td>6.4</td>\n",
       "      <td>VC</td>\n",
       "      <td>0.5</td>\n",
       "    </tr>\n",
       "  </tbody>\n",
       "</table>\n",
       "</div>"
      ],
      "text/plain": [
       "    len supp  dose\n",
       "0   4.2   VC   0.5\n",
       "1  11.5   VC   0.5\n",
       "2   7.3   VC   0.5\n",
       "3   5.8   VC   0.5\n",
       "4   6.4   VC   0.5"
      ]
     },
     "execution_count": 37,
     "metadata": {},
     "output_type": "execute_result"
    }
   ],
   "source": [
    "import pandas as pd \n",
    "df = pd.read_csv(\"./data/toothgrowth.csv\")\n",
    "df.head()"
   ]
  },
  {
   "cell_type": "markdown",
   "id": "cd8e7c64-9bcc-4da8-aaa8-76972177bb55",
   "metadata": {},
   "source": [
    "### 등분산성 검정\n",
    "- 독립표본 T-검정은 정규성 검정 뿐만 아니라, 두 그룹이 등분산성을 띠는지 확인하는 작업 필요\n",
    "- Levene 검정을 사용한 등분산성 검정이 선행되어야 함\n",
    "  + stats.levene() 함수 활용. 라이브러리 링크 : https://docs.scipy.org/doc/scipy/reference/generated/scipy.stats.levene.html\n",
    "- 가설설정\n",
    "  + 귀무가설 :\n",
    "  + 대립가설 :\n",
    "- pvalue 값 :"
   ]
  },
  {
   "cell_type": "code",
   "execution_count": 38,
   "id": "6bb00025-c818-4864-b99b-048982062f3a",
   "metadata": {},
   "outputs": [
    {
     "data": {
      "text/plain": [
       "LeveneResult(statistic=1.2135720656945064, pvalue=0.2751764616144052)"
      ]
     },
     "execution_count": 38,
     "metadata": {},
     "output_type": "execute_result"
    }
   ],
   "source": [
    "from scipy import stats\n",
    "stats.levene(df.loc[df['supp'] == \"VC\", 'len'], df.loc[df['supp'] == \"OJ\", 'len'])"
   ]
  },
  {
   "cell_type": "markdown",
   "id": "ba014b87-1a6e-47c4-9f67-24100fba3d99",
   "metadata": {},
   "source": [
    "### 문제 1\n",
    "- 표본평균 $\\overline{X_{OJ}}$, $\\overline{X_{VC}}$를 구하시오."
   ]
  },
  {
   "cell_type": "code",
   "execution_count": 39,
   "id": "295722d0-aa04-4db6-aaca-8940851f84b8",
   "metadata": {},
   "outputs": [
    {
     "data": {
      "text/plain": [
       "20.66"
      ]
     },
     "execution_count": 39,
     "metadata": {},
     "output_type": "execute_result"
    }
   ],
   "source": [
    "OJ_result = df.loc[df['supp'] == \"OJ\", 'len'].mean()\n",
    "round(OJ_result, 2)"
   ]
  },
  {
   "cell_type": "code",
   "execution_count": 40,
   "id": "c63c49d3-3bc3-49ec-b4c2-bf812c5bc75c",
   "metadata": {},
   "outputs": [
    {
     "data": {
      "text/plain": [
       "16.96"
      ]
     },
     "execution_count": 40,
     "metadata": {},
     "output_type": "execute_result"
    }
   ],
   "source": [
    "VC_result = df.loc[df['supp'] == \"VC\", 'len'].mean()\n",
    "round(VC_result, 2)"
   ]
  },
  {
   "cell_type": "markdown",
   "id": "eda01bba-7b43-4297-854c-972d0a3be572",
   "metadata": {},
   "source": [
    "### 문제 2\n",
    "- 위의 가설을 검정하기 위한 검정통계량을 구하시오. (반올림하여 소숫점 둘째 자리까지 계산)"
   ]
  },
  {
   "cell_type": "code",
   "execution_count": 41,
   "id": "c4cfef88-6826-480b-9cdf-8f33d518b296",
   "metadata": {},
   "outputs": [
    {
     "name": "stdout",
     "output_type": "stream",
     "text": [
      "-1.9153 0.06\n"
     ]
    }
   ],
   "source": [
    "from scipy import stats\n",
    "from math import sqrt\n",
    "\n",
    "t_score, p_value = stats.ttest_ind(df.loc[df['supp'] == \"VC\", 'len'], \n",
    "                                   df.loc[df['supp'] == \"OJ\", 'len'], equal_var = True)\n",
    "print(round(t_score, 4), round(p_value, 2))"
   ]
  },
  {
   "cell_type": "markdown",
   "id": "d5cfcd7a-8ea7-4b02-b8e9-dafca2d9b8a7",
   "metadata": {},
   "source": [
    "### 문제 3. \n",
    "- 위의 통계량에 대한 p-값을 구하고 (반올림하여 소숫점 넷째 자리까지 계산), 유의수준 0.05하에서 가설검정의 결과를 채택/기각 중 하나로 선택하시오.\n",
    "    + p-value에 값에 따른 결괏값을 조건문(if-else)으로 구하세요. "
   ]
  },
  {
   "cell_type": "code",
   "execution_count": 42,
   "id": "8b9759bc-64bc-4847-a8f8-da7d18291c3e",
   "metadata": {},
   "outputs": [
    {
     "name": "stdout",
     "output_type": "stream",
     "text": [
      "0.0604\n",
      "채택\n"
     ]
    }
   ],
   "source": [
    "print(round(p_value, 4))\n",
    "if p_value >= 0.05:\n",
    "    print(\"채택\")\n",
    "else:\n",
    "    print(\"기각\")"
   ]
  },
  {
   "cell_type": "markdown",
   "id": "e848b919-e0d9-44ae-9745-5f05621f6cf0",
   "metadata": {},
   "source": [
    "## 6회 기출문제\n",
    "- 주어진 데이터를 이용하여 항암제를 투여 받은 환자들의 부작용 분포와 감기약을 투여 받은 환자들의 부작용 분포간 차이가 있는지 확인하시오.\n",
    "- 감기약 투여 환자들의 부작용 발생 비율\n",
    "    + 아픔 5% / 조금아픔 10% / 속쓰림 15% / 무증상 70%\n",
    "- 항암제 투여 환자들의 관찰된 부작용"
   ]
  },
  {
   "cell_type": "markdown",
   "id": "2abad9f8-2a7a-4a81-8209-b8949b2eb843",
   "metadata": {},
   "source": [
    "### 데이터 불러오기"
   ]
  },
  {
   "cell_type": "code",
   "execution_count": 43,
   "id": "a86821b6-8c77-4a2e-adf0-e49882ee9c09",
   "metadata": {},
   "outputs": [
    {
     "name": "stdout",
     "output_type": "stream",
     "text": [
      "['무증상', '속쓰림', '무증상', '무증상', '조금아픔', '무증상', '조금아픔', '무증상', '조금아픔', '무증상', '아픔', '무증상', '조금아픔', '무증상', '아픔', '무증상', '속쓰림', '무증상', '아픔', '무증상']\n"
     ]
    }
   ],
   "source": [
    "import pandas as pd \n",
    "\n",
    "df = pd.read_csv(\"data/data_6_3_1.csv\")\n",
    "print(df['항암제'].values.tolist())"
   ]
  },
  {
   "cell_type": "markdown",
   "id": "90fdf565-2e3a-4dd0-8480-9c3ec5484e16",
   "metadata": {},
   "source": [
    "### 문제 1. 항암제 투여 환자들 중 '무증상' 비율을 0과 1사이로 구하시오. "
   ]
  },
  {
   "cell_type": "code",
   "execution_count": 44,
   "id": "f0775c44-e6f7-41e0-be97-84e0e6957f62",
   "metadata": {},
   "outputs": [
    {
     "data": {
      "text/plain": [
       "항암제\n",
       "무증상     0.55\n",
       "조금아픔    0.20\n",
       "아픔      0.15\n",
       "속쓰림     0.10\n",
       "Name: proportion, dtype: float64"
      ]
     },
     "execution_count": 44,
     "metadata": {},
     "output_type": "execute_result"
    }
   ],
   "source": [
    "df['항암제'].value_counts(normalize=True)"
   ]
  },
  {
   "cell_type": "code",
   "execution_count": 45,
   "id": "7d494964-6b58-49e2-9b42-4ddff8a5c5b1",
   "metadata": {},
   "outputs": [
    {
     "name": "stdout",
     "output_type": "stream",
     "text": [
      "0.55\n"
     ]
    }
   ],
   "source": [
    "result = df.loc[:, '항암제'].value_counts(normalize=True)\n",
    "print(result.iloc[0])"
   ]
  },
  {
   "cell_type": "code",
   "execution_count": 46,
   "id": "8c34a9c7-0977-4e09-be2c-d6a756af562b",
   "metadata": {},
   "outputs": [
    {
     "name": "stdout",
     "output_type": "stream",
     "text": [
      "0.55\n"
     ]
    }
   ],
   "source": [
    "cnt = df['항암제'] == '무증상'\n",
    "total = len(df['항암제'])\n",
    "result = sum(cnt) / total\n",
    "print(result)"
   ]
  },
  {
   "cell_type": "markdown",
   "id": "f2c260ff-0abf-4aa2-9b55-9e2a96d8d167",
   "metadata": {},
   "source": [
    "### 문제 2. 검정통계량\n",
    "- 감기약의 부작용 비율과 항암제의 관찰 값이 통계적으로 유의미하게 차이가 있는지 카이제곱 검정을 이용하여 검정통계량을 구하시오. (적합도 검정)\n",
    "- 가설검정\n",
    "    + 귀무가설 : 감기약의 부작용과 항암제의 부작용은 동일하다.\n",
    "    + 대립가설 : 감기약의 부작용과 항암제의 부작용은 다르다. "
   ]
  },
  {
   "cell_type": "code",
   "execution_count": 47,
   "id": "cba70811-db4f-4cc3-b8a6-35cc7b91b0df",
   "metadata": {},
   "outputs": [
    {
     "data": {
      "text/plain": [
       "항암제\n",
       "무증상     11\n",
       "조금아픔     4\n",
       "아픔       3\n",
       "속쓰림      2\n",
       "Name: count, dtype: int64"
      ]
     },
     "execution_count": 47,
     "metadata": {},
     "output_type": "execute_result"
    }
   ],
   "source": [
    "df['항암제'].value_counts()"
   ]
  },
  {
   "cell_type": "code",
   "execution_count": 48,
   "id": "d9a4b33d-e6f7-49c1-83d1-a2382156f848",
   "metadata": {},
   "outputs": [
    {
     "name": "stdout",
     "output_type": "stream",
     "text": [
      "[11, 4, 3, 2] [14.0, 2.0, 1.0, 3.0]\n"
     ]
    }
   ],
   "source": [
    "total = len(df['항암제'])\n",
    "ratios = [0.7, 0.1, 0.05, 0.15] # 무증상, 조금아픔, 아픔, 속쓰림\n",
    "val1 = df['항암제'].value_counts().to_list() # 무증상, 조금아픔, 아픔, 속쓰림\n",
    "val2 = [ratios[0] * total, ratios[1] * total, ratios[2] * total, ratios[3] * total]\n",
    "print(val1, val2) # 두 비율 비교"
   ]
  },
  {
   "cell_type": "code",
   "execution_count": 49,
   "id": "c6786b47-01ad-4c2c-9c41-d6db7d16ab75",
   "metadata": {},
   "outputs": [
    {
     "name": "stdout",
     "output_type": "stream",
     "text": [
      "6.976190476190475\n"
     ]
    }
   ],
   "source": [
    "import scipy.stats as stats\n",
    "statistic, pvalue = stats.chisquare(val1, val2)\n",
    "print(statistic)"
   ]
  },
  {
   "cell_type": "markdown",
   "id": "d49c797e-162b-4935-a9fa-3f2bacfddbb2",
   "metadata": {},
   "source": [
    "### 문제 3. P-value 구하기\n",
    "- p-value 값 구하기"
   ]
  },
  {
   "cell_type": "code",
   "execution_count": 50,
   "id": "3aab8110-5dbb-48cd-9f17-3346f5e59412",
   "metadata": {},
   "outputs": [
    {
     "name": "stdout",
     "output_type": "stream",
     "text": [
      "0.07266054733847582\n"
     ]
    }
   ],
   "source": [
    "print(pvalue)"
   ]
  }
 ],
 "metadata": {
  "kernelspec": {
   "display_name": "Python 3 (ipykernel)",
   "language": "python",
   "name": "python3"
  },
  "language_info": {
   "codemirror_mode": {
    "name": "ipython",
    "version": 3
   },
   "file_extension": ".py",
   "mimetype": "text/x-python",
   "name": "python",
   "nbconvert_exporter": "python",
   "pygments_lexer": "ipython3",
   "version": "3.10.11"
  }
 },
 "nbformat": 4,
 "nbformat_minor": 5
}
