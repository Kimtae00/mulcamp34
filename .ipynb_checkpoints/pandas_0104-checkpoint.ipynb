{
 "cells": [
  {
   "cell_type": "code",
   "execution_count": 1,
   "id": "366a3aed-700f-43d8-b5dd-7e0429d9be51",
   "metadata": {},
   "outputs": [],
   "source": [
    "# numpy 라이브러리 및 pandas 라이브러리 불러오기\n",
    "import numpy as np\n",
    "import pandas as pd"
   ]
  },
  {
   "cell_type": "code",
   "execution_count": null,
   "id": "9b88317a-79c8-42dc-a364-98c3e8d46e35",
   "metadata": {},
   "outputs": [],
   "source": []
  }
 ],
 "metadata": {
  "kernelspec": {
   "display_name": "Python 3 (ipykernel)",
   "language": "python",
   "name": "python3"
  },
  "language_info": {
   "codemirror_mode": {
    "name": "ipython",
    "version": 3
   },
   "file_extension": ".py",
   "mimetype": "text/x-python",
   "name": "python",
   "nbconvert_exporter": "python",
   "pygments_lexer": "ipython3",
   "version": "3.10.13"
  }
 },
 "nbformat": 4,
 "nbformat_minor": 5
}
