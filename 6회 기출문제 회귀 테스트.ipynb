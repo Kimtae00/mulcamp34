{
 "cells": [
  {
   "cell_type": "code",
   "execution_count": 2,
   "id": "a8dc2d26-dc79-44ac-9823-50386bfdbc4b",
   "metadata": {},
   "outputs": [
    {
     "name": "stdout",
     "output_type": "stream",
     "text": [
      "['무증상', '속쓰림', '무증상', '무증상', '조금아픔', '무증상', '조금아픔', '무증상', '조금아픔', '무증상', '아픔', '무증상', '조금아픔', '무증상', '아픔', '무증상', '속쓰림', '무증상', '아픔', '무증상']\n"
     ]
    }
   ],
   "source": [
    "import pandas as pd \n",
    "\n",
    "df = pd.read_csv(\"data_6_3_1.csv\")\n",
    "print(df['항암제'].values.tolist())"
   ]
  },
  {
   "cell_type": "markdown",
   "id": "99bd8eb4-2e96-4525-ab54-6d65201bc46f",
   "metadata": {},
   "source": [
    "### 문제 1. 항암제 투여 환자들 중 '무증상' 비율을 0과 1사이로 구하시오. "
   ]
  },
  {
   "cell_type": "code",
   "execution_count": 3,
   "id": "c1b7a8d2-b6cf-493f-8ad2-448d70116abf",
   "metadata": {},
   "outputs": [
    {
     "data": {
      "text/plain": [
       "항암제\n",
       "무증상     0.55\n",
       "조금아픔    0.20\n",
       "아픔      0.15\n",
       "속쓰림     0.10\n",
       "Name: proportion, dtype: float64"
      ]
     },
     "execution_count": 3,
     "metadata": {},
     "output_type": "execute_result"
    }
   ],
   "source": [
    "df['항암제'].value_counts(normalize=True)"
   ]
  },
  {
   "cell_type": "code",
   "execution_count": 4,
   "id": "29bd637a-b9be-499a-b58e-f7b064dd2890",
   "metadata": {},
   "outputs": [
    {
     "name": "stdout",
     "output_type": "stream",
     "text": [
      "0.55\n"
     ]
    },
    {
     "name": "stderr",
     "output_type": "stream",
     "text": [
      "/var/folders/kt/9_rb87_95nl_6glc6tz14j9m0000gn/T/ipykernel_61907/1578051067.py:1: FutureWarning: Series.__getitem__ treating keys as positions is deprecated. In a future version, integer keys will always be treated as labels (consistent with DataFrame behavior). To access a value by position, use `ser.iloc[pos]`\n",
      "  result = df['항암제'].value_counts(normalize=True)[0]\n"
     ]
    }
   ],
   "source": [
    "result = df['항암제'].value_counts(normalize=True)[0]\n",
    "print(result)"
   ]
  },
  {
   "cell_type": "code",
   "execution_count": 6,
   "id": "f3503eac-5aac-405e-962e-61a0952feb41",
   "metadata": {},
   "outputs": [
    {
     "name": "stdout",
     "output_type": "stream",
     "text": [
      "0.55\n"
     ]
    }
   ],
   "source": [
    "cnt = df['항암제'] == '무증상'\n",
    "total = len(df['항암제'])\n",
    "result = sum(cnt) / total\n",
    "print(result)"
   ]
  },
  {
   "cell_type": "markdown",
   "id": "76d19331-ea8a-4ff8-88c3-b1cc44c51cb4",
   "metadata": {},
   "source": [
    "### 문제 2. 검정통계량\n",
    "- 감기약의 부작용 비율과 항암제의 관찰 값이 통계적으로 유의미하게 차이가 있는지 카이제곱 검정을 이용하여 검정통계량을 구하시오. (적합도 검정)\n",
    "- 가설검정\n",
    "    + 귀무가설 : 감기약의 부작용과 항암제의 부작용은 동일하다.\n",
    "    + 대립가설 : 감기약의 부작용과 항암제의 부작용은 다르다. "
   ]
  },
  {
   "cell_type": "code",
   "execution_count": 26,
   "id": "89ef5718-2ea5-43bb-a865-ed0b1bf54573",
   "metadata": {},
   "outputs": [
    {
     "data": {
      "text/plain": [
       "항암제\n",
       "무증상     11\n",
       "조금아픔     4\n",
       "아픔       3\n",
       "속쓰림      2\n",
       "Name: count, dtype: int64"
      ]
     },
     "execution_count": 26,
     "metadata": {},
     "output_type": "execute_result"
    }
   ],
   "source": [
    "df['항암제'].value_counts()"
   ]
  },
  {
   "cell_type": "code",
   "execution_count": 29,
   "id": "f966eae6-ded7-41ce-8760-e977e24a0989",
   "metadata": {},
   "outputs": [
    {
     "name": "stdout",
     "output_type": "stream",
     "text": [
      "[11, 4, 3, 2] [14.0, 2.0, 1.0, 3.0]\n"
     ]
    }
   ],
   "source": [
    "total = len(df['항암제'])\n",
    "ratios = [0.7, 0.1, 0.05, 0.15] # 무증상, 조금아픔, 아픔, 속쓰림\n",
    "val1 = df['항암제'].value_counts().to_list() # 무증상, 조금아픔, 아픔, 속쓰림\n",
    "val2 = [ratios[0] * total, ratios[1] * total, ratios[2] * total, ratios[3] * total]\n",
    "print(val1, val2) # 두 비율 비교"
   ]
  },
  {
   "cell_type": "code",
   "execution_count": 30,
   "id": "0a0be938-c2b0-438a-a608-3eff9c26d2df",
   "metadata": {},
   "outputs": [
    {
     "name": "stdout",
     "output_type": "stream",
     "text": [
      "6.976190476190475\n"
     ]
    }
   ],
   "source": [
    "import scipy.stats as stats\n",
    "statistic, pvalue = stats.chisquare(val1, val2)\n",
    "print(statistic)"
   ]
  },
  {
   "cell_type": "markdown",
   "id": "0c967bbb-1a0c-4e91-8efc-222c866b2bbb",
   "metadata": {},
   "source": [
    "### 문제 3. P-value 구하기\n",
    "- p-value 값 구하기"
   ]
  },
  {
   "cell_type": "code",
   "execution_count": 32,
   "id": "3089a364-b348-4469-80b1-1f7b576cbce1",
   "metadata": {},
   "outputs": [
    {
     "name": "stdout",
     "output_type": "stream",
     "text": [
      "0.07266054733847582\n"
     ]
    }
   ],
   "source": [
    "print(pvalue)"
   ]
  },
  {
   "cell_type": "markdown",
   "id": "f93fef7d-6ba4-4f6e-969f-80c33f528c1b",
   "metadata": {},
   "source": [
    "## 유형 2\n",
    "- 주어진 데이터를 이용하여 다중선형회귀 문제를 해결하시오. "
   ]
  },
  {
   "cell_type": "code",
   "execution_count": 13,
   "id": "16ad8175-119c-41fd-833b-d92d545be54a",
   "metadata": {},
   "outputs": [
    {
     "data": {
      "text/html": [
       "<div>\n",
       "<style scoped>\n",
       "    .dataframe tbody tr th:only-of-type {\n",
       "        vertical-align: middle;\n",
       "    }\n",
       "\n",
       "    .dataframe tbody tr th {\n",
       "        vertical-align: top;\n",
       "    }\n",
       "\n",
       "    .dataframe thead th {\n",
       "        text-align: right;\n",
       "    }\n",
       "</style>\n",
       "<table border=\"1\" class=\"dataframe\">\n",
       "  <thead>\n",
       "    <tr style=\"text-align: right;\">\n",
       "      <th></th>\n",
       "      <th>Ozone</th>\n",
       "      <th>Solar</th>\n",
       "      <th>Wind</th>\n",
       "      <th>Temp</th>\n",
       "      <th>Month</th>\n",
       "      <th>Day</th>\n",
       "    </tr>\n",
       "  </thead>\n",
       "  <tbody>\n",
       "    <tr>\n",
       "      <th>0</th>\n",
       "      <td>41.0</td>\n",
       "      <td>190.0</td>\n",
       "      <td>7.4</td>\n",
       "      <td>67</td>\n",
       "      <td>5</td>\n",
       "      <td>1</td>\n",
       "    </tr>\n",
       "    <tr>\n",
       "      <th>1</th>\n",
       "      <td>36.0</td>\n",
       "      <td>118.0</td>\n",
       "      <td>8.0</td>\n",
       "      <td>72</td>\n",
       "      <td>5</td>\n",
       "      <td>2</td>\n",
       "    </tr>\n",
       "    <tr>\n",
       "      <th>2</th>\n",
       "      <td>12.0</td>\n",
       "      <td>149.0</td>\n",
       "      <td>12.6</td>\n",
       "      <td>74</td>\n",
       "      <td>5</td>\n",
       "      <td>3</td>\n",
       "    </tr>\n",
       "    <tr>\n",
       "      <th>3</th>\n",
       "      <td>18.0</td>\n",
       "      <td>313.0</td>\n",
       "      <td>11.5</td>\n",
       "      <td>62</td>\n",
       "      <td>5</td>\n",
       "      <td>4</td>\n",
       "    </tr>\n",
       "    <tr>\n",
       "      <th>4</th>\n",
       "      <td>NaN</td>\n",
       "      <td>NaN</td>\n",
       "      <td>14.3</td>\n",
       "      <td>56</td>\n",
       "      <td>5</td>\n",
       "      <td>5</td>\n",
       "    </tr>\n",
       "  </tbody>\n",
       "</table>\n",
       "</div>"
      ],
      "text/plain": [
       "   Ozone  Solar  Wind  Temp  Month  Day\n",
       "0   41.0  190.0   7.4    67      5    1\n",
       "1   36.0  118.0   8.0    72      5    2\n",
       "2   12.0  149.0  12.6    74      5    3\n",
       "3   18.0  313.0  11.5    62      5    4\n",
       "4    NaN    NaN  14.3    56      5    5"
      ]
     },
     "execution_count": 13,
     "metadata": {},
     "output_type": "execute_result"
    }
   ],
   "source": [
    "import pandas as pd \n",
    "\n",
    "df = pd.read_csv(\"data_6_3_2.csv\")\n",
    "df.head()"
   ]
  },
  {
   "cell_type": "markdown",
   "id": "69c025ea-01fb-421b-a777-16ecf02fe63b",
   "metadata": {},
   "source": [
    "### 문제 1. \n",
    "- 선형회귀 모델을 만들어 독립변수 Ozone의 회귀계수(Regression coefficient)를 구하시오.\n",
    "    + 독립변수 : Solar(태양 에너지), Wind(바람의 세기), Ozone(오존 농도)\n",
    "    + 종속변수 : Temp(온도)"
   ]
  },
  {
   "cell_type": "code",
   "execution_count": 15,
   "id": "64563267-c6c9-4f1e-bbed-bcdd751db652",
   "metadata": {},
   "outputs": [
    {
     "data": {
      "text/html": [
       "<table class=\"simpletable\">\n",
       "<caption>OLS Regression Results</caption>\n",
       "<tr>\n",
       "  <th>Dep. Variable:</th>          <td>Temp</td>       <th>  R-squared:         </th> <td>   0.500</td>\n",
       "</tr>\n",
       "<tr>\n",
       "  <th>Model:</th>                   <td>OLS</td>       <th>  Adj. R-squared:    </th> <td>   0.486</td>\n",
       "</tr>\n",
       "<tr>\n",
       "  <th>Method:</th>             <td>Least Squares</td>  <th>  F-statistic:       </th> <td>   35.65</td>\n",
       "</tr>\n",
       "<tr>\n",
       "  <th>Date:</th>             <td>Fri, 12 Jan 2024</td> <th>  Prob (F-statistic):</th> <td>4.73e-16</td>\n",
       "</tr>\n",
       "<tr>\n",
       "  <th>Time:</th>                 <td>13:20:28</td>     <th>  Log-Likelihood:    </th> <td> -368.79</td>\n",
       "</tr>\n",
       "<tr>\n",
       "  <th>No. Observations:</th>      <td>   111</td>      <th>  AIC:               </th> <td>   745.6</td>\n",
       "</tr>\n",
       "<tr>\n",
       "  <th>Df Residuals:</th>          <td>   107</td>      <th>  BIC:               </th> <td>   756.4</td>\n",
       "</tr>\n",
       "<tr>\n",
       "  <th>Df Model:</th>              <td>     3</td>      <th>                     </th>     <td> </td>   \n",
       "</tr>\n",
       "<tr>\n",
       "  <th>Covariance Type:</th>      <td>nonrobust</td>    <th>                     </th>     <td> </td>   \n",
       "</tr>\n",
       "</table>\n",
       "<table class=\"simpletable\">\n",
       "<tr>\n",
       "      <td></td>         <th>coef</th>     <th>std err</th>      <th>t</th>      <th>P>|t|</th>  <th>[0.025</th>    <th>0.975]</th>  \n",
       "</tr>\n",
       "<tr>\n",
       "  <th>Intercept</th> <td>   72.4186</td> <td>    3.216</td> <td>   22.522</td> <td> 0.000</td> <td>   66.044</td> <td>   78.793</td>\n",
       "</tr>\n",
       "<tr>\n",
       "  <th>Solar</th>     <td>    0.0073</td> <td>    0.008</td> <td>    0.948</td> <td> 0.345</td> <td>   -0.008</td> <td>    0.022</td>\n",
       "</tr>\n",
       "<tr>\n",
       "  <th>Wind</th>      <td>   -0.3229</td> <td>    0.233</td> <td>   -1.384</td> <td> 0.169</td> <td>   -0.785</td> <td>    0.139</td>\n",
       "</tr>\n",
       "<tr>\n",
       "  <th>Ozone</th>     <td>    0.1720</td> <td>    0.026</td> <td>    6.516</td> <td> 0.000</td> <td>    0.120</td> <td>    0.224</td>\n",
       "</tr>\n",
       "</table>\n",
       "<table class=\"simpletable\">\n",
       "<tr>\n",
       "  <th>Omnibus:</th>       <td> 6.409</td> <th>  Durbin-Watson:     </th> <td>   1.170</td>\n",
       "</tr>\n",
       "<tr>\n",
       "  <th>Prob(Omnibus):</th> <td> 0.041</td> <th>  Jarque-Bera (JB):  </th> <td>   6.615</td>\n",
       "</tr>\n",
       "<tr>\n",
       "  <th>Skew:</th>          <td>-0.591</td> <th>  Prob(JB):          </th> <td>  0.0366</td>\n",
       "</tr>\n",
       "<tr>\n",
       "  <th>Kurtosis:</th>      <td> 2.817</td> <th>  Cond. No.          </th> <td>1.05e+03</td>\n",
       "</tr>\n",
       "</table><br/><br/>Notes:<br/>[1] Standard Errors assume that the covariance matrix of the errors is correctly specified.<br/>[2] The condition number is large, 1.05e+03. This might indicate that there are<br/>strong multicollinearity or other numerical problems."
      ],
      "text/latex": [
       "\\begin{center}\n",
       "\\begin{tabular}{lclc}\n",
       "\\toprule\n",
       "\\textbf{Dep. Variable:}    &       Temp       & \\textbf{  R-squared:         } &     0.500   \\\\\n",
       "\\textbf{Model:}            &       OLS        & \\textbf{  Adj. R-squared:    } &     0.486   \\\\\n",
       "\\textbf{Method:}           &  Least Squares   & \\textbf{  F-statistic:       } &     35.65   \\\\\n",
       "\\textbf{Date:}             & Fri, 12 Jan 2024 & \\textbf{  Prob (F-statistic):} &  4.73e-16   \\\\\n",
       "\\textbf{Time:}             &     13:20:28     & \\textbf{  Log-Likelihood:    } &   -368.79   \\\\\n",
       "\\textbf{No. Observations:} &         111      & \\textbf{  AIC:               } &     745.6   \\\\\n",
       "\\textbf{Df Residuals:}     &         107      & \\textbf{  BIC:               } &     756.4   \\\\\n",
       "\\textbf{Df Model:}         &           3      & \\textbf{                     } &             \\\\\n",
       "\\textbf{Covariance Type:}  &    nonrobust     & \\textbf{                     } &             \\\\\n",
       "\\bottomrule\n",
       "\\end{tabular}\n",
       "\\begin{tabular}{lcccccc}\n",
       "                   & \\textbf{coef} & \\textbf{std err} & \\textbf{t} & \\textbf{P$> |$t$|$} & \\textbf{[0.025} & \\textbf{0.975]}  \\\\\n",
       "\\midrule\n",
       "\\textbf{Intercept} &      72.4186  &        3.216     &    22.522  &         0.000        &       66.044    &       78.793     \\\\\n",
       "\\textbf{Solar}     &       0.0073  &        0.008     &     0.948  &         0.345        &       -0.008    &        0.022     \\\\\n",
       "\\textbf{Wind}      &      -0.3229  &        0.233     &    -1.384  &         0.169        &       -0.785    &        0.139     \\\\\n",
       "\\textbf{Ozone}     &       0.1720  &        0.026     &     6.516  &         0.000        &        0.120    &        0.224     \\\\\n",
       "\\bottomrule\n",
       "\\end{tabular}\n",
       "\\begin{tabular}{lclc}\n",
       "\\textbf{Omnibus:}       &  6.409 & \\textbf{  Durbin-Watson:     } &    1.170  \\\\\n",
       "\\textbf{Prob(Omnibus):} &  0.041 & \\textbf{  Jarque-Bera (JB):  } &    6.615  \\\\\n",
       "\\textbf{Skew:}          & -0.591 & \\textbf{  Prob(JB):          } &   0.0366  \\\\\n",
       "\\textbf{Kurtosis:}      &  2.817 & \\textbf{  Cond. No.          } & 1.05e+03  \\\\\n",
       "\\bottomrule\n",
       "\\end{tabular}\n",
       "%\\caption{OLS Regression Results}\n",
       "\\end{center}\n",
       "\n",
       "Notes: \\newline\n",
       " [1] Standard Errors assume that the covariance matrix of the errors is correctly specified. \\newline\n",
       " [2] The condition number is large, 1.05e+03. This might indicate that there are \\newline\n",
       " strong multicollinearity or other numerical problems."
      ],
      "text/plain": [
       "<class 'statsmodels.iolib.summary.Summary'>\n",
       "\"\"\"\n",
       "                            OLS Regression Results                            \n",
       "==============================================================================\n",
       "Dep. Variable:                   Temp   R-squared:                       0.500\n",
       "Model:                            OLS   Adj. R-squared:                  0.486\n",
       "Method:                 Least Squares   F-statistic:                     35.65\n",
       "Date:                Fri, 12 Jan 2024   Prob (F-statistic):           4.73e-16\n",
       "Time:                        13:20:28   Log-Likelihood:                -368.79\n",
       "No. Observations:                 111   AIC:                             745.6\n",
       "Df Residuals:                     107   BIC:                             756.4\n",
       "Df Model:                           3                                         \n",
       "Covariance Type:            nonrobust                                         \n",
       "==============================================================================\n",
       "                 coef    std err          t      P>|t|      [0.025      0.975]\n",
       "------------------------------------------------------------------------------\n",
       "Intercept     72.4186      3.216     22.522      0.000      66.044      78.793\n",
       "Solar          0.0073      0.008      0.948      0.345      -0.008       0.022\n",
       "Wind          -0.3229      0.233     -1.384      0.169      -0.785       0.139\n",
       "Ozone          0.1720      0.026      6.516      0.000       0.120       0.224\n",
       "==============================================================================\n",
       "Omnibus:                        6.409   Durbin-Watson:                   1.170\n",
       "Prob(Omnibus):                  0.041   Jarque-Bera (JB):                6.615\n",
       "Skew:                          -0.591   Prob(JB):                       0.0366\n",
       "Kurtosis:                       2.817   Cond. No.                     1.05e+03\n",
       "==============================================================================\n",
       "\n",
       "Notes:\n",
       "[1] Standard Errors assume that the covariance matrix of the errors is correctly specified.\n",
       "[2] The condition number is large, 1.05e+03. This might indicate that there are\n",
       "strong multicollinearity or other numerical problems.\n",
       "\"\"\""
      ]
     },
     "execution_count": 15,
     "metadata": {},
     "output_type": "execute_result"
    }
   ],
   "source": [
    "# statsmodels 라이브러리의 ols 함수를 임포트합니다. \n",
    "# 이 함수는 'ordinary least squares' (OLS) 방법을 사용하는 선형회귀 모델을 만듭니다.\n",
    "from statsmodels.formula.api import ols\n",
    "import statsmodels.formula.api as smf\n",
    "\n",
    "# 코드\n",
    "# ols 함수를 사용하여 모델을 정의합니다. \n",
    "# 여기서 formula는 'Temp ~ Solar + Wind + Ozone'으로 설정됩니다. \n",
    "# 이는 'Temp'를 종속변수로, 'Solar', 'Wind', 'Ozone'을 독립변수로 설정합니다. 그 후 fit 메서드를 호출하여 데이터 df에 대해 모델을 적합시킵니다.\n",
    "# formula 생성 및 모델 피팅\n",
    "model = ols(formula = 'Temp ~ Solar + Wind + Ozone', data = df).fit()\n",
    "\n",
    "# 모델 요약 결과 출력\n",
    "model_summary = model.summary()\n",
    "model_summary"
   ]
  },
  {
   "cell_type": "markdown",
   "id": "cb7280be-b908-4eef-a1d6-ef3505412ec4",
   "metadata": {},
   "source": [
    "### 문제 2. \n",
    "- Solar와 Ozone은 고정, Wind가 증가함에 따라 Temp가 감소하는지 검증하기 위한 다중선형회귀 분석을 수행하여 Wind의 회귀계수에 대한 p-value를 구하시오. (유의수준 0.05)"
   ]
  },
  {
   "cell_type": "code",
   "execution_count": 19,
   "id": "e5f1d63f-1d76-4f62-a263-9d5bc9aac961",
   "metadata": {},
   "outputs": [
    {
     "data": {
      "text/plain": [
       "0.1690986859849834"
      ]
     },
     "execution_count": 19,
     "metadata": {},
     "output_type": "execute_result"
    }
   ],
   "source": [
    "# 코드\n",
    "from statsmodels.formula.api import ols\n",
    "\n",
    "# ols 함수로 모델을 생성 및 fit 메서드로 데이터에 적합시키기\n",
    "# 이때, 'Temp ~ Solar + Ozone + Wind'는 \n",
    "# 'Temp'를 종속변수(= 반응변수)로, \n",
    "# 'Solar', 'Ozone', 'Wind'를 독립변수(= 설명변수)로 사용하겠다는 의미\n",
    "model = ols('Temp ~ Solar + Ozone + Wind', data=df).fit()\n",
    "\n",
    "# 모델의 요약 결과를 출력하여 p-value를 확인\n",
    "# model_summary = model.summary()\n",
    "# print(model_summary)\n",
    "\n",
    "# Wind의 p-value 추출\n",
    "wind_pvalue = model.pvalues['Wind']\n",
    "wind_pvalue"
   ]
  },
  {
   "cell_type": "markdown",
   "id": "90a13381-0b75-44f0-b6d8-c5d2961540ad",
   "metadata": {},
   "source": [
    "### 문제 3. \n",
    "- Solar가 150, Wind가 7.5, Ozone이 45일 경우, 예측 값과 그에 대한 95% 신뢰구간을 구하시오. "
   ]
  },
  {
   "cell_type": "code",
   "execution_count": 64,
   "id": "87a79a92-060b-42b5-835b-f7d311e54154",
   "metadata": {
    "scrolled": true
   },
   "outputs": [
    {
     "name": "stdout",
     "output_type": "stream",
     "text": [
      "        mean   mean_se  mean_ci_lower  mean_ci_upper  obs_ci_lower  \\\n",
      "0  78.826312  0.864464      77.112614      80.540011     65.171661   \n",
      "\n",
      "   obs_ci_upper  \n",
      "0     92.480964  \n"
     ]
    }
   ],
   "source": [
    "# 코드 이건 풀지 마세요"
   ]
  },
  {
   "cell_type": "code",
   "execution_count": 17,
   "id": "fee0429b-f127-4525-adfa-3c86d22b921e",
   "metadata": {},
   "outputs": [
    {
     "data": {
      "text/plain": [
       "(78.82631230227973,\n",
       " obs_ci_lower    65.171661\n",
       " obs_ci_upper    92.480964\n",
       " Name: 0, dtype: float64)"
      ]
     },
     "execution_count": 17,
     "metadata": {},
     "output_type": "execute_result"
    }
   ],
   "source": [
    "import pandas as pd\n",
    "import statsmodels.formula.api as smf\n",
    "\n",
    "\n",
    "# 모델 적합\n",
    "model = smf.ols('Temp ~ Solar + Ozone + Wind', data=df).fit()\n",
    "\n",
    "# 예측을 위한 새로운 데이터프레임 생성\n",
    "new_data = pd.DataFrame({'Solar': [150], 'Wind': [7.5], 'Ozone': [45]})\n",
    "\n",
    "# 예측 값과 95% 신뢰구간 계산\n",
    "prediction = model.get_prediction(new_data)\n",
    "prediction_summary = prediction.summary_frame(alpha=0.05)  # 95% 신뢰구간\n",
    "\n",
    "# 결과 출력\n",
    "predicted_value = prediction_summary['mean'][0]\n",
    "confidence_interval = prediction_summary[['obs_ci_lower', 'obs_ci_upper']].iloc[0]\n",
    "predicted_value, confidence_interval"
   ]
  },
  {
   "cell_type": "code",
   "execution_count": null,
   "id": "c297188c-8787-4665-8ffb-fa2690892c57",
   "metadata": {},
   "outputs": [],
   "source": []
  }
 ],
 "metadata": {
  "kernelspec": {
   "display_name": "Python 3 (ipykernel)",
   "language": "python",
   "name": "python3"
  },
  "language_info": {
   "codemirror_mode": {
    "name": "ipython",
    "version": 3
   },
   "file_extension": ".py",
   "mimetype": "text/x-python",
   "name": "python",
   "nbconvert_exporter": "python",
   "pygments_lexer": "ipython3",
   "version": "3.10.13"
  }
 },
 "nbformat": 4,
 "nbformat_minor": 5
}
